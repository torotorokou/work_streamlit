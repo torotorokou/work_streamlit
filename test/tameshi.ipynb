{
 "cells": [
  {
   "cell_type": "code",
   "execution_count": 1,
   "id": "0abae3db",
   "metadata": {},
   "outputs": [],
   "source": [
    "from logic.config.main_paths import MainPaths"
   ]
  },
  {
   "cell_type": "code",
   "execution_count": 2,
   "id": "9722609f",
   "metadata": {},
   "outputs": [],
   "source": [
    "paths = MainPaths()"
   ]
  },
  {
   "cell_type": "code",
   "execution_count": 3,
   "id": "4082041d",
   "metadata": {},
   "outputs": [
    {
     "data": {
      "text/plain": [
       "PathAccessor:\n",
       "  csv_required_columns: config/csv_required_columns.csv\n",
       "  expected_dtypes: config/expected_dtypes.json\n",
       "  receive_header_definition: data/master/input_header_info.csv\n",
       "  unit_price_table: data/master/unit_price_table.csv"
      ]
     },
     "execution_count": 3,
     "metadata": {},
     "output_type": "execute_result"
    }
   ],
   "source": [
    "paths.csv"
   ]
  },
  {
   "cell_type": "code",
   "execution_count": 4,
   "id": "2006c290",
   "metadata": {},
   "outputs": [
    {
     "data": {
      "text/plain": [
       "PathAccessor:\n",
       "  app_setting: config/app/app_setting.yaml\n",
       "  csv_column_dtypes: config/csv_definitions/csv_column_dtypes.yaml\n",
       "  csv_required_columns: config/csv_definitions/csv_required_columns.yaml\n",
       "  csv_sources: config/csv_definitions/csv_sources.yaml\n",
       "  page_config: config/app/page_config.yaml\n",
       "  templates_config: config/templates/templates_config.yaml"
      ]
     },
     "execution_count": 4,
     "metadata": {},
     "output_type": "execute_result"
    }
   ],
   "source": [
    "paths.yaml_files"
   ]
  },
  {
   "cell_type": "code",
   "execution_count": 5,
   "id": "12cac314",
   "metadata": {},
   "outputs": [
    {
     "data": {
      "text/plain": [
       "{'csv_required_columns': PosixPath('config/csv_required_columns.csv'),\n",
       " 'expected_dtypes': PosixPath('config/expected_dtypes.json'),\n",
       " 'receive_header_definition': PosixPath('data/master/input_header_info.csv'),\n",
       " 'unit_price_table': PosixPath('data/master/unit_price_table.csv')}"
      ]
     },
     "execution_count": 5,
     "metadata": {},
     "output_type": "execute_result"
    }
   ],
   "source": [
    "paths.csv.as_dict()"
   ]
  },
  {
   "cell_type": "code",
   "execution_count": null,
   "id": "85607f75",
   "metadata": {},
   "outputs": [],
   "source": []
  }
 ],
 "metadata": {
  "kernelspec": {
   "display_name": "Python 3",
   "language": "python",
   "name": "python3"
  },
  "language_info": {
   "codemirror_mode": {
    "name": "ipython",
    "version": 3
   },
   "file_extension": ".py",
   "mimetype": "text/x-python",
   "name": "python",
   "nbconvert_exporter": "python",
   "pygments_lexer": "ipython3",
   "version": "3.10.17"
  }
 },
 "nbformat": 4,
 "nbformat_minor": 5
}
