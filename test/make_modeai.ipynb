{
 "cells": [
  {
   "cell_type": "code",
   "execution_count": 62,
   "id": "57e415a7",
   "metadata": {},
   "outputs": [],
   "source": [
    "import pandas as pd\n",
    "import numpy as np\n",
    "import matplotlib.pyplot as plt\n",
    "import seaborn as sns\n",
    "\n",
    "import warnings\n",
    "warnings.filterwarnings(\"ignore\", category=UserWarning)"
   ]
  },
  {
   "cell_type": "code",
   "execution_count": 63,
   "id": "dd494858",
   "metadata": {},
   "outputs": [
    {
     "data": {
      "application/vnd.microsoft.datawrangler.viewer.v0+json": {
       "columns": [
        {
         "name": "index",
         "rawType": "int64",
         "type": "integer"
        },
        {
         "name": "伝票日付",
         "rawType": "datetime64[ns]",
         "type": "datetime"
        },
        {
         "name": "正味重量",
         "rawType": "float64",
         "type": "float"
        },
        {
         "name": "品名",
         "rawType": "object",
         "type": "string"
        }
       ],
       "ref": "4b283be8-3ae7-41a0-9d95-f0f8e3482a08",
       "rows": [
        [
         "0",
         "2020-01-06 00:00:00",
         "470.0",
         "混合廃棄物B"
        ],
        [
         "1",
         "2020-01-06 00:00:00",
         "390.0",
         "その他"
        ],
        [
         "2",
         "2020-01-06 00:00:00",
         "120.0",
         "混合廃棄物A"
        ],
        [
         "3",
         "2020-01-06 00:00:00",
         "1720.0",
         "混合廃棄物B"
        ],
        [
         "4",
         "2020-01-06 00:00:00",
         "320.0",
         "選別"
        ],
        [
         "5",
         "2020-01-06 00:00:00",
         "740.0",
         "混合廃棄物A"
        ],
        [
         "6",
         "2020-01-06 00:00:00",
         "810.0",
         "混合廃棄物A"
        ],
        [
         "7",
         "2020-01-06 00:00:00",
         "20.0",
         "軽量物系　Ａ"
        ],
        [
         "8",
         "2020-01-06 00:00:00",
         "260.0",
         "混合廃棄物B"
        ],
        [
         "9",
         "2020-01-06 00:00:00",
         "20.0",
         "木くずA"
        ],
        [
         "10",
         "2020-01-06 00:00:00",
         "490.0",
         "混合廃棄物A"
        ],
        [
         "11",
         "2020-01-06 00:00:00",
         "290.0",
         "その他"
        ],
        [
         "12",
         "2020-01-06 00:00:00",
         "290.0",
         "その他"
        ],
        [
         "13",
         "2020-01-06 00:00:00",
         "330.0",
         "混合廃棄物A"
        ],
        [
         "14",
         "2020-01-06 00:00:00",
         "180.0",
         "混合廃棄物（焼却物）"
        ],
        [
         "15",
         "2020-01-06 00:00:00",
         "250.0",
         "混合廃棄物A"
        ],
        [
         "16",
         "2020-01-06 00:00:00",
         "230.0",
         "混合廃棄物A"
        ],
        [
         "17",
         "2020-01-06 00:00:00",
         "1690.0",
         "その他"
        ],
        [
         "18",
         "2020-01-06 00:00:00",
         "230.0",
         "その他"
        ],
        [
         "19",
         "2020-01-06 00:00:00",
         "1150.0",
         "混合廃棄物A"
        ],
        [
         "20",
         "2020-01-06 00:00:00",
         "60.0",
         "木くずA"
        ],
        [
         "21",
         "2020-01-06 00:00:00",
         "330.0",
         "混合廃棄物A"
        ],
        [
         "22",
         "2020-01-06 00:00:00",
         "2090.0",
         "混合廃棄物B"
        ],
        [
         "23",
         "2020-01-06 00:00:00",
         "700.0",
         "混合廃棄物A"
        ],
        [
         "24",
         "2020-01-06 00:00:00",
         "360.0",
         "混合廃棄物A"
        ],
        [
         "25",
         "2020-01-06 00:00:00",
         "1300.0",
         "混合廃棄物B"
        ],
        [
         "26",
         "2020-01-06 00:00:00",
         "770.0",
         "混合廃棄物A"
        ],
        [
         "27",
         "2020-01-06 00:00:00",
         "290.0",
         "混合廃棄物A"
        ],
        [
         "28",
         "2020-01-06 00:00:00",
         "140.0",
         "木くずA"
        ],
        [
         "29",
         "2020-01-06 00:00:00",
         "940.0",
         "混合廃棄物A"
        ],
        [
         "30",
         "2020-01-06 00:00:00",
         "150.0",
         "ＧＣ　軽鉄・スチ－ル類"
        ],
        [
         "31",
         "2020-01-06 00:00:00",
         "160.0",
         "混合廃棄物A"
        ],
        [
         "32",
         "2020-01-06 00:00:00",
         "460.0",
         "混合廃棄物A"
        ],
        [
         "33",
         "2020-01-06 00:00:00",
         "80.0",
         "混合廃棄物(ｿﾌｧｰ)"
        ],
        [
         "34",
         "2020-01-06 00:00:00",
         "110.0",
         "混合廃棄物（安定型）"
        ],
        [
         "35",
         "2020-01-06 00:00:00",
         "20.0",
         "選別"
        ],
        [
         "36",
         "2020-01-06 00:00:00",
         "30.0",
         "その他"
        ],
        [
         "37",
         "2020-01-06 00:00:00",
         "30.0",
         "混合廃棄物A"
        ],
        [
         "38",
         "2020-01-06 00:00:00",
         "150.0",
         "軽量物系　Ａ"
        ],
        [
         "39",
         "2020-01-06 00:00:00",
         "130.0",
         "混合廃棄物（安定型）"
        ],
        [
         "40",
         "2020-01-06 00:00:00",
         "160.0",
         "選別"
        ],
        [
         "41",
         "2020-01-06 00:00:00",
         "420.0",
         "混合廃棄物A"
        ],
        [
         "42",
         "2020-01-06 00:00:00",
         "1290.0",
         "混合廃棄物"
        ],
        [
         "43",
         "2020-01-06 00:00:00",
         "800.0",
         "混合廃棄物B"
        ],
        [
         "44",
         "2020-01-06 00:00:00",
         "390.0",
         "混合廃棄物A"
        ],
        [
         "45",
         "2020-01-06 00:00:00",
         "1070.0",
         "混合廃棄物B"
        ],
        [
         "46",
         "2020-01-06 00:00:00",
         "2830.0",
         "混合廃棄物A"
        ],
        [
         "47",
         "2020-01-06 00:00:00",
         "1580.0",
         "混合廃棄物A"
        ],
        [
         "48",
         "2020-01-06 00:00:00",
         "230.0",
         "混合廃棄物B"
        ],
        [
         "49",
         "2020-01-06 00:00:00",
         "430.0",
         "混合廃棄物A"
        ]
       ],
       "shape": {
        "columns": 3,
        "rows": 210749
       }
      },
      "text/html": [
       "<div>\n",
       "<style scoped>\n",
       "    .dataframe tbody tr th:only-of-type {\n",
       "        vertical-align: middle;\n",
       "    }\n",
       "\n",
       "    .dataframe tbody tr th {\n",
       "        vertical-align: top;\n",
       "    }\n",
       "\n",
       "    .dataframe thead th {\n",
       "        text-align: right;\n",
       "    }\n",
       "</style>\n",
       "<table border=\"1\" class=\"dataframe\">\n",
       "  <thead>\n",
       "    <tr style=\"text-align: right;\">\n",
       "      <th></th>\n",
       "      <th>伝票日付</th>\n",
       "      <th>正味重量</th>\n",
       "      <th>品名</th>\n",
       "    </tr>\n",
       "  </thead>\n",
       "  <tbody>\n",
       "    <tr>\n",
       "      <th>0</th>\n",
       "      <td>2020-01-06</td>\n",
       "      <td>470.0</td>\n",
       "      <td>混合廃棄物B</td>\n",
       "    </tr>\n",
       "    <tr>\n",
       "      <th>1</th>\n",
       "      <td>2020-01-06</td>\n",
       "      <td>390.0</td>\n",
       "      <td>その他</td>\n",
       "    </tr>\n",
       "    <tr>\n",
       "      <th>2</th>\n",
       "      <td>2020-01-06</td>\n",
       "      <td>120.0</td>\n",
       "      <td>混合廃棄物A</td>\n",
       "    </tr>\n",
       "    <tr>\n",
       "      <th>3</th>\n",
       "      <td>2020-01-06</td>\n",
       "      <td>1720.0</td>\n",
       "      <td>混合廃棄物B</td>\n",
       "    </tr>\n",
       "    <tr>\n",
       "      <th>4</th>\n",
       "      <td>2020-01-06</td>\n",
       "      <td>320.0</td>\n",
       "      <td>選別</td>\n",
       "    </tr>\n",
       "    <tr>\n",
       "      <th>...</th>\n",
       "      <td>...</td>\n",
       "      <td>...</td>\n",
       "      <td>...</td>\n",
       "    </tr>\n",
       "    <tr>\n",
       "      <th>210744</th>\n",
       "      <td>2025-05-26</td>\n",
       "      <td>350.0</td>\n",
       "      <td>混合廃棄物A</td>\n",
       "    </tr>\n",
       "    <tr>\n",
       "      <th>210745</th>\n",
       "      <td>2025-05-26</td>\n",
       "      <td>20.0</td>\n",
       "      <td>ﾀｲﾔ(ﾎｲﾙ無)</td>\n",
       "    </tr>\n",
       "    <tr>\n",
       "      <th>210746</th>\n",
       "      <td>2025-05-26</td>\n",
       "      <td>450.0</td>\n",
       "      <td>混合廃棄物A</td>\n",
       "    </tr>\n",
       "    <tr>\n",
       "      <th>210747</th>\n",
       "      <td>2025-05-26</td>\n",
       "      <td>430.0</td>\n",
       "      <td>混合廃棄物A</td>\n",
       "    </tr>\n",
       "    <tr>\n",
       "      <th>210748</th>\n",
       "      <td>2025-05-26</td>\n",
       "      <td>250.0</td>\n",
       "      <td>軽量物系B(ｸﾞﾗｽｳｰﾙ)</td>\n",
       "    </tr>\n",
       "  </tbody>\n",
       "</table>\n",
       "<p>210749 rows × 3 columns</p>\n",
       "</div>"
      ],
      "text/plain": [
       "             伝票日付    正味重量              品名\n",
       "0      2020-01-06   470.0          混合廃棄物B\n",
       "1      2020-01-06   390.0             その他\n",
       "2      2020-01-06   120.0          混合廃棄物A\n",
       "3      2020-01-06  1720.0          混合廃棄物B\n",
       "4      2020-01-06   320.0              選別\n",
       "...           ...     ...             ...\n",
       "210744 2025-05-26   350.0          混合廃棄物A\n",
       "210745 2025-05-26    20.0       ﾀｲﾔ(ﾎｲﾙ無)\n",
       "210746 2025-05-26   450.0          混合廃棄物A\n",
       "210747 2025-05-26   430.0          混合廃棄物A\n",
       "210748 2025-05-26   250.0  軽量物系B(ｸﾞﾗｽｳｰﾙ)\n",
       "\n",
       "[210749 rows x 3 columns]"
      ]
     },
     "execution_count": 63,
     "metadata": {},
     "output_type": "execute_result"
    }
   ],
   "source": [
    "df = pd.read_csv(\"/work/app/data/input/filtered_result.csv\")\n",
    "df[\"伝票日付\"] = pd.to_datetime(df[\"伝票日付\"], format=\"%Y-%m-%d\", errors=\"coerce\")\n",
    "df"
   ]
  },
  {
   "cell_type": "code",
   "execution_count": 64,
   "id": "7e0d8e69",
   "metadata": {},
   "outputs": [],
   "source": [
    "# === 必要なライブラリ ===\n",
    "import pandas as pd\n",
    "import numpy as np\n",
    "import lightgbm as lgb\n",
    "from sklearn.model_selection import TimeSeriesSplit\n",
    "from sklearn.metrics import mean_absolute_error, r2_score\n",
    "import matplotlib.pyplot as plt\n",
    "import jpholiday\n",
    "from lightgbm import early_stopping, log_evaluation\n",
    "\n",
    "# === 補助関数 ===\n",
    "\n",
    "# --- 祝日フラグ判定関数 ---\n",
    "def make_holiday_flag(date):\n",
    "    return int(jpholiday.is_holiday(date) or date.weekday() >= 5)\n",
    "\n",
    "# --- 品目分類関数 ---\n",
    "def classify_item(item: str) -> str:\n",
    "    if \"混合廃棄物A\" in item:\n",
    "        return \"混合A\"\n",
    "    elif \"混合廃棄物B\" in item:\n",
    "        return \"混合B\"\n",
    "    else:\n",
    "        return \"その他\"\n"
   ]
  },
  {
   "cell_type": "markdown",
   "id": "a960ce60",
   "metadata": {},
   "source": [
    "## 特徴量生成"
   ]
  },
  {
   "cell_type": "code",
   "execution_count": 65,
   "id": "feccd27e",
   "metadata": {},
   "outputs": [],
   "source": [
    "\n",
    "def add_previous_year_feature(df_pivot: pd.DataFrame) -> pd.DataFrame:\n",
    "    df_prev_year = df_pivot.copy()\n",
    "    df_prev_year.index = df_prev_year.index + pd.DateOffset(years=1)\n",
    "    df_prev_year_sum = df_prev_year.sum(axis=1).to_frame(name=\"前年同期重量\")\n",
    "    df_prev_year_sum = df_prev_year_sum.sort_index()\n",
    "\n",
    "    # 元 df_pivot に merge して \"前年同期重量\" を列として追加した DataFrame を返す\n",
    "    df_current = df_pivot.copy()\n",
    "    df_current = df_current.sort_index()\n",
    "    df_current = df_current.merge(\n",
    "        df_prev_year_sum,\n",
    "        how=\"left\",\n",
    "        left_index=True,\n",
    "        right_index=True\n",
    "    )\n",
    "\n",
    "    df_current[\"前年同期重量\"] = df_current[\"前年同期重量\"].fillna(0)\n",
    "\n",
    "    return df_current[[\"前年同期重量\"]]\n",
    "\n",
    "\n",
    "def compute_previous_year_ratio(df_pivot: pd.DataFrame) -> pd.DataFrame:\n",
    "    # 前年同期重量\n",
    "    df_prev_year_sum = add_previous_year_feature(df_pivot)\n",
    "\n",
    "    # 全体平均搬入量（前年のみ）\n",
    "    prev_year_dates = df_pivot.index - pd.DateOffset(years=1)\n",
    "    mask_prev_year = df_pivot.index.isin(prev_year_dates)\n",
    "    total_prev_year_weight = df_pivot.loc[mask_prev_year].sum(axis=1).mean()\n",
    "\n",
    "    # 比率 = 前年同期重量 / 前年平均\n",
    "    df_prev_year_sum[\"前年同期比率\"] = df_prev_year_sum[\"前年同期重量\"] / total_prev_year_weight\n",
    "    df_prev_year_sum[\"前年同期比率\"] = df_prev_year_sum[\"前年同期比率\"].fillna(0)\n",
    "\n",
    "    return df_prev_year_sum[[\"前年同期比率\"]]\n",
    "\n",
    "\n",
    "def add_holiday_adjacent_flag(dates: pd.Index) -> pd.Series:\n",
    "    # 祝日フラグ（あなたの make_holiday_flag を使う）\n",
    "    holiday_flags = dates.map(make_holiday_flag).astype(int)\n",
    "\n",
    "    # 連休前後フラグ初期化\n",
    "    adjacent_flags = np.zeros(len(dates), dtype=int)\n",
    "\n",
    "    # ループで前後判定\n",
    "    for i in range(1, len(dates) - 1):\n",
    "        # 連休中なら1\n",
    "        if holiday_flags[i] == 1:\n",
    "            adjacent_flags[i] = 1\n",
    "        # 連休前日\n",
    "        elif holiday_flags[i - 1] == 1:\n",
    "            adjacent_flags[i] = 1\n",
    "        # 連休翌日\n",
    "        elif holiday_flags[i + 1] == 1:\n",
    "            adjacent_flags[i] = 1\n",
    "\n",
    "    return pd.Series(adjacent_flags, index=dates, name=\"連休前後フラグ\")\n",
    "\n",
    "def add_month_start_end_flags(dates: pd.Index) -> pd.DataFrame:\n",
    "    df = pd.DataFrame(index=dates)\n",
    "    df[\"day\"] = dates.day\n",
    "    df[\"days_in_month\"] = dates.days_in_month\n",
    "\n",
    "    df[\"月初フラグ\"] = (df[\"day\"] <= 3).astype(int)\n",
    "    df[\"月末フラグ\"] = (df[\"days_in_month\"] - df[\"day\"] <= 2).astype(int)\n",
    "\n",
    "    return df[[\"月初フラグ\", \"月末フラグ\"]]\n"
   ]
  },
  {
   "cell_type": "code",
   "execution_count": 66,
   "id": "c5d14ae1",
   "metadata": {},
   "outputs": [],
   "source": [
    "def prepare_features(df: pd.DataFrame) -> tuple[pd.DataFrame, pd.Series]:\n",
    "    df = df.copy()\n",
    "    df[\"伝票日付\"] = pd.to_datetime(df[\"伝票日付\"])\n",
    "    df[\"品目分類\"] = df[\"品名\"].apply(classify_item)\n",
    "\n",
    "    df_daily = df.groupby([\"伝票日付\", \"品目分類\"])[\"正味重量\"].sum().reset_index()\n",
    "    df_pivot = df_daily.pivot(index=\"伝票日付\", columns=\"品目分類\", values=\"正味重量\").fillna(0)\n",
    "    df_pivot = df_pivot.sort_index()\n",
    "\n",
    "    df_feat = df_pivot.copy()\n",
    "    df_feat[\"曜日\"] = df_feat.index.dayofweek\n",
    "    df_feat[\"月\"] = df_feat.index.month\n",
    "    df_feat[\"祝日フラグ\"] = df_feat.index.map(make_holiday_flag)\n",
    "    df_feat[\"前日合計\"] = df_pivot.sum(axis=1).shift(1)\n",
    "\n",
    "    for col in df_pivot.columns:\n",
    "        df_feat[f\"前日_{col}\"] = df_pivot[col].shift(1)\n",
    "\n",
    "    # --- 前年同期重量 merge ---\n",
    "    df_feat = df_feat.merge(\n",
    "        add_previous_year_feature(df_pivot),\n",
    "        how=\"left\",\n",
    "        left_index=True,\n",
    "        right_index=True\n",
    "    )\n",
    "    df_feat[\"前年同期重量\"] = df_feat[\"前年同期重量\"].fillna(0)\n",
    "\n",
    "    # 月初／月末フラグ\n",
    "    df_feat = df_feat.merge(\n",
    "        add_month_start_end_flags(df_feat.index),\n",
    "        how=\"left\",\n",
    "        left_index=True,\n",
    "        right_index=True\n",
    "    )\n",
    "\n",
    "    # --- 連休前後フラグ（reset_index前に付ける！）---\n",
    "    df_feat[\"連休前後フラグ\"] = add_holiday_adjacent_flag(df_feat.index)\n",
    "\n",
    "    # --- 目的変数（翌日合計重量）---\n",
    "    df_feat[\"翌日合計\"] = df_pivot.sum(axis=1).shift(-1)\n",
    "\n",
    "    # --- 最後に dropna + reset_index ---\n",
    "    df_feat = df_feat.dropna().reset_index()\n",
    "\n",
    "    X = df_feat.drop(columns=[\"伝票日付\", \"翌日合計\"])\n",
    "    y = df_feat[\"翌日合計\"]\n",
    "\n",
    "    return X, y"
   ]
  },
  {
   "cell_type": "markdown",
   "id": "a256bf74",
   "metadata": {},
   "source": [
    "## モデル処理"
   ]
  },
  {
   "cell_type": "code",
   "execution_count": 67,
   "id": "3937b411",
   "metadata": {},
   "outputs": [],
   "source": [
    "\n",
    "# --- Fold単位の学習・評価 ---\n",
    "def train_and_evaluate_fold(fold, X_train, X_test, y_train, y_test):\n",
    "    # --- LightGBMデータセット ---\n",
    "    lgb_train = lgb.Dataset(X_train, y_train)\n",
    "    lgb_eval = lgb.Dataset(X_test, y_test, reference=lgb_train)\n",
    "    \n",
    "    # --- パラメータ ---\n",
    "    params = {\n",
    "        \"objective\": \"regression\",\n",
    "        \"metric\": \"mae\",\n",
    "        \"verbosity\": -1,\n",
    "        \"boosting_type\": \"gbdt\",\n",
    "        \"learning_rate\": 0.05,\n",
    "        \"num_leaves\": 31,\n",
    "        \"max_depth\": 7,\n",
    "        \"min_data_in_leaf\": 20,\n",
    "        \"feature_fraction\": 0.8,\n",
    "        \"bagging_fraction\": 0.8,\n",
    "        \"bagging_freq\": 5,\n",
    "    }\n",
    "    \n",
    "    # --- 学習 ---\n",
    "    model = lgb.train(\n",
    "        params,\n",
    "        lgb_train,\n",
    "        valid_sets=[lgb_train, lgb_eval],\n",
    "        num_boost_round=2000,\n",
    "        callbacks=[\n",
    "            early_stopping(stopping_rounds=100),\n",
    "            log_evaluation(period=100),\n",
    "        ],\n",
    "    )\n",
    "    \n",
    "    # --- 学習データ側の評価 ---\n",
    "    y_train_pred = model.predict(X_train)\n",
    "    r2_train = r2_score(y_train, y_train_pred)\n",
    "    \n",
    "    # --- テストデータ側の評価 ---\n",
    "    y_pred = model.predict(X_test)\n",
    "    mae = mean_absolute_error(y_test, y_pred)\n",
    "    r2_test = r2_score(y_test, y_pred)\n",
    "    \n",
    "    # --- 結果表示 ---\n",
    "    print(f\"\\n📂 Fold {fold+1}\")\n",
    "    print(f\"📊 MAE:       {mae:.2f} kg\")\n",
    "    print(f\"📊 Train R²:  {r2_train:.4f}\")\n",
    "    print(f\"📊 Test  R²:  {r2_test:.4f}\")\n",
    "    \n",
    "    return mae, r2_train, r2_test\n",
    "\n",
    "# --- Fold平均結果出力 ---\n",
    "def print_fold_summary(mae_list, r2_train_list, r2_test_list):\n",
    "    print(\"\\n✅ 全Fold平均MAE: {:.2f} kg\".format(np.mean(mae_list)))\n",
    "    print(\"✅ 全Fold平均Train R²: {:.4f}\".format(np.mean(r2_train_list)))\n",
    "    print(\"✅ 全Fold平均Test  R²: {:.4f}\".format(np.mean(r2_test_list)))\n",
    "    print(\"\")\n"
   ]
  },
  {
   "cell_type": "markdown",
   "id": "d9ea33bc",
   "metadata": {},
   "source": [
    "## メイン処理"
   ]
  },
  {
   "cell_type": "code",
   "execution_count": 68,
   "id": "b2551da3",
   "metadata": {},
   "outputs": [
    {
     "name": "stdout",
     "output_type": "stream",
     "text": [
      "Training until validation scores don't improve for 100 rounds\n",
      "[100]\ttraining's l1: 8653.35\tvalid_1's l1: 13314.2\n",
      "Early stopping, best iteration is:\n",
      "[44]\ttraining's l1: 10689.8\tvalid_1's l1: 12647.7\n",
      "\n",
      "📂 Fold 1\n",
      "📊 MAE:       12647.65 kg\n",
      "📊 Train R²:  0.6807\n",
      "📊 Test  R²:  0.5018\n",
      "Training until validation scores don't improve for 100 rounds\n",
      "[100]\ttraining's l1: 8255.34\tvalid_1's l1: 15280.9\n",
      "Early stopping, best iteration is:\n",
      "[54]\ttraining's l1: 9989.23\tvalid_1's l1: 14981.4\n",
      "\n",
      "📂 Fold 2\n",
      "📊 MAE:       14981.43 kg\n",
      "📊 Train R²:  0.6985\n",
      "📊 Test  R²:  0.5151\n",
      "Training until validation scores don't improve for 100 rounds\n",
      "[100]\ttraining's l1: 8700.21\tvalid_1's l1: 13070\n",
      "Early stopping, best iteration is:\n",
      "[55]\ttraining's l1: 10201.8\tvalid_1's l1: 12705.3\n",
      "\n",
      "📂 Fold 3\n",
      "📊 MAE:       12705.32 kg\n",
      "📊 Train R²:  0.7097\n",
      "📊 Test  R²:  0.5767\n",
      "Training until validation scores don't improve for 100 rounds\n",
      "[100]\ttraining's l1: 8670.91\tvalid_1's l1: 11660.4\n",
      "Early stopping, best iteration is:\n",
      "[60]\ttraining's l1: 9906.24\tvalid_1's l1: 11419.3\n",
      "\n",
      "📂 Fold 4\n",
      "📊 MAE:       11419.26 kg\n",
      "📊 Train R²:  0.7272\n",
      "📊 Test  R²:  0.5781\n",
      "Training until validation scores don't improve for 100 rounds\n",
      "[100]\ttraining's l1: 8778.02\tvalid_1's l1: 13522.9\n",
      "Early stopping, best iteration is:\n",
      "[62]\ttraining's l1: 9708.71\tvalid_1's l1: 13247.1\n",
      "\n",
      "📂 Fold 5\n",
      "📊 MAE:       13247.07 kg\n",
      "📊 Train R²:  0.7306\n",
      "📊 Test  R²:  0.5298\n",
      "\n",
      "✅ 全Fold平均MAE: 13000.15 kg\n",
      "✅ 全Fold平均Train R²: 0.7093\n",
      "✅ 全Fold平均Test  R²: 0.5403\n",
      "\n"
     ]
    }
   ],
   "source": [
    "\n",
    "# === メイン処理 ===\n",
    "\n",
    "# --- データ読み込み（ここはあなたの元の df を用意しておく） ---\n",
    "# 例: df = pd.read_csv(\"your_data.csv\")\n",
    "# 今回は既に df が定義済みとして進めます\n",
    "\n",
    "X, y = prepare_features(df)\n",
    "\n",
    "# --- TimeSeriesSplit設定 ---\n",
    "tscv = TimeSeriesSplit(n_splits=5)\n",
    "\n",
    "# --- foldごとの評価用 ---\n",
    "fold_mae_list = []\n",
    "fold_r2_train_list = []\n",
    "fold_r2_test_list = []\n",
    "\n",
    "# --- モデルループ ---\n",
    "for fold, (train_index, test_index) in enumerate(tscv.split(X)):\n",
    "    X_train, X_test = X.iloc[train_index], X.iloc[test_index]\n",
    "    y_train, y_test = y.iloc[train_index], y.iloc[test_index]\n",
    "    \n",
    "    mae, r2_train, r2_test = train_and_evaluate_fold(fold, X_train, X_test, y_train, y_test)\n",
    "    \n",
    "    fold_mae_list.append(mae)\n",
    "    fold_r2_train_list.append(r2_train)\n",
    "    fold_r2_test_list.append(r2_test)\n",
    "\n",
    "# --- 結果まとめ表示 ---\n",
    "print_fold_summary(fold_mae_list, fold_r2_train_list, fold_r2_test_list)\n"
   ]
  }
 ],
 "metadata": {
  "kernelspec": {
   "display_name": "Python 3",
   "language": "python",
   "name": "python3"
  },
  "language_info": {
   "codemirror_mode": {
    "name": "ipython",
    "version": 3
   },
   "file_extension": ".py",
   "mimetype": "text/x-python",
   "name": "python",
   "nbconvert_exporter": "python",
   "pygments_lexer": "ipython3",
   "version": "3.10.17"
  }
 },
 "nbformat": 4,
 "nbformat_minor": 5
}
