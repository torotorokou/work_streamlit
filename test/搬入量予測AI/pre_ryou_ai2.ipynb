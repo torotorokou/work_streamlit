{
 "cells": [
  {
   "cell_type": "markdown",
   "metadata": {},
   "source": [
    "# データ読込"
   ]
  },
  {
   "cell_type": "code",
   "execution_count": 1,
   "metadata": {},
   "outputs": [
    {
     "name": "stdout",
     "output_type": "stream",
     "text": [
      "最小日付: 2024-05-01 00:00:00, 最大日付: 2025-06-23 00:00:00\n"
     ]
    },
    {
     "data": {
      "application/vnd.microsoft.datawrangler.viewer.v0+json": {
       "columns": [
        {
         "name": "index",
         "rawType": "int64",
         "type": "integer"
        },
        {
         "name": "伝票日付",
         "rawType": "datetime64[ns]",
         "type": "datetime"
        },
        {
         "name": "品名",
         "rawType": "object",
         "type": "string"
        },
        {
         "name": "正味重量",
         "rawType": "float64",
         "type": "float"
        },
        {
         "name": "祝日フラグ",
         "rawType": "int64",
         "type": "integer"
        }
       ],
       "ref": "1373a4e8-21f6-429a-86fe-e6b981abac7d",
       "rows": [
        [
         "0",
         "2024-05-01 00:00:00",
         "混合廃棄物A",
         "1620.0",
         "0"
        ],
        [
         "1",
         "2024-05-01 00:00:00",
         "混合廃棄物A",
         "1840.0",
         "0"
        ],
        [
         "2",
         "2024-05-01 00:00:00",
         "混合廃棄物A",
         "1730.0",
         "0"
        ],
        [
         "3",
         "2024-05-01 00:00:00",
         "混合廃棄物B",
         "2000.0",
         "0"
        ],
        [
         "4",
         "2024-05-01 00:00:00",
         "混合廃棄物A",
         "360.0",
         "0"
        ]
       ],
       "shape": {
        "columns": 4,
        "rows": 5
       }
      },
      "text/html": [
       "<div>\n",
       "<style scoped>\n",
       "    .dataframe tbody tr th:only-of-type {\n",
       "        vertical-align: middle;\n",
       "    }\n",
       "\n",
       "    .dataframe tbody tr th {\n",
       "        vertical-align: top;\n",
       "    }\n",
       "\n",
       "    .dataframe thead th {\n",
       "        text-align: right;\n",
       "    }\n",
       "</style>\n",
       "<table border=\"1\" class=\"dataframe\">\n",
       "  <thead>\n",
       "    <tr style=\"text-align: right;\">\n",
       "      <th></th>\n",
       "      <th>伝票日付</th>\n",
       "      <th>品名</th>\n",
       "      <th>正味重量</th>\n",
       "      <th>祝日フラグ</th>\n",
       "    </tr>\n",
       "  </thead>\n",
       "  <tbody>\n",
       "    <tr>\n",
       "      <th>0</th>\n",
       "      <td>2024-05-01</td>\n",
       "      <td>混合廃棄物A</td>\n",
       "      <td>1620.0</td>\n",
       "      <td>0</td>\n",
       "    </tr>\n",
       "    <tr>\n",
       "      <th>1</th>\n",
       "      <td>2024-05-01</td>\n",
       "      <td>混合廃棄物A</td>\n",
       "      <td>1840.0</td>\n",
       "      <td>0</td>\n",
       "    </tr>\n",
       "    <tr>\n",
       "      <th>2</th>\n",
       "      <td>2024-05-01</td>\n",
       "      <td>混合廃棄物A</td>\n",
       "      <td>1730.0</td>\n",
       "      <td>0</td>\n",
       "    </tr>\n",
       "    <tr>\n",
       "      <th>3</th>\n",
       "      <td>2024-05-01</td>\n",
       "      <td>混合廃棄物B</td>\n",
       "      <td>2000.0</td>\n",
       "      <td>0</td>\n",
       "    </tr>\n",
       "    <tr>\n",
       "      <th>4</th>\n",
       "      <td>2024-05-01</td>\n",
       "      <td>混合廃棄物A</td>\n",
       "      <td>360.0</td>\n",
       "      <td>0</td>\n",
       "    </tr>\n",
       "  </tbody>\n",
       "</table>\n",
       "</div>"
      ],
      "text/plain": [
       "        伝票日付      品名    正味重量  祝日フラグ\n",
       "0 2024-05-01  混合廃棄物A  1620.0      0\n",
       "1 2024-05-01  混合廃棄物A  1840.0      0\n",
       "2 2024-05-01  混合廃棄物A  1730.0      0\n",
       "3 2024-05-01  混合廃棄物B  2000.0      0\n",
       "4 2024-05-01  混合廃棄物A   360.0      0"
      ]
     },
     "execution_count": 1,
     "metadata": {},
     "output_type": "execute_result"
    }
   ],
   "source": [
    "import pandas as pd\n",
    "from logic.factory_manage.sql import load_data_from_sqlite\n",
    "from utils.get_holydays import get_japanese_holidays\n",
    "from logic.factory_manage.predict_model_v3 import generate_features, train_and_predict\n",
    "\n",
    "# CSVファイル読み込み（パスは適宜変更）\n",
    "path = \"/work/app/data/factory_manage/weight_data.db\"\n",
    "df = load_data_from_sqlite()\n",
    "df[\"伝票日付\"].max()\n",
    "\n",
    "hol_max = df[\"伝票日付\"].max()\n",
    "hol_min = df[\"伝票日付\"].min()\n",
    "print(f\"最小日付: {hol_min}, 最大日付: {hol_max}\")\n",
    "holiday = get_japanese_holidays(hol_min, hol_max)\n",
    "df.head()"
   ]
  },
  {
   "cell_type": "code",
   "execution_count": 2,
   "metadata": {},
   "outputs": [
    {
     "name": "stdout",
     "output_type": "stream",
     "text": [
      "品名\n",
      "混合廃棄物A          14973160.0\n",
      "混合廃棄物B           3876330.0\n",
      "GC 軽鉄･ｽﾁｰﾙ類      2463090.0\n",
      "選別               1524260.0\n",
      "木くず              1402530.0\n",
      "                   ...    \n",
      "混合廃棄物A(廃ﾌﾟﾗ)          30.0\n",
      "雑誌                    30.0\n",
      "選別（水銀灯）               30.0\n",
      "ﾀｲﾔ                   20.0\n",
      "混合廃棄物(羽毛)             10.0\n",
      "Name: 正味重量, Length: 156, dtype: float64\n"
     ]
    }
   ],
   "source": [
    "# 品目別合計重量を集計\n",
    "item_totals = df.groupby(\"品名\")[\"正味重量\"].sum().sort_values(ascending=False)\n",
    "\n",
    "print(item_totals)\n"
   ]
  },
  {
   "cell_type": "code",
   "execution_count": 3,
   "metadata": {},
   "outputs": [
    {
     "data": {
      "application/vnd.microsoft.datawrangler.viewer.v0+json": {
       "columns": [
        {
         "name": "index",
         "rawType": "int64",
         "type": "integer"
        },
        {
         "name": "予約日",
         "rawType": "datetime64[ns]",
         "type": "datetime"
        },
        {
         "name": "予約得意先名",
         "rawType": "object",
         "type": "string"
        },
        {
         "name": "固定客",
         "rawType": "bool",
         "type": "boolean"
        }
       ],
       "ref": "fdd64e7b-a60d-4f56-929e-3e06f41ffb32",
       "rows": [
        [
         "0",
         "2025-03-02 00:00:00",
         "泉土木",
         "True"
        ],
        [
         "1",
         "2025-03-02 00:00:00",
         "ASMU",
         "False"
        ],
        [
         "2",
         "2025-03-02 00:00:00",
         "青木サービス",
         "False"
        ],
        [
         "3",
         "2025-03-02 00:00:00",
         "オネストワン",
         "False"
        ],
        [
         "4",
         "2025-03-02 00:00:00",
         "おかたずけ田中くん",
         "False"
        ],
        [
         "5",
         "2025-03-02 00:00:00",
         "金澤運輸",
         "False"
        ],
        [
         "6",
         "2025-03-02 00:00:00",
         "銀座急送",
         "True"
        ],
        [
         "7",
         "2025-03-02 00:00:00",
         "グロリアスジャパン",
         "False"
        ],
        [
         "8",
         "2025-03-02 00:00:00",
         "クリエイション",
         "False"
        ],
        [
         "9",
         "2025-03-02 00:00:00",
         "ＫＮＳ",
         "True"
        ],
        [
         "10",
         "2025-03-02 00:00:00",
         "コトブキシーティング",
         "False"
        ],
        [
         "11",
         "2025-03-02 00:00:00",
         "ゴン",
         "True"
        ],
        [
         "12",
         "2025-03-02 00:00:00",
         "近藤土木",
         "False"
        ],
        [
         "13",
         "2025-03-02 00:00:00",
         "佐富工業",
         "True"
        ],
        [
         "14",
         "2025-03-02 00:00:00",
         "三美社",
         "True"
        ],
        [
         "15",
         "2025-03-02 00:00:00",
         "サンテクノ",
         "False"
        ],
        [
         "16",
         "2025-03-02 00:00:00",
         "宗徳環境",
         "True"
        ],
        [
         "17",
         "2025-03-02 00:00:00",
         "SUR",
         "True"
        ],
        [
         "18",
         "2025-03-02 00:00:00",
         "ダスト商会",
         "True"
        ],
        [
         "19",
         "2025-03-02 00:00:00",
         "つばさ産業",
         "False"
        ],
        [
         "20",
         "2025-03-02 00:00:00",
         "永田興業",
         "False"
        ],
        [
         "21",
         "2025-03-02 00:00:00",
         "ハルバエヤ",
         "True"
        ],
        [
         "22",
         "2025-03-02 00:00:00",
         "ビクトリー解体",
         "True"
        ],
        [
         "23",
         "2025-03-02 00:00:00",
         "フロンティア",
         "True"
        ],
        [
         "24",
         "2025-03-02 00:00:00",
         "まごのて",
         "True"
        ],
        [
         "25",
         "2025-03-02 00:00:00",
         "マインドカンパニー",
         "True"
        ],
        [
         "26",
         "2025-03-02 00:00:00",
         "MINO",
         "True"
        ],
        [
         "27",
         "2025-03-02 00:00:00",
         "谷津商会",
         "False"
        ],
        [
         "28",
         "2025-03-02 00:00:00",
         "友進",
         "True"
        ],
        [
         "29",
         "2025-03-02 00:00:00",
         "リクリーンサービス",
         "False"
        ],
        [
         "30",
         "2025-03-02 00:00:00",
         "ワンズライフ",
         "True"
        ],
        [
         "31",
         "2025-03-02 00:00:00",
         "ワイズ",
         "True"
        ],
        [
         "32",
         "2025-03-02 00:00:00",
         "Y-maxx",
         "True"
        ],
        [
         "33",
         "2025-03-03 00:00:00",
         "朝倉商店",
         "True"
        ],
        [
         "34",
         "2025-03-03 00:00:00",
         "アクセス有明",
         "True"
        ],
        [
         "35",
         "2025-03-03 00:00:00",
         "五十嵐商事",
         "True"
        ],
        [
         "36",
         "2025-03-03 00:00:00",
         "五十嵐商事",
         "False"
        ],
        [
         "37",
         "2025-03-03 00:00:00",
         "伊藤忠メタルズ",
         "False"
        ],
        [
         "38",
         "2025-03-03 00:00:00",
         "伊藤忠メタルズ",
         "False"
        ],
        [
         "39",
         "2025-03-03 00:00:00",
         "泉土木",
         "True"
        ],
        [
         "40",
         "2025-03-03 00:00:00",
         "上野運輸",
         "True"
        ],
        [
         "41",
         "2025-03-03 00:00:00",
         "エスジー",
         "False"
        ],
        [
         "42",
         "2025-03-03 00:00:00",
         "エスジー",
         "False"
        ],
        [
         "43",
         "2025-03-03 00:00:00",
         "オネストワン",
         "False"
        ],
        [
         "44",
         "2025-03-03 00:00:00",
         "かねたや家具店",
         "False"
        ],
        [
         "45",
         "2025-03-03 00:00:00",
         "銀座急送",
         "True"
        ],
        [
         "46",
         "2025-03-03 00:00:00",
         "共同印刷",
         "True"
        ],
        [
         "47",
         "2025-03-03 00:00:00",
         "キャプティ",
         "False"
        ],
        [
         "48",
         "2025-03-03 00:00:00",
         "協和機電工業",
         "False"
        ],
        [
         "49",
         "2025-03-03 00:00:00",
         "江栄",
         "True"
        ]
       ],
       "shape": {
        "columns": 3,
        "rows": 4748
       }
      },
      "text/html": [
       "<div>\n",
       "<style scoped>\n",
       "    .dataframe tbody tr th:only-of-type {\n",
       "        vertical-align: middle;\n",
       "    }\n",
       "\n",
       "    .dataframe tbody tr th {\n",
       "        vertical-align: top;\n",
       "    }\n",
       "\n",
       "    .dataframe thead th {\n",
       "        text-align: right;\n",
       "    }\n",
       "</style>\n",
       "<table border=\"1\" class=\"dataframe\">\n",
       "  <thead>\n",
       "    <tr style=\"text-align: right;\">\n",
       "      <th></th>\n",
       "      <th>予約日</th>\n",
       "      <th>予約得意先名</th>\n",
       "      <th>固定客</th>\n",
       "    </tr>\n",
       "  </thead>\n",
       "  <tbody>\n",
       "    <tr>\n",
       "      <th>0</th>\n",
       "      <td>2025-03-02</td>\n",
       "      <td>泉土木</td>\n",
       "      <td>True</td>\n",
       "    </tr>\n",
       "    <tr>\n",
       "      <th>1</th>\n",
       "      <td>2025-03-02</td>\n",
       "      <td>ASMU</td>\n",
       "      <td>False</td>\n",
       "    </tr>\n",
       "    <tr>\n",
       "      <th>2</th>\n",
       "      <td>2025-03-02</td>\n",
       "      <td>青木サービス</td>\n",
       "      <td>False</td>\n",
       "    </tr>\n",
       "    <tr>\n",
       "      <th>3</th>\n",
       "      <td>2025-03-02</td>\n",
       "      <td>オネストワン</td>\n",
       "      <td>False</td>\n",
       "    </tr>\n",
       "    <tr>\n",
       "      <th>4</th>\n",
       "      <td>2025-03-02</td>\n",
       "      <td>おかたずけ田中くん</td>\n",
       "      <td>False</td>\n",
       "    </tr>\n",
       "    <tr>\n",
       "      <th>...</th>\n",
       "      <td>...</td>\n",
       "      <td>...</td>\n",
       "      <td>...</td>\n",
       "    </tr>\n",
       "    <tr>\n",
       "      <th>4743</th>\n",
       "      <td>2025-05-31</td>\n",
       "      <td>山口興業</td>\n",
       "      <td>True</td>\n",
       "    </tr>\n",
       "    <tr>\n",
       "      <th>4744</th>\n",
       "      <td>2025-05-31</td>\n",
       "      <td>谷津商会</td>\n",
       "      <td>True</td>\n",
       "    </tr>\n",
       "    <tr>\n",
       "      <th>4745</th>\n",
       "      <td>2025-05-31</td>\n",
       "      <td>吉田機電</td>\n",
       "      <td>False</td>\n",
       "    </tr>\n",
       "    <tr>\n",
       "      <th>4746</th>\n",
       "      <td>2025-05-31</td>\n",
       "      <td>ヨシモリ</td>\n",
       "      <td>True</td>\n",
       "    </tr>\n",
       "    <tr>\n",
       "      <th>4747</th>\n",
       "      <td>2025-05-31</td>\n",
       "      <td>Y-maxx</td>\n",
       "      <td>True</td>\n",
       "    </tr>\n",
       "  </tbody>\n",
       "</table>\n",
       "<p>4748 rows × 3 columns</p>\n",
       "</div>"
      ],
      "text/plain": [
       "            予約日     予約得意先名    固定客\n",
       "0    2025-03-02        泉土木   True\n",
       "1    2025-03-02       ASMU  False\n",
       "2    2025-03-02     青木サービス  False\n",
       "3    2025-03-02     オネストワン  False\n",
       "4    2025-03-02  おかたずけ田中くん  False\n",
       "...         ...        ...    ...\n",
       "4743 2025-05-31       山口興業   True\n",
       "4744 2025-05-31       谷津商会   True\n",
       "4745 2025-05-31       吉田機電  False\n",
       "4746 2025-05-31       ヨシモリ   True\n",
       "4747 2025-05-31     Y-maxx   True\n",
       "\n",
       "[4748 rows x 3 columns]"
      ]
     },
     "execution_count": 3,
     "metadata": {},
     "output_type": "execute_result"
    }
   ],
   "source": [
    "df_reserve = pd.read_csv(\n",
    "    \"/work/app/data/input/yoyaku_data.csv\")\n",
    "df_reserve[\"予約日\"] = pd.to_datetime(df_reserve[\"予約日\"])\n",
    "df_reserve = df_reserve[df_reserve[\"予約日\"] >= hol_min]\n",
    "df_reserve = df_reserve[df_reserve[\"予約日\"] <= hol_max]\n",
    "df_reserve"
   ]
  },
  {
   "cell_type": "code",
   "execution_count": 4,
   "metadata": {},
   "outputs": [
    {
     "name": "stdout",
     "output_type": "stream",
     "text": [
      "Index(['予約日', '予約得意先名', '固定客'], dtype='object')\n"
     ]
    }
   ],
   "source": [
    "print(df_reserve.columns)"
   ]
  },
  {
   "cell_type": "markdown",
   "metadata": {},
   "source": [
    "### 受入番号用"
   ]
  },
  {
   "cell_type": "code",
   "execution_count": 5,
   "metadata": {},
   "outputs": [
    {
     "data": {
      "application/vnd.microsoft.datawrangler.viewer.v0+json": {
       "columns": [
        {
         "name": "index",
         "rawType": "int64",
         "type": "integer"
        },
        {
         "name": "伝票日付",
         "rawType": "datetime64[ns]",
         "type": "datetime"
        },
        {
         "name": "品名",
         "rawType": "object",
         "type": "string"
        },
        {
         "name": "正味重量",
         "rawType": "float64",
         "type": "float"
        },
        {
         "name": "受入番号",
         "rawType": "int64",
         "type": "integer"
        },
        {
         "name": "台数",
         "rawType": "int64",
         "type": "integer"
        }
       ],
       "ref": "8fcd0868-89df-4c87-b3b8-affae4290a83",
       "rows": [
        [
         "0",
         "2025-06-01 00:00:00",
         "混合廃棄物A",
         "1110.0",
         "54050",
         "35"
        ],
        [
         "1",
         "2025-06-01 00:00:00",
         "混合廃棄物A",
         "120.0",
         "54094",
         "35"
        ],
        [
         "2",
         "2025-06-01 00:00:00",
         "混合廃棄物A",
         "270.0",
         "54060",
         "35"
        ],
        [
         "3",
         "2025-06-01 00:00:00",
         "混合廃棄物A",
         "1220.0",
         "54044",
         "35"
        ],
        [
         "4",
         "2025-06-01 00:00:00",
         "混合廃棄物A",
         "1650.0",
         "54089",
         "35"
        ],
        [
         "5",
         "2025-06-01 00:00:00",
         "軽量物系A(発泡ｽﾁﾛｰﾙ)",
         "40.0",
         "54092",
         "1"
        ],
        [
         "6",
         "2025-06-01 00:00:00",
         "軽量物系A(ｽﾎﾟﾝｼﾞ)",
         "100.0",
         "54092",
         "1"
        ],
        [
         "7",
         "2025-06-01 00:00:00",
         "金庫",
         "650.0",
         "54094",
         "2"
        ],
        [
         "8",
         "2025-06-01 00:00:00",
         "混合廃棄物A",
         "910.0",
         "54045",
         "35"
        ],
        [
         "9",
         "2025-06-01 00:00:00",
         "混合廃棄物A",
         "1230.0",
         "54054",
         "35"
        ],
        [
         "10",
         "2025-06-01 00:00:00",
         "混合廃棄物A",
         "1950.0",
         "54046",
         "35"
        ],
        [
         "11",
         "2025-06-01 00:00:00",
         "混合廃棄物A",
         "870.0",
         "54099",
         "35"
        ],
        [
         "12",
         "2025-06-01 00:00:00",
         "本畳",
         "40.0",
         "54099",
         "1"
        ],
        [
         "13",
         "2025-06-01 00:00:00",
         "ｽﾀｲﾛ畳",
         "90.0",
         "54099",
         "1"
        ],
        [
         "14",
         "2025-06-01 00:00:00",
         "混合廃棄物A",
         "10.0",
         "54070",
         "35"
        ],
        [
         "15",
         "2025-06-01 00:00:00",
         "軽量物系B(ｸﾞﾗｽｳｰﾙ)",
         "20.0",
         "54070",
         "1"
        ],
        [
         "16",
         "2025-06-01 00:00:00",
         "ﾊﾟｰﾃｰｼｮﾝﾎﾞｰﾄﾞ",
         "890.0",
         "54070",
         "3"
        ],
        [
         "17",
         "2025-06-01 00:00:00",
         "ﾊﾟｰﾃｰｼｮﾝﾎﾞｰﾄﾞ",
         "1660.0",
         "54057",
         "3"
        ],
        [
         "18",
         "2025-06-01 00:00:00",
         "選別",
         "330.0",
         "54070",
         "10"
        ],
        [
         "19",
         "2025-06-01 00:00:00",
         "混合廃棄物A",
         "1220.0",
         "54086",
         "35"
        ],
        [
         "20",
         "2025-06-01 00:00:00",
         "混合廃棄物A",
         "1350.0",
         "54087",
         "35"
        ],
        [
         "21",
         "2025-06-01 00:00:00",
         "混合廃棄物(ｿﾌｧｰ)",
         "20.0",
         "54086",
         "4"
        ],
        [
         "22",
         "2025-06-01 00:00:00",
         "ﾏｯﾄﾚｽ(ｼﾝｸﾞﾙ)",
         "10.0",
         "54086",
         "1"
        ],
        [
         "23",
         "2025-06-01 00:00:00",
         "混合廃棄物（羽毛物）",
         "10.0",
         "54087",
         "2"
        ],
        [
         "24",
         "2025-06-01 00:00:00",
         "混合廃棄物（羽毛物）",
         "30.0",
         "54086",
         "2"
        ],
        [
         "25",
         "2025-06-01 00:00:00",
         "混合廃棄物A",
         "30.0",
         "54096",
         "35"
        ],
        [
         "26",
         "2025-06-01 00:00:00",
         "石膏ﾎﾞｰﾄﾞC",
         "130.0",
         "54096",
         "1"
        ],
        [
         "27",
         "2025-06-01 00:00:00",
         "運搬費",
         null,
         "54096",
         "1"
        ],
        [
         "28",
         "2025-06-01 00:00:00",
         "混合廃棄物A",
         "120.0",
         "54080",
         "35"
        ],
        [
         "29",
         "2025-06-01 00:00:00",
         "木くず",
         "120.0",
         "54080",
         "5"
        ],
        [
         "30",
         "2025-06-01 00:00:00",
         "混合廃棄物A",
         "70.0",
         "54069",
         "35"
        ],
        [
         "31",
         "2025-06-01 00:00:00",
         "混合廃棄物A",
         "610.0",
         "54058",
         "35"
        ],
        [
         "32",
         "2025-06-01 00:00:00",
         "混合廃棄物A",
         "10.0",
         "54077",
         "35"
        ],
        [
         "33",
         "2025-06-01 00:00:00",
         "混合廃棄物A",
         "230.0",
         "54066",
         "35"
        ],
        [
         "34",
         "2025-06-01 00:00:00",
         "ﾀﾞﾝﾎﾞｰﾙ",
         "20.0",
         "54066",
         "1"
        ],
        [
         "35",
         "2025-06-01 00:00:00",
         "配線",
         "800.0",
         "54091",
         "1"
        ],
        [
         "36",
         "2025-06-01 00:00:00",
         "GC 軽鉄･ｽﾁｰﾙ類",
         "80.0",
         "54091",
         "8"
        ],
        [
         "37",
         "2025-06-01 00:00:00",
         "室外機",
         "130.0",
         "54066",
         "1"
        ],
        [
         "38",
         "2025-06-01 00:00:00",
         "混合廃棄物A",
         "410.0",
         "54047",
         "35"
        ],
        [
         "39",
         "2025-06-01 00:00:00",
         "混合廃棄物A",
         "630.0",
         "54072",
         "35"
        ],
        [
         "40",
         "2025-06-01 00:00:00",
         "混合廃棄物(ｿﾌｧｰ)",
         "20.0",
         "54072",
         "4"
        ],
        [
         "41",
         "2025-06-01 00:00:00",
         "GC 軽鉄･ｽﾁｰﾙ類",
         "790.0",
         "54063",
         "8"
        ],
        [
         "42",
         "2025-06-01 00:00:00",
         "GC 軽鉄･ｽﾁｰﾙ類",
         "1660.0",
         "54048",
         "8"
        ],
        [
         "43",
         "2025-06-01 00:00:00",
         "混合廃棄物A",
         "200.0",
         "54062",
         "35"
        ],
        [
         "44",
         "2025-06-01 00:00:00",
         "混合廃棄物A",
         "390.0",
         "54075",
         "35"
        ],
        [
         "45",
         "2025-06-01 00:00:00",
         "木くず",
         "270.0",
         "54075",
         "5"
        ],
        [
         "46",
         "2025-06-01 00:00:00",
         "混合廃棄物A",
         "20.0",
         "54074",
         "35"
        ],
        [
         "47",
         "2025-06-01 00:00:00",
         "ﾊﾟｰﾃｰｼｮﾝﾎﾞｰﾄﾞ",
         "330.0",
         "54074",
         "3"
        ],
        [
         "48",
         "2025-06-01 00:00:00",
         "選別",
         "30.0",
         "54074",
         "10"
        ],
        [
         "49",
         "2025-06-01 00:00:00",
         "GC 軽鉄･ｽﾁｰﾙ類",
         "60.0",
         "54074",
         "8"
        ]
       ],
       "shape": {
        "columns": 5,
        "rows": 64685
       }
      },
      "text/html": [
       "<div>\n",
       "<style scoped>\n",
       "    .dataframe tbody tr th:only-of-type {\n",
       "        vertical-align: middle;\n",
       "    }\n",
       "\n",
       "    .dataframe tbody tr th {\n",
       "        vertical-align: top;\n",
       "    }\n",
       "\n",
       "    .dataframe thead th {\n",
       "        text-align: right;\n",
       "    }\n",
       "</style>\n",
       "<table border=\"1\" class=\"dataframe\">\n",
       "  <thead>\n",
       "    <tr style=\"text-align: right;\">\n",
       "      <th></th>\n",
       "      <th>伝票日付</th>\n",
       "      <th>品名</th>\n",
       "      <th>正味重量</th>\n",
       "      <th>受入番号</th>\n",
       "      <th>台数</th>\n",
       "    </tr>\n",
       "  </thead>\n",
       "  <tbody>\n",
       "    <tr>\n",
       "      <th>0</th>\n",
       "      <td>2025-06-01</td>\n",
       "      <td>混合廃棄物A</td>\n",
       "      <td>1110.0</td>\n",
       "      <td>54050</td>\n",
       "      <td>35</td>\n",
       "    </tr>\n",
       "    <tr>\n",
       "      <th>1</th>\n",
       "      <td>2025-06-01</td>\n",
       "      <td>混合廃棄物A</td>\n",
       "      <td>120.0</td>\n",
       "      <td>54094</td>\n",
       "      <td>35</td>\n",
       "    </tr>\n",
       "    <tr>\n",
       "      <th>2</th>\n",
       "      <td>2025-06-01</td>\n",
       "      <td>混合廃棄物A</td>\n",
       "      <td>270.0</td>\n",
       "      <td>54060</td>\n",
       "      <td>35</td>\n",
       "    </tr>\n",
       "    <tr>\n",
       "      <th>3</th>\n",
       "      <td>2025-06-01</td>\n",
       "      <td>混合廃棄物A</td>\n",
       "      <td>1220.0</td>\n",
       "      <td>54044</td>\n",
       "      <td>35</td>\n",
       "    </tr>\n",
       "    <tr>\n",
       "      <th>4</th>\n",
       "      <td>2025-06-01</td>\n",
       "      <td>混合廃棄物A</td>\n",
       "      <td>1650.0</td>\n",
       "      <td>54089</td>\n",
       "      <td>35</td>\n",
       "    </tr>\n",
       "    <tr>\n",
       "      <th>...</th>\n",
       "      <td>...</td>\n",
       "      <td>...</td>\n",
       "      <td>...</td>\n",
       "      <td>...</td>\n",
       "      <td>...</td>\n",
       "    </tr>\n",
       "    <tr>\n",
       "      <th>64680</th>\n",
       "      <td>2024-11-30</td>\n",
       "      <td>混合廃棄物A</td>\n",
       "      <td>50.0</td>\n",
       "      <td>31824</td>\n",
       "      <td>74</td>\n",
       "    </tr>\n",
       "    <tr>\n",
       "      <th>64681</th>\n",
       "      <td>2024-11-30</td>\n",
       "      <td>混合廃棄物A</td>\n",
       "      <td>310.0</td>\n",
       "      <td>31822</td>\n",
       "      <td>74</td>\n",
       "    </tr>\n",
       "    <tr>\n",
       "      <th>64682</th>\n",
       "      <td>2024-11-30</td>\n",
       "      <td>混合廃棄物A</td>\n",
       "      <td>1140.0</td>\n",
       "      <td>31805</td>\n",
       "      <td>74</td>\n",
       "    </tr>\n",
       "    <tr>\n",
       "      <th>64683</th>\n",
       "      <td>2024-11-30</td>\n",
       "      <td>木くず</td>\n",
       "      <td>870.0</td>\n",
       "      <td>31824</td>\n",
       "      <td>9</td>\n",
       "    </tr>\n",
       "    <tr>\n",
       "      <th>64684</th>\n",
       "      <td>2024-11-30</td>\n",
       "      <td>選別</td>\n",
       "      <td>430.0</td>\n",
       "      <td>31822</td>\n",
       "      <td>14</td>\n",
       "    </tr>\n",
       "  </tbody>\n",
       "</table>\n",
       "<p>64685 rows × 5 columns</p>\n",
       "</div>"
      ],
      "text/plain": [
       "            伝票日付      品名    正味重量   受入番号  台数\n",
       "0     2025-06-01  混合廃棄物A  1110.0  54050  35\n",
       "1     2025-06-01  混合廃棄物A   120.0  54094  35\n",
       "2     2025-06-01  混合廃棄物A   270.0  54060  35\n",
       "3     2025-06-01  混合廃棄物A  1220.0  54044  35\n",
       "4     2025-06-01  混合廃棄物A  1650.0  54089  35\n",
       "...          ...     ...     ...    ...  ..\n",
       "64680 2024-11-30  混合廃棄物A    50.0  31824  74\n",
       "64681 2024-11-30  混合廃棄物A   310.0  31822  74\n",
       "64682 2024-11-30  混合廃棄物A  1140.0  31805  74\n",
       "64683 2024-11-30     木くず   870.0  31824   9\n",
       "64684 2024-11-30      選別   430.0  31822  14\n",
       "\n",
       "[64685 rows x 5 columns]"
      ]
     },
     "execution_count": 5,
     "metadata": {},
     "output_type": "execute_result"
    }
   ],
   "source": [
    "import os\n",
    "import glob\n",
    "import pandas as pd\n",
    "\n",
    "# ディレクトリ内の全CSVファイルパスを取得\n",
    "csv_dir = \"/work/app/data/input/受入_時刻\"\n",
    "csv_files = glob.glob(os.path.join(csv_dir, \"*.csv\"))\n",
    "\n",
    "# 全CSVを読み込んで結合\n",
    "dfs = []\n",
    "for f in csv_files:\n",
    "    df_tmp = pd.read_csv(f)\n",
    "\n",
    "    # 伝票日付を整形 → 日付型へ変換\n",
    "    df_tmp[\"伝票日付\"] = df_tmp[\"伝票日付\"].str.replace(r\"\\(.*?\\)\", \"\", regex=True).str.strip()\n",
    "    df_tmp[\"伝票日付\"] = pd.to_datetime(df_tmp[\"伝票日付\"], format=\"%Y/%m/%d\")\n",
    "\n",
    "    # 正味重量をカンマ除去して数値化\n",
    "    df_tmp[\"正味重量\"] = df_tmp[\"正味重量\"].replace({',': ''}, regex=True).astype(float)\n",
    "\n",
    "    # 受入番号の欠損を埋めて型変換（念のため）\n",
    "    df_tmp[\"受入番号\"] = df_tmp[\"受入番号\"].fillna(-1).astype(int)\n",
    "\n",
    "    dfs.append(df_tmp)\n",
    "\n",
    "df_Ukeire = pd.concat(dfs, ignore_index=True)\n",
    "\n",
    "# 必要カラムだけ抽出（品名・重量・受入番号）\n",
    "df_Ukeire = df_Ukeire[[\"伝票日付\", \"品名\", \"正味重量\", \"受入番号\"]].copy()\n",
    "\n",
    "# 台数カウント準備（日付・品名ごとの受入番号ユニーク数）\n",
    "df_count = (\n",
    "    df_Ukeire.groupby([\"伝票日付\", \"品名\"])[\"受入番号\"]\n",
    "    .nunique()\n",
    "    .reset_index()\n",
    "    .rename(columns={\"受入番号\": \"台数\"})\n",
    ")\n",
    "\n",
    "# （参考）結合しておく場合\n",
    "df_merged = pd.merge(df_Ukeire, df_count, on=[\"伝票日付\", \"品名\"], how=\"left\")\n",
    "\n",
    "# 結果確認\n",
    "df_merged\n"
   ]
  },
  {
   "cell_type": "code",
   "execution_count": 6,
   "metadata": {},
   "outputs": [],
   "source": [
    "target_items = [\"混合廃棄物A\", \"混合廃棄物B\", \"GC 軽鉄･ｽﾁｰﾙ類\", \"選別\", \"木くず\"]"
   ]
  },
  {
   "cell_type": "markdown",
   "metadata": {},
   "source": [
    "# 特徴量生成"
   ]
  },
  {
   "cell_type": "code",
   "execution_count": 7,
   "metadata": {},
   "outputs": [
    {
     "name": "stdout",
     "output_type": "stream",
     "text": [
      "\n",
      "===== 2024-06-04 処理中 =====\n",
      "\n",
      "===== 2024-06-05 処理中 =====\n",
      "\n",
      "===== 2024-06-06 処理中 =====\n",
      "\n",
      "===== 2024-06-07 処理中 =====\n",
      "\n",
      "===== 2024-06-08 処理中 =====\n",
      "\n",
      "===== 2024-06-09 処理中 =====\n",
      "\n",
      "===== 2024-06-10 処理中 =====\n",
      "\n",
      "===== 2024-06-11 処理中 =====\n",
      "\n",
      "===== 2024-06-12 処理中 =====\n",
      "\n",
      "===== 2024-06-13 処理中 =====\n",
      "\n",
      "===== 2024-06-14 処理中 =====\n"
     ]
    },
    {
     "ename": "KeyboardInterrupt",
     "evalue": "",
     "output_type": "error",
     "traceback": [
      "\u001b[0;31m---------------------------------------------------------------------------\u001b[0m",
      "\u001b[0;31mKeyboardInterrupt\u001b[0m                         Traceback (most recent call last)",
      "Cell \u001b[0;32mIn[7], line 4\u001b[0m\n\u001b[1;32m      1\u001b[0m \u001b[38;5;66;03m# 最初のモデル\u001b[39;00m\n\u001b[1;32m      2\u001b[0m \u001b[38;5;28;01mfrom\u001b[39;00m\u001b[38;5;250m \u001b[39m\u001b[38;5;21;01mlogic\u001b[39;00m\u001b[38;5;21;01m.\u001b[39;00m\u001b[38;5;21;01mfactory_manage\u001b[39;00m\u001b[38;5;21;01m.\u001b[39;00m\u001b[38;5;21;01mpredict_model_v4_4\u001b[39;00m\u001b[38;5;250m \u001b[39m\u001b[38;5;28;01mimport\u001b[39;00m full_walkforward_pipeline\n\u001b[0;32m----> 4\u001b[0m pred_df_slim \u001b[38;5;241m=\u001b[39m \u001b[43mfull_walkforward_pipeline\u001b[49m\u001b[43m(\u001b[49m\n\u001b[1;32m      5\u001b[0m \u001b[43m    \u001b[49m\u001b[43mdf\u001b[49m\u001b[43m)\u001b[49m\n",
      "File \u001b[0;32m/work/app/logic/factory_manage/predict_model_v4_4.py:151\u001b[0m, in \u001b[0;36mfull_walkforward_pipeline\u001b[0;34m(df_raw)\u001b[0m\n\u001b[1;32m    148\u001b[0m     stage1_row[\u001b[38;5;124mf\u001b[39m\u001b[38;5;124m\"\u001b[39m\u001b[38;5;132;01m{\u001b[39;00mitem\u001b[38;5;132;01m}\u001b[39;00m\u001b[38;5;124m_予測\u001b[39m\u001b[38;5;124m\"\u001b[39m] \u001b[38;5;241m=\u001b[39m \u001b[38;5;241m0\u001b[39m\n\u001b[1;32m    149\u001b[0m     \u001b[38;5;28;01mcontinue\u001b[39;00m\n\u001b[0;32m--> 151\u001b[0m scaler, selector, models, meta_model \u001b[38;5;241m=\u001b[39m \u001b[43mtrain_stage1_models\u001b[49m\u001b[43m(\u001b[49m\n\u001b[1;32m    152\u001b[0m \u001b[43m    \u001b[49m\u001b[43mX_train\u001b[49m\u001b[43m,\u001b[49m\u001b[43m \u001b[49m\u001b[43my_train\u001b[49m\u001b[43m,\u001b[49m\u001b[43m \u001b[49m\u001b[43mbase_models\u001b[49m\u001b[43m,\u001b[49m\u001b[43m \u001b[49m\u001b[43mmeta_model_proto\u001b[49m\n\u001b[1;32m    153\u001b[0m \u001b[43m\u001b[49m\u001b[43m)\u001b[49m\n\u001b[1;32m    154\u001b[0m pred \u001b[38;5;241m=\u001b[39m predict_stage1(X_pred, scaler, selector, models, meta_model)\n\u001b[1;32m    155\u001b[0m stage1_row[\u001b[38;5;124mf\u001b[39m\u001b[38;5;124m\"\u001b[39m\u001b[38;5;132;01m{\u001b[39;00mitem\u001b[38;5;132;01m}\u001b[39;00m\u001b[38;5;124m_予測\u001b[39m\u001b[38;5;124m\"\u001b[39m] \u001b[38;5;241m=\u001b[39m \u001b[38;5;28mmax\u001b[39m(pred, \u001b[38;5;241m0\u001b[39m)\n",
      "File \u001b[0;32m/work/app/logic/factory_manage/predict_model_v4_4.py:48\u001b[0m, in \u001b[0;36mtrain_stage1_models\u001b[0;34m(X_train, y_train, base_models, meta_model_proto)\u001b[0m\n\u001b[1;32m     46\u001b[0m selector \u001b[38;5;241m=\u001b[39m VarianceThreshold(\u001b[38;5;241m1e-4\u001b[39m)\n\u001b[1;32m     47\u001b[0m X_filtered \u001b[38;5;241m=\u001b[39m selector\u001b[38;5;241m.\u001b[39mfit_transform(X_scaled)\n\u001b[0;32m---> 48\u001b[0m trained_models \u001b[38;5;241m=\u001b[39m [clone(model)\u001b[38;5;241m.\u001b[39mfit(X_filtered, y_train) \u001b[38;5;28;01mfor\u001b[39;00m _, model \u001b[38;5;129;01min\u001b[39;00m base_models]\n\u001b[1;32m     49\u001b[0m meta_model \u001b[38;5;241m=\u001b[39m clone(meta_model_proto)\n\u001b[1;32m     50\u001b[0m meta_features \u001b[38;5;241m=\u001b[39m np\u001b[38;5;241m.\u001b[39mcolumn_stack([m\u001b[38;5;241m.\u001b[39mpredict(X_filtered) \u001b[38;5;28;01mfor\u001b[39;00m m \u001b[38;5;129;01min\u001b[39;00m trained_models])\n",
      "File \u001b[0;32m/work/app/logic/factory_manage/predict_model_v4_4.py:48\u001b[0m, in \u001b[0;36m<listcomp>\u001b[0;34m(.0)\u001b[0m\n\u001b[1;32m     46\u001b[0m selector \u001b[38;5;241m=\u001b[39m VarianceThreshold(\u001b[38;5;241m1e-4\u001b[39m)\n\u001b[1;32m     47\u001b[0m X_filtered \u001b[38;5;241m=\u001b[39m selector\u001b[38;5;241m.\u001b[39mfit_transform(X_scaled)\n\u001b[0;32m---> 48\u001b[0m trained_models \u001b[38;5;241m=\u001b[39m [\u001b[43mclone\u001b[49m\u001b[43m(\u001b[49m\u001b[43mmodel\u001b[49m\u001b[43m)\u001b[49m\u001b[38;5;241;43m.\u001b[39;49m\u001b[43mfit\u001b[49m\u001b[43m(\u001b[49m\u001b[43mX_filtered\u001b[49m\u001b[43m,\u001b[49m\u001b[43m \u001b[49m\u001b[43my_train\u001b[49m\u001b[43m)\u001b[49m \u001b[38;5;28;01mfor\u001b[39;00m _, model \u001b[38;5;129;01min\u001b[39;00m base_models]\n\u001b[1;32m     49\u001b[0m meta_model \u001b[38;5;241m=\u001b[39m clone(meta_model_proto)\n\u001b[1;32m     50\u001b[0m meta_features \u001b[38;5;241m=\u001b[39m np\u001b[38;5;241m.\u001b[39mcolumn_stack([m\u001b[38;5;241m.\u001b[39mpredict(X_filtered) \u001b[38;5;28;01mfor\u001b[39;00m m \u001b[38;5;129;01min\u001b[39;00m trained_models])\n",
      "File \u001b[0;32m/usr/local/lib/python3.10/site-packages/sklearn/base.py:1389\u001b[0m, in \u001b[0;36m_fit_context.<locals>.decorator.<locals>.wrapper\u001b[0;34m(estimator, *args, **kwargs)\u001b[0m\n\u001b[1;32m   1382\u001b[0m     estimator\u001b[38;5;241m.\u001b[39m_validate_params()\n\u001b[1;32m   1384\u001b[0m \u001b[38;5;28;01mwith\u001b[39;00m config_context(\n\u001b[1;32m   1385\u001b[0m     skip_parameter_validation\u001b[38;5;241m=\u001b[39m(\n\u001b[1;32m   1386\u001b[0m         prefer_skip_nested_validation \u001b[38;5;129;01mor\u001b[39;00m global_skip_validation\n\u001b[1;32m   1387\u001b[0m     )\n\u001b[1;32m   1388\u001b[0m ):\n\u001b[0;32m-> 1389\u001b[0m     \u001b[38;5;28;01mreturn\u001b[39;00m \u001b[43mfit_method\u001b[49m\u001b[43m(\u001b[49m\u001b[43mestimator\u001b[49m\u001b[43m,\u001b[49m\u001b[43m \u001b[49m\u001b[38;5;241;43m*\u001b[39;49m\u001b[43margs\u001b[49m\u001b[43m,\u001b[49m\u001b[43m \u001b[49m\u001b[38;5;241;43m*\u001b[39;49m\u001b[38;5;241;43m*\u001b[39;49m\u001b[43mkwargs\u001b[49m\u001b[43m)\u001b[49m\n",
      "File \u001b[0;32m/usr/local/lib/python3.10/site-packages/sklearn/ensemble/_forest.py:487\u001b[0m, in \u001b[0;36mBaseForest.fit\u001b[0;34m(self, X, y, sample_weight)\u001b[0m\n\u001b[1;32m    476\u001b[0m trees \u001b[38;5;241m=\u001b[39m [\n\u001b[1;32m    477\u001b[0m     \u001b[38;5;28mself\u001b[39m\u001b[38;5;241m.\u001b[39m_make_estimator(append\u001b[38;5;241m=\u001b[39m\u001b[38;5;28;01mFalse\u001b[39;00m, random_state\u001b[38;5;241m=\u001b[39mrandom_state)\n\u001b[1;32m    478\u001b[0m     \u001b[38;5;28;01mfor\u001b[39;00m i \u001b[38;5;129;01min\u001b[39;00m \u001b[38;5;28mrange\u001b[39m(n_more_estimators)\n\u001b[1;32m    479\u001b[0m ]\n\u001b[1;32m    481\u001b[0m \u001b[38;5;66;03m# Parallel loop: we prefer the threading backend as the Cython code\u001b[39;00m\n\u001b[1;32m    482\u001b[0m \u001b[38;5;66;03m# for fitting the trees is internally releasing the Python GIL\u001b[39;00m\n\u001b[1;32m    483\u001b[0m \u001b[38;5;66;03m# making threading more efficient than multiprocessing in\u001b[39;00m\n\u001b[1;32m    484\u001b[0m \u001b[38;5;66;03m# that case. However, for joblib 0.12+ we respect any\u001b[39;00m\n\u001b[1;32m    485\u001b[0m \u001b[38;5;66;03m# parallel_backend contexts set at a higher level,\u001b[39;00m\n\u001b[1;32m    486\u001b[0m \u001b[38;5;66;03m# since correctness does not rely on using threads.\u001b[39;00m\n\u001b[0;32m--> 487\u001b[0m trees \u001b[38;5;241m=\u001b[39m \u001b[43mParallel\u001b[49m\u001b[43m(\u001b[49m\n\u001b[1;32m    488\u001b[0m \u001b[43m    \u001b[49m\u001b[43mn_jobs\u001b[49m\u001b[38;5;241;43m=\u001b[39;49m\u001b[38;5;28;43mself\u001b[39;49m\u001b[38;5;241;43m.\u001b[39;49m\u001b[43mn_jobs\u001b[49m\u001b[43m,\u001b[49m\n\u001b[1;32m    489\u001b[0m \u001b[43m    \u001b[49m\u001b[43mverbose\u001b[49m\u001b[38;5;241;43m=\u001b[39;49m\u001b[38;5;28;43mself\u001b[39;49m\u001b[38;5;241;43m.\u001b[39;49m\u001b[43mverbose\u001b[49m\u001b[43m,\u001b[49m\n\u001b[1;32m    490\u001b[0m \u001b[43m    \u001b[49m\u001b[43mprefer\u001b[49m\u001b[38;5;241;43m=\u001b[39;49m\u001b[38;5;124;43m\"\u001b[39;49m\u001b[38;5;124;43mthreads\u001b[39;49m\u001b[38;5;124;43m\"\u001b[39;49m\u001b[43m,\u001b[49m\n\u001b[1;32m    491\u001b[0m \u001b[43m\u001b[49m\u001b[43m)\u001b[49m\u001b[43m(\u001b[49m\n\u001b[1;32m    492\u001b[0m \u001b[43m    \u001b[49m\u001b[43mdelayed\u001b[49m\u001b[43m(\u001b[49m\u001b[43m_parallel_build_trees\u001b[49m\u001b[43m)\u001b[49m\u001b[43m(\u001b[49m\n\u001b[1;32m    493\u001b[0m \u001b[43m        \u001b[49m\u001b[43mt\u001b[49m\u001b[43m,\u001b[49m\n\u001b[1;32m    494\u001b[0m \u001b[43m        \u001b[49m\u001b[38;5;28;43mself\u001b[39;49m\u001b[38;5;241;43m.\u001b[39;49m\u001b[43mbootstrap\u001b[49m\u001b[43m,\u001b[49m\n\u001b[1;32m    495\u001b[0m \u001b[43m        \u001b[49m\u001b[43mX\u001b[49m\u001b[43m,\u001b[49m\n\u001b[1;32m    496\u001b[0m \u001b[43m        \u001b[49m\u001b[43my\u001b[49m\u001b[43m,\u001b[49m\n\u001b[1;32m    497\u001b[0m \u001b[43m        \u001b[49m\u001b[43msample_weight\u001b[49m\u001b[43m,\u001b[49m\n\u001b[1;32m    498\u001b[0m \u001b[43m        \u001b[49m\u001b[43mi\u001b[49m\u001b[43m,\u001b[49m\n\u001b[1;32m    499\u001b[0m \u001b[43m        \u001b[49m\u001b[38;5;28;43mlen\u001b[39;49m\u001b[43m(\u001b[49m\u001b[43mtrees\u001b[49m\u001b[43m)\u001b[49m\u001b[43m,\u001b[49m\n\u001b[1;32m    500\u001b[0m \u001b[43m        \u001b[49m\u001b[43mverbose\u001b[49m\u001b[38;5;241;43m=\u001b[39;49m\u001b[38;5;28;43mself\u001b[39;49m\u001b[38;5;241;43m.\u001b[39;49m\u001b[43mverbose\u001b[49m\u001b[43m,\u001b[49m\n\u001b[1;32m    501\u001b[0m \u001b[43m        \u001b[49m\u001b[43mclass_weight\u001b[49m\u001b[38;5;241;43m=\u001b[39;49m\u001b[38;5;28;43mself\u001b[39;49m\u001b[38;5;241;43m.\u001b[39;49m\u001b[43mclass_weight\u001b[49m\u001b[43m,\u001b[49m\n\u001b[1;32m    502\u001b[0m \u001b[43m        \u001b[49m\u001b[43mn_samples_bootstrap\u001b[49m\u001b[38;5;241;43m=\u001b[39;49m\u001b[43mn_samples_bootstrap\u001b[49m\u001b[43m,\u001b[49m\n\u001b[1;32m    503\u001b[0m \u001b[43m        \u001b[49m\u001b[43mmissing_values_in_feature_mask\u001b[49m\u001b[38;5;241;43m=\u001b[39;49m\u001b[43mmissing_values_in_feature_mask\u001b[49m\u001b[43m,\u001b[49m\n\u001b[1;32m    504\u001b[0m \u001b[43m    \u001b[49m\u001b[43m)\u001b[49m\n\u001b[1;32m    505\u001b[0m \u001b[43m    \u001b[49m\u001b[38;5;28;43;01mfor\u001b[39;49;00m\u001b[43m \u001b[49m\u001b[43mi\u001b[49m\u001b[43m,\u001b[49m\u001b[43m \u001b[49m\u001b[43mt\u001b[49m\u001b[43m \u001b[49m\u001b[38;5;129;43;01min\u001b[39;49;00m\u001b[43m \u001b[49m\u001b[38;5;28;43menumerate\u001b[39;49m\u001b[43m(\u001b[49m\u001b[43mtrees\u001b[49m\u001b[43m)\u001b[49m\n\u001b[1;32m    506\u001b[0m \u001b[43m\u001b[49m\u001b[43m)\u001b[49m\n\u001b[1;32m    508\u001b[0m \u001b[38;5;66;03m# Collect newly grown trees\u001b[39;00m\n\u001b[1;32m    509\u001b[0m \u001b[38;5;28mself\u001b[39m\u001b[38;5;241m.\u001b[39mestimators_\u001b[38;5;241m.\u001b[39mextend(trees)\n",
      "File \u001b[0;32m/usr/local/lib/python3.10/site-packages/sklearn/utils/parallel.py:77\u001b[0m, in \u001b[0;36mParallel.__call__\u001b[0;34m(self, iterable)\u001b[0m\n\u001b[1;32m     72\u001b[0m config \u001b[38;5;241m=\u001b[39m get_config()\n\u001b[1;32m     73\u001b[0m iterable_with_config \u001b[38;5;241m=\u001b[39m (\n\u001b[1;32m     74\u001b[0m     (_with_config(delayed_func, config), args, kwargs)\n\u001b[1;32m     75\u001b[0m     \u001b[38;5;28;01mfor\u001b[39;00m delayed_func, args, kwargs \u001b[38;5;129;01min\u001b[39;00m iterable\n\u001b[1;32m     76\u001b[0m )\n\u001b[0;32m---> 77\u001b[0m \u001b[38;5;28;01mreturn\u001b[39;00m \u001b[38;5;28;43msuper\u001b[39;49m\u001b[43m(\u001b[49m\u001b[43m)\u001b[49m\u001b[38;5;241;43m.\u001b[39;49m\u001b[38;5;21;43m__call__\u001b[39;49m\u001b[43m(\u001b[49m\u001b[43miterable_with_config\u001b[49m\u001b[43m)\u001b[49m\n",
      "File \u001b[0;32m/usr/local/lib/python3.10/site-packages/joblib/parallel.py:1986\u001b[0m, in \u001b[0;36mParallel.__call__\u001b[0;34m(self, iterable)\u001b[0m\n\u001b[1;32m   1984\u001b[0m     output \u001b[38;5;241m=\u001b[39m \u001b[38;5;28mself\u001b[39m\u001b[38;5;241m.\u001b[39m_get_sequential_output(iterable)\n\u001b[1;32m   1985\u001b[0m     \u001b[38;5;28mnext\u001b[39m(output)\n\u001b[0;32m-> 1986\u001b[0m     \u001b[38;5;28;01mreturn\u001b[39;00m output \u001b[38;5;28;01mif\u001b[39;00m \u001b[38;5;28mself\u001b[39m\u001b[38;5;241m.\u001b[39mreturn_generator \u001b[38;5;28;01melse\u001b[39;00m \u001b[38;5;28;43mlist\u001b[39;49m\u001b[43m(\u001b[49m\u001b[43moutput\u001b[49m\u001b[43m)\u001b[49m\n\u001b[1;32m   1988\u001b[0m \u001b[38;5;66;03m# Let's create an ID that uniquely identifies the current call. If the\u001b[39;00m\n\u001b[1;32m   1989\u001b[0m \u001b[38;5;66;03m# call is interrupted early and that the same instance is immediately\u001b[39;00m\n\u001b[1;32m   1990\u001b[0m \u001b[38;5;66;03m# reused, this id will be used to prevent workers that were\u001b[39;00m\n\u001b[1;32m   1991\u001b[0m \u001b[38;5;66;03m# concurrently finalizing a task from the previous call to run the\u001b[39;00m\n\u001b[1;32m   1992\u001b[0m \u001b[38;5;66;03m# callback.\u001b[39;00m\n\u001b[1;32m   1993\u001b[0m \u001b[38;5;28;01mwith\u001b[39;00m \u001b[38;5;28mself\u001b[39m\u001b[38;5;241m.\u001b[39m_lock:\n",
      "File \u001b[0;32m/usr/local/lib/python3.10/site-packages/joblib/parallel.py:1914\u001b[0m, in \u001b[0;36mParallel._get_sequential_output\u001b[0;34m(self, iterable)\u001b[0m\n\u001b[1;32m   1912\u001b[0m \u001b[38;5;28mself\u001b[39m\u001b[38;5;241m.\u001b[39mn_dispatched_batches \u001b[38;5;241m+\u001b[39m\u001b[38;5;241m=\u001b[39m \u001b[38;5;241m1\u001b[39m\n\u001b[1;32m   1913\u001b[0m \u001b[38;5;28mself\u001b[39m\u001b[38;5;241m.\u001b[39mn_dispatched_tasks \u001b[38;5;241m+\u001b[39m\u001b[38;5;241m=\u001b[39m \u001b[38;5;241m1\u001b[39m\n\u001b[0;32m-> 1914\u001b[0m res \u001b[38;5;241m=\u001b[39m \u001b[43mfunc\u001b[49m\u001b[43m(\u001b[49m\u001b[38;5;241;43m*\u001b[39;49m\u001b[43margs\u001b[49m\u001b[43m,\u001b[49m\u001b[43m \u001b[49m\u001b[38;5;241;43m*\u001b[39;49m\u001b[38;5;241;43m*\u001b[39;49m\u001b[43mkwargs\u001b[49m\u001b[43m)\u001b[49m\n\u001b[1;32m   1915\u001b[0m \u001b[38;5;28mself\u001b[39m\u001b[38;5;241m.\u001b[39mn_completed_tasks \u001b[38;5;241m+\u001b[39m\u001b[38;5;241m=\u001b[39m \u001b[38;5;241m1\u001b[39m\n\u001b[1;32m   1916\u001b[0m \u001b[38;5;28mself\u001b[39m\u001b[38;5;241m.\u001b[39mprint_progress()\n",
      "File \u001b[0;32m/usr/local/lib/python3.10/site-packages/sklearn/utils/parallel.py:139\u001b[0m, in \u001b[0;36m_FuncWrapper.__call__\u001b[0;34m(self, *args, **kwargs)\u001b[0m\n\u001b[1;32m    137\u001b[0m     config \u001b[38;5;241m=\u001b[39m {}\n\u001b[1;32m    138\u001b[0m \u001b[38;5;28;01mwith\u001b[39;00m config_context(\u001b[38;5;241m*\u001b[39m\u001b[38;5;241m*\u001b[39mconfig):\n\u001b[0;32m--> 139\u001b[0m     \u001b[38;5;28;01mreturn\u001b[39;00m \u001b[38;5;28;43mself\u001b[39;49m\u001b[38;5;241;43m.\u001b[39;49m\u001b[43mfunction\u001b[49m\u001b[43m(\u001b[49m\u001b[38;5;241;43m*\u001b[39;49m\u001b[43margs\u001b[49m\u001b[43m,\u001b[49m\u001b[43m \u001b[49m\u001b[38;5;241;43m*\u001b[39;49m\u001b[38;5;241;43m*\u001b[39;49m\u001b[43mkwargs\u001b[49m\u001b[43m)\u001b[49m\n",
      "File \u001b[0;32m/usr/local/lib/python3.10/site-packages/sklearn/ensemble/_forest.py:189\u001b[0m, in \u001b[0;36m_parallel_build_trees\u001b[0;34m(tree, bootstrap, X, y, sample_weight, tree_idx, n_trees, verbose, class_weight, n_samples_bootstrap, missing_values_in_feature_mask)\u001b[0m\n\u001b[1;32m    186\u001b[0m     \u001b[38;5;28;01melif\u001b[39;00m class_weight \u001b[38;5;241m==\u001b[39m \u001b[38;5;124m\"\u001b[39m\u001b[38;5;124mbalanced_subsample\u001b[39m\u001b[38;5;124m\"\u001b[39m:\n\u001b[1;32m    187\u001b[0m         curr_sample_weight \u001b[38;5;241m*\u001b[39m\u001b[38;5;241m=\u001b[39m compute_sample_weight(\u001b[38;5;124m\"\u001b[39m\u001b[38;5;124mbalanced\u001b[39m\u001b[38;5;124m\"\u001b[39m, y, indices\u001b[38;5;241m=\u001b[39mindices)\n\u001b[0;32m--> 189\u001b[0m     \u001b[43mtree\u001b[49m\u001b[38;5;241;43m.\u001b[39;49m\u001b[43m_fit\u001b[49m\u001b[43m(\u001b[49m\n\u001b[1;32m    190\u001b[0m \u001b[43m        \u001b[49m\u001b[43mX\u001b[49m\u001b[43m,\u001b[49m\n\u001b[1;32m    191\u001b[0m \u001b[43m        \u001b[49m\u001b[43my\u001b[49m\u001b[43m,\u001b[49m\n\u001b[1;32m    192\u001b[0m \u001b[43m        \u001b[49m\u001b[43msample_weight\u001b[49m\u001b[38;5;241;43m=\u001b[39;49m\u001b[43mcurr_sample_weight\u001b[49m\u001b[43m,\u001b[49m\n\u001b[1;32m    193\u001b[0m \u001b[43m        \u001b[49m\u001b[43mcheck_input\u001b[49m\u001b[38;5;241;43m=\u001b[39;49m\u001b[38;5;28;43;01mFalse\u001b[39;49;00m\u001b[43m,\u001b[49m\n\u001b[1;32m    194\u001b[0m \u001b[43m        \u001b[49m\u001b[43mmissing_values_in_feature_mask\u001b[49m\u001b[38;5;241;43m=\u001b[39;49m\u001b[43mmissing_values_in_feature_mask\u001b[49m\u001b[43m,\u001b[49m\n\u001b[1;32m    195\u001b[0m \u001b[43m    \u001b[49m\u001b[43m)\u001b[49m\n\u001b[1;32m    196\u001b[0m \u001b[38;5;28;01melse\u001b[39;00m:\n\u001b[1;32m    197\u001b[0m     tree\u001b[38;5;241m.\u001b[39m_fit(\n\u001b[1;32m    198\u001b[0m         X,\n\u001b[1;32m    199\u001b[0m         y,\n\u001b[0;32m   (...)\u001b[0m\n\u001b[1;32m    202\u001b[0m         missing_values_in_feature_mask\u001b[38;5;241m=\u001b[39mmissing_values_in_feature_mask,\n\u001b[1;32m    203\u001b[0m     )\n",
      "File \u001b[0;32m/usr/local/lib/python3.10/site-packages/sklearn/tree/_classes.py:472\u001b[0m, in \u001b[0;36mBaseDecisionTree._fit\u001b[0;34m(self, X, y, sample_weight, check_input, missing_values_in_feature_mask)\u001b[0m\n\u001b[1;32m    461\u001b[0m \u001b[38;5;28;01melse\u001b[39;00m:\n\u001b[1;32m    462\u001b[0m     builder \u001b[38;5;241m=\u001b[39m BestFirstTreeBuilder(\n\u001b[1;32m    463\u001b[0m         splitter,\n\u001b[1;32m    464\u001b[0m         min_samples_split,\n\u001b[0;32m   (...)\u001b[0m\n\u001b[1;32m    469\u001b[0m         \u001b[38;5;28mself\u001b[39m\u001b[38;5;241m.\u001b[39mmin_impurity_decrease,\n\u001b[1;32m    470\u001b[0m     )\n\u001b[0;32m--> 472\u001b[0m \u001b[43mbuilder\u001b[49m\u001b[38;5;241;43m.\u001b[39;49m\u001b[43mbuild\u001b[49m\u001b[43m(\u001b[49m\u001b[38;5;28;43mself\u001b[39;49m\u001b[38;5;241;43m.\u001b[39;49m\u001b[43mtree_\u001b[49m\u001b[43m,\u001b[49m\u001b[43m \u001b[49m\u001b[43mX\u001b[49m\u001b[43m,\u001b[49m\u001b[43m \u001b[49m\u001b[43my\u001b[49m\u001b[43m,\u001b[49m\u001b[43m \u001b[49m\u001b[43msample_weight\u001b[49m\u001b[43m,\u001b[49m\u001b[43m \u001b[49m\u001b[43mmissing_values_in_feature_mask\u001b[49m\u001b[43m)\u001b[49m\n\u001b[1;32m    474\u001b[0m \u001b[38;5;28;01mif\u001b[39;00m \u001b[38;5;28mself\u001b[39m\u001b[38;5;241m.\u001b[39mn_outputs_ \u001b[38;5;241m==\u001b[39m \u001b[38;5;241m1\u001b[39m \u001b[38;5;129;01mand\u001b[39;00m is_classifier(\u001b[38;5;28mself\u001b[39m):\n\u001b[1;32m    475\u001b[0m     \u001b[38;5;28mself\u001b[39m\u001b[38;5;241m.\u001b[39mn_classes_ \u001b[38;5;241m=\u001b[39m \u001b[38;5;28mself\u001b[39m\u001b[38;5;241m.\u001b[39mn_classes_[\u001b[38;5;241m0\u001b[39m]\n",
      "\u001b[0;31mKeyboardInterrupt\u001b[0m: "
     ]
    }
   ],
   "source": [
    "# 最初のモデル\n",
    "from logic.factory_manage.predict_model_v4_4 import full_walkforward_pipeline\n",
    "\n",
    "pred_df_slim = full_walkforward_pipeline(\n",
    "    df)"
   ]
  },
  {
   "cell_type": "code",
   "execution_count": null,
   "metadata": {},
   "outputs": [],
   "source": [
    "# 交差検証パイプライン\n",
    "from logic.factory_manage.predict_model_v4_5 import cross_validation_pipeline\n",
    "    \n",
    "pred_df_slim = cross_validation_pipeline(\n",
    "    df,\n",
    "    n_splits=5,)\n"
   ]
  },
  {
   "cell_type": "code",
   "execution_count": 7,
   "metadata": {},
   "outputs": [
    {
     "name": "stdout",
     "output_type": "stream",
     "text": [
      "\n",
      "履歴60日で評価中...\n"
     ]
    },
    {
     "name": "stderr",
     "output_type": "stream",
     "text": [
      "/work/app/logic/factory_manage/predict_model_v4_5_val.py:36: RuntimeWarning: divide by zero encountered in divide\n",
      "  mape = np.mean(np.abs((y_true - y_pred) / y_true)) * 100\n"
     ]
    },
    {
     "name": "stdout",
     "output_type": "stream",
     "text": [
      "  R² = 0.930, MAE = 4,222kg, RMSE = 5,918kg, MAPE = inf%, 最大誤差=23,739kg\n",
      "\n",
      "履歴120日で評価中...\n"
     ]
    },
    {
     "name": "stderr",
     "output_type": "stream",
     "text": [
      "/work/app/logic/factory_manage/predict_model_v4_5_val.py:36: RuntimeWarning: divide by zero encountered in divide\n",
      "  mape = np.mean(np.abs((y_true - y_pred) / y_true)) * 100\n"
     ]
    },
    {
     "name": "stdout",
     "output_type": "stream",
     "text": [
      "  R² = 0.948, MAE = 3,770kg, RMSE = 5,162kg, MAPE = inf%, 最大誤差=18,634kg\n",
      "\n",
      "履歴180日で評価中...\n"
     ]
    },
    {
     "name": "stderr",
     "output_type": "stream",
     "text": [
      "/work/app/logic/factory_manage/predict_model_v4_5_val.py:36: RuntimeWarning: divide by zero encountered in divide\n",
      "  mape = np.mean(np.abs((y_true - y_pred) / y_true)) * 100\n"
     ]
    },
    {
     "name": "stdout",
     "output_type": "stream",
     "text": [
      "  R² = 0.973, MAE = 2,825kg, RMSE = 3,989kg, MAPE = inf%, 最大誤差=16,106kg\n",
      "\n",
      "履歴240日で評価中...\n"
     ]
    },
    {
     "name": "stderr",
     "output_type": "stream",
     "text": [
      "/work/app/logic/factory_manage/predict_model_v4_5_val.py:36: RuntimeWarning: divide by zero encountered in divide\n",
      "  mape = np.mean(np.abs((y_true - y_pred) / y_true)) * 100\n"
     ]
    },
    {
     "name": "stdout",
     "output_type": "stream",
     "text": [
      "  R² = 0.989, MAE = 1,798kg, RMSE = 2,580kg, MAPE = inf%, 最大誤差=9,514kg\n",
      "\n",
      "履歴300日で評価中...\n"
     ]
    },
    {
     "name": "stderr",
     "output_type": "stream",
     "text": [
      "/work/app/logic/factory_manage/predict_model_v4_5_val.py:36: RuntimeWarning: divide by zero encountered in divide\n",
      "  mape = np.mean(np.abs((y_true - y_pred) / y_true)) * 100\n"
     ]
    },
    {
     "name": "stdout",
     "output_type": "stream",
     "text": [
      "  R² = 0.995, MAE = 1,254kg, RMSE = 1,768kg, MAPE = inf%, 最大誤差=5,309kg\n",
      "\n",
      "履歴360日で評価中...\n",
      "  -> 評価データが少ないためスキップ (11件)\n"
     ]
    }
   ],
   "source": [
    "from logic.factory_manage.predict_model_v4_5_val import history_window_search\n",
    "pred = history_window_search(\n",
    "    df,\n",
    "    window_list=[60,120,180,240,300,360],\n",
    "    min_eval_data=30\n",
    ")\n"
   ]
  }
 ],
 "metadata": {
  "kernelspec": {
   "display_name": "Python 3",
   "language": "python",
   "name": "python3"
  },
  "language_info": {
   "codemirror_mode": {
    "name": "ipython",
    "version": 3
   },
   "file_extension": ".py",
   "mimetype": "text/x-python",
   "name": "python",
   "nbconvert_exporter": "python",
   "pygments_lexer": "ipython3",
   "version": "3.10.18"
  }
 },
 "nbformat": 4,
 "nbformat_minor": 2
}
