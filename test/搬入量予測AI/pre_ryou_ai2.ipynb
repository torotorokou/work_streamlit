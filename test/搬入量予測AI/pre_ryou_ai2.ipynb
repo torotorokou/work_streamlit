{
 "cells": [
  {
   "cell_type": "markdown",
   "metadata": {},
   "source": [
    "# データ読込"
   ]
  },
  {
   "cell_type": "code",
   "execution_count": null,
   "metadata": {},
   "outputs": [],
   "source": [
    "import pandas as pd\n",
    "from logic.factory_manage.sql import load_data_from_sqlite\n",
    "from utils.get_holydays import get_japanese_holidays\n",
    "from logic.factory_manage.predict_model_v3 import generate_features, train_and_predict\n",
    "\n",
    "# CSVファイル読み込み（パスは適宜変更）\n",
    "path = \"/work/app/data/factory_manage/weight_data.db\"\n",
    "df = load_data_from_sqlite()\n",
    "df[\"伝票日付\"].max()\n",
    "\n",
    "hol_max = df[\"伝票日付\"].max()\n",
    "hol_min = df[\"伝票日付\"].min()\n",
    "holiday = get_japanese_holidays(hol_min, hol_max)\n"
   ]
  },
  {
   "cell_type": "markdown",
   "metadata": {},
   "source": [
    "## 特徴量生成"
   ]
  },
  {
   "cell_type": "code",
   "execution_count": null,
   "metadata": {},
   "outputs": [],
   "source": [
    "from logic.factory_manage.predict_model_v4_3 import full_walkforward_pipeline\n",
    "\n",
    "pred_df = full_walkforward_pipeline(\n",
    "    df,\n",
    "    holidays=holiday,\n",
    ")\n"
   ]
  }
 ],
 "metadata": {
  "kernelspec": {
   "display_name": "Python 3",
   "language": "python",
   "name": "python3"
  },
  "language_info": {
   "codemirror_mode": {
    "name": "ipython",
    "version": 3
   },
   "file_extension": ".py",
   "mimetype": "text/x-python",
   "name": "python",
   "nbconvert_exporter": "python",
   "pygments_lexer": "ipython3",
   "version": "3.10.18"
  }
 },
 "nbformat": 4,
 "nbformat_minor": 2
}
