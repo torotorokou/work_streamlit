{
 "cells": [
  {
   "cell_type": "code",
   "execution_count": 15,
   "id": "12b33ec6",
   "metadata": {},
   "outputs": [],
   "source": [
    "import os\n",
    "\n",
    "os.chdir(\"/work\")\n",
    "\n",
    "# %% 準備\n",
    "import pandas as pd\n",
    "from utils.logger import app_logger\n",
    "from utils.config_loader import get_template_config\n",
    "from logic.manage.utils.csv_loader import load_all_filtered_dataframes\n",
    "from logic.manage.utils.load_template import load_master_and_template\n",
    "from IPython.display import display\n",
    "import re\n",
    "from logic.manage.factory_report import process"
   ]
  },
  {
   "cell_type": "code",
   "execution_count": 16,
   "id": "8a81e71b",
   "metadata": {},
   "outputs": [],
   "source": [
    "from logic.manage.processors.factory_report_yuuka import process_yuuka"
   ]
  },
  {
   "cell_type": "code",
   "execution_count": 21,
   "id": "06be0887",
   "metadata": {},
   "outputs": [],
   "source": [
    "# 表示ラベルマップ（処理対象名として使う）\n",
    "csv_label_map = {\"yard\": \"ヤード一覧\", \"shipping\": \"出荷一覧\", \"receive\": \"受入一覧\"}\n",
    "\n",
    "debug_shipping = \"/work/data/output/debug_shipping.parquet\"\n",
    "debug_yard = \"/work/data/output/debug_yard.parquet\"\n",
    "\n",
    "dfs = {\n",
    "    \"shipping\": pd.read_parquet(debug_shipping),\n",
    "    \"yard\": pd.read_parquet(debug_yard),\n",
    "}  # テスト用CSV\n",
    "# dfs\n",
    "df_shipping = dfs[\"shipping\"]\n",
    "df_yard = dfs[\"yard\"]"
   ]
  },
  {
   "cell_type": "code",
   "execution_count": 27,
   "id": "8d2cc529",
   "metadata": {},
   "outputs": [],
   "source": [
    "def process_yuuka(df_yard, df_shipping) -> pd.DataFrame:\n",
    "    logger = app_logger()\n",
    "\n",
    "    # マスターCSVの読込\n",
    "    master_path = get_template_config()[\"factory_report\"][\"master_csv_path\"][\"yuuka\"]\n",
    "    master_csv = load_master_and_template(master_path)\n",
    "\n",
    "    # 各処理を実行\n",
    "    # updated_master_csv = apply_shipping(master_csv, df_shipping)\n",
    "\n",
    "    # display(master_csv)\n",
    "    return master_csv\n",
    "master_csv1 = process_yuuka(df_yard, df_shipping)"
   ]
  },
  {
   "cell_type": "code",
   "execution_count": null,
   "id": "b59a3044",
   "metadata": {},
   "outputs": [],
   "source": [
    "def apply_shipping(master_csv, df_shipping):\n",
    "    logger = app_logger()\n",
    "    \n",
    "\n",
    "master_csv2 = apply_shipping(master_csv1,df_shipping)"
   ]
  },
  {
   "cell_type": "code",
   "execution_count": null,
   "id": "78d8f263",
   "metadata": {},
   "outputs": [],
   "source": []
  }
 ],
 "metadata": {
  "kernelspec": {
   "display_name": "Python 3",
   "language": "python",
   "name": "python3"
  },
  "language_info": {
   "codemirror_mode": {
    "name": "ipython",
    "version": 3
   },
   "file_extension": ".py",
   "mimetype": "text/x-python",
   "name": "python",
   "nbconvert_exporter": "python",
   "pygments_lexer": "ipython3",
   "version": "3.10.17"
  }
 },
 "nbformat": 4,
 "nbformat_minor": 5
}
