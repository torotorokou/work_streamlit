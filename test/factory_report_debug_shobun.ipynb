{
 "cells": [
  {
   "cell_type": "code",
   "execution_count": 2,
   "id": "12b33ec6",
   "metadata": {},
   "outputs": [],
   "source": [
    "import os\n",
    "\n",
    "os.chdir(\"/work\")\n",
    "\n",
    "# %% 準備\n",
    "import pandas as pd\n",
    "from utils.logger import app_logger\n",
    "from utils.config_loader import get_template_config\n",
    "from logic.manage.utils.csv_loader import load_all_filtered_dataframes\n",
    "from logic.manage.utils.load_template import load_master_and_template\n",
    "from IPython.display import display\n",
    "import re\n",
    "from logic.manage.factory_report import process\n",
    "from logic.manage.utils.excel_tools import create_label_rows_generic, sort_by_cell_row"
   ]
  },
  {
   "cell_type": "code",
   "execution_count": 3,
   "id": "06be0887",
   "metadata": {},
   "outputs": [],
   "source": [
    "# 表示ラベルマップ（処理対象名として使う）\n",
    "csv_label_map = {\"yard\": \"ヤード一覧\", \"shipping\": \"出荷一覧\", \"receive\": \"受入一覧\"}\n",
    "\n",
    "debug_receive = \"/work/data/output/debug_receive.parquet\"\n",
    "debug_shipping = \"/work/data/output/debug_shipping.parquet\"\n",
    "debug_yard = \"/work/data/output/debug_yard.parquet\"\n",
    "\n",
    "dfs = {\n",
    "    \"receive\": pd.read_parquet(debug_receive),\n",
    "    \"shipping\": pd.read_parquet(debug_shipping),\n",
    "    \"yard\": pd.read_parquet(debug_yard),\n",
    "}  # テスト用CSV\n",
    "# dfs\n",
    "df_shipping = dfs[\"shipping\"]\n",
    "df_yard = dfs[\"yard\"]"
   ]
  },
  {
   "cell_type": "code",
   "execution_count": null,
   "id": "8d2cc529",
   "metadata": {},
   "outputs": [
    {
     "name": "stderr",
     "output_type": "stream",
     "text": [
      "2025-04-28 13:22:09,974 [INFO] (factory_report.py:27) [fb6959af9847/root] [テンプレート設定読込] key=factory_report, files=['yard', 'shipping']\n",
      "2025-04-28 13:22:10,010 [INFO] (factory_report.py:35) [fb6959af9847/root] ▶️ 出荷処分データ処理開始\n",
      "/work/utils/data_cleaning.py:6: FutureWarning: Setting an item of incompatible dtype is deprecated and will raise an error in a future version of pandas. Value '['8339' '5238' '8340' '8085' '6421' '8337' '8215' '8336' '8327' '8327'\n",
      " '8327' '8327' '705' '1185' '8076' '8077' '5199' '8334' '6797' '8338'\n",
      " '8341' '8080' '349' '6786' '5227' '8329' '8360' '8363' '8398' '8679'\n",
      " '339' '8082']' has dtype incompatible with int64, please explicitly cast to a compatible dtype first.\n",
      "  df.loc[valid, col] = df.loc[valid, col].apply(lambda x: str(int(float(x))))\n",
      "2025-04-28 13:22:10,092 [INFO] (factory_report_shobun.py:40) [fb6959af9847/root] ✅ 出荷処分の帳票生成が完了しました。\n",
      "2025-04-28 13:22:10,094 [INFO] (factory_report.py:38) [fb6959af9847/root] ▶️ 出荷有価データ処理開始\n",
      "2025-04-28 13:22:10,137 [INFO] (summary_tools.py:99) [fb6959af9847/root] ▶️ 処理対象シート: ヤード, キー: ['品名'], 集計列: 正味重量\n",
      "2025-04-28 13:22:10,156 [INFO] (summary_tools.py:99) [fb6959af9847/root] ▶️ 処理対象シート: 出荷, キー: ['品名'], 集計列: 正味重量\n",
      "2025-04-28 13:22:10,179 [INFO] (summary_tools.py:99) [fb6959af9847/root] ▶️ 処理対象シート: 出荷, キー: ['業者名', '品名'], 集計列: 正味重量\n",
      "2025-04-28 13:22:10,202 [INFO] (summary_tools.py:99) [fb6959af9847/root] ▶️ 処理対象シート: 出荷, キー: ['現場名', '運搬業者名', '品名'], 集計列: 正味重量\n",
      "2025-04-28 13:22:10,236 [INFO] (factory_report_yuuka.py:59) [fb6959af9847/root] ✅ 出荷有価の帳票生成が完了しました。\n",
      "2025-04-28 13:22:10,237 [INFO] (factory_report.py:41) [fb6959af9847/root] ▶️ 出荷ヤードデータ処理開始\n",
      "2025-04-28 13:22:10,300 [INFO] (summary_tools.py:99) [fb6959af9847/root] ▶️ 処理対象シート: ヤード, キー: ['種類名'], 集計列: 正味重量\n",
      "2025-04-28 13:22:10,326 [INFO] (summary_tools.py:99) [fb6959af9847/root] ▶️ 処理対象シート: ヤード, キー: ['種類名', '品名'], 集計列: 正味重量\n",
      "2025-04-28 13:22:10,362 [INFO] (summary_tools.py:99) [fb6959af9847/root] ▶️ 処理対象シート: 出荷, キー: ['業者名', '品名'], 集計列: 正味重量\n",
      "2025-04-28 13:22:10,384 [INFO] (factory_report_yard.py:47) [fb6959af9847/root] ✅ 出荷ヤードの帳票生成が完了しました。\n",
      "2025-04-28 13:22:10,386 [INFO] (factory_report.py:45) [fb6959af9847/root] 🧩 各処理結果を結合中...\n",
      "2025-04-28 13:22:10,420 [DEBUG] (factory_report.py:59) [fb6959af9847/root] \n",
      "              大項目   セル             値 カテゴリ\n",
      "0              月日   O1         3月31日  NaN\n",
      "1              和暦   M1          令和7年  NaN\n",
      "2                  F19       紙、ダンボール   有価\n",
      "3                  I19        ペットボトル   有価\n",
      "4                  C19         スクラップ   有価\n",
      "5                  L19          アルミ類   有価\n",
      "6            アルミ類  L20         450.0   有価\n",
      "7         紙、ダンボール  F20         250.0   有価\n",
      "8          ペットボトル  I20         190.0   有価\n",
      "9           スクラップ  C20         670.0   有価\n",
      "10                 I21          モーター   有価\n",
      "11                 F21          トランス   有価\n",
      "12                 L21         ラジエター   有価\n",
      "13          合計_有価  O21       21350.0   有価\n",
      "14                 C21         ステンレス   有価\n",
      "15          ステンレス  C22           0.0   有価\n",
      "16           トランス  F22           0.0   有価\n",
      "17           モーター  I22           0.0   有価\n",
      "18          ラジエター  L22           0.0   有価\n",
      "19                 F23          アルミ缶   有価\n",
      "20                 C23            雑線   有価\n",
      "21                 L23           室外機   有価\n",
      "22                 I23            千地   有価\n",
      "23             千地  I24        1460.0   有価\n",
      "24            室外機  L24           0.0   有価\n",
      "25           アルミ缶  F24          60.0   有価\n",
      "26             雑線  C24           0.0   有価\n",
      "27                 I25    塩ﾋﾞ管(ｸﾞﾚｰ)   有価\n",
      "28                 F25            配線   有価\n",
      "29                 C25             銅   有価\n",
      "30                 L25      GB(ｷﾞﾛA)   有価\n",
      "31              銅  C26           0.0   有価\n",
      "32             配線  F26        2270.0   有価\n",
      "33       GB(ｷﾞﾛA)  L26       16000.0   有価\n",
      "34     塩ﾋﾞ管(ｸﾞﾚｰ)  I26           0.0   有価\n",
      "35                 C27         Cﾌﾟﾚｽ   有価\n",
      "36                 F27           給湯器   有価\n",
      "37                 I27         スチール缶   有価\n",
      "38            給湯器  F28           0.0   有価\n",
      "39          スチール缶  I28           0.0   有価\n",
      "40          Cﾌﾟﾚｽ  C28           0.0   有価\n",
      "41                 F29         東京ボード   処分\n",
      "42                 L29        松岡環境開発   処分\n",
      "43                 I29          木材開発   処分\n",
      "44                 C29          共同土木   処分\n",
      "45           木材開発  I30        2680.0   処分\n",
      "46           共同土木  C30        2780.0   処分\n",
      "47          東京ボード  F30       10420.0   処分\n",
      "48         松岡環境開発  L30           0.0   処分\n",
      "49                 F31            丸幸   処分\n",
      "50                 L31          新潟環境   処分\n",
      "51                 I31          杉田建材   処分\n",
      "52       合計_処分ヤード  O31       79700.0  NaN\n",
      "53                 C31         アクトリー   処分\n",
      "54          アクトリー  C32           0.0   処分\n",
      "55             丸幸  F32           0.0   処分\n",
      "56           杉田建材  I32       13280.0   処分\n",
      "57           新潟環境  L32           0.0   処分\n",
      "58                 L33     丸源企業（ C ）   処分\n",
      "59                 I33     丸源企業（ B ）   処分\n",
      "60                 F33     丸源企業（ A ）   処分\n",
      "61                 C33     丸源企業（ S ）   処分\n",
      "62      丸源企業（ S ）  C34           0.0   処分\n",
      "63      丸源企業（ A ）  F34       13870.0   処分\n",
      "64      丸源企業（ C ）  L34           0.0   処分\n",
      "65      丸源企業（ B ）  I34       10600.0   処分\n",
      "66                 I35            高野   処分\n",
      "67                 L35          トクヤマ   処分\n",
      "68                 F35    築館ｸﾘｰﾝｾﾝﾀｰ   処分\n",
      "69                 C35      北陸環境サービス   処分\n",
      "70       北陸環境サービス  C36           0.0   処分\n",
      "71     築館ｸﾘｰﾝｾﾝﾀｰ  F36           0.0   処分\n",
      "72             高野  I36           0.0   処分\n",
      "73           トクヤマ  L36           0.0   処分\n",
      "74                 C37        砂町アスコン   処分\n",
      "75                 F37      ｱﾙﾌｧﾌｫﾙﾑ   処分\n",
      "76                 I37           FDS   処分\n",
      "77                 L37         ﾌｼﾞｺｰ   処分\n",
      "78          ﾌｼﾞｺｰ  L38           0.0   処分\n",
      "79            FDS  I38           0.0   処分\n",
      "80       ｱﾙﾌｧﾌｫﾙﾑ  F38       12710.0   処分\n",
      "81         砂町アスコン  C38           0.0   処分\n",
      "82                 C39  ｸﾘｰﾝﾃｯｸｼｵｶﾞｲ   処分\n",
      "83                 F39        ﾃﾞｲ・ｼｲ   処分\n",
      "84                 I39       TREｶﾞﾗｽ   処分\n",
      "85                 L39            浜屋   処分\n",
      "86             浜屋  L40           0.0   処分\n",
      "87        TREｶﾞﾗｽ  I40           0.0   処分\n",
      "88         ﾃﾞｲ・ｼｲ  F40           0.0   処分\n",
      "89   ｸﾘｰﾝﾃｯｸｼｵｶﾞｲ  C40           0.0   処分\n",
      "90                 C41         東港金属　   処分\n",
      "91                 F41    ﾂﾈｲｼｶﾑﾃｯｸｽ   処分\n",
      "92                 I41          国分商会   処分\n",
      "93                 L41     ｴｺ･ﾏｲﾆﾝｸﾞ   処分\n",
      "94      ｴｺ･ﾏｲﾆﾝｸﾞ  L42           0.0   処分\n",
      "95           国分商会  I42           0.0   処分\n",
      "96          東港金属　  C42           0.0   処分\n",
      "97     ﾂﾈｲｼｶﾑﾃｯｸｽ  F42           0.0   処分\n",
      "98                 F43    市原ﾆｭｰｴﾅｼﾞｰ   処分\n",
      "99                 C43         東瀝青建設   処分\n",
      "100                I43       西部ｻｰﾋﾞｽ   処分\n",
      "101                L43         ｸﾞﾗﾝﾏ   処分\n",
      "102    市原ﾆｭｰｴﾅｼﾞｰ  F44           0.0   処分\n",
      "103         東瀝青建設  C44           0.0   処分\n",
      "104         ｸﾞﾗﾝﾏ  L44           0.0   処分\n",
      "105       西部ｻｰﾋﾞｽ  I44           0.0   処分\n",
      "106                I49       ヤード（雑品）  ヤード\n",
      "107                L49           その他  ヤード\n",
      "108                F49       ヤード（金庫）  ヤード\n",
      "109                C49   ヤード（シュレッダー）  ヤード\n",
      "110       ヤード（雑品）  I50           0.0  ヤード\n",
      "111           その他  L50        1660.0  ヤード\n",
      "112       ヤード（金庫）  F50         180.0  ヤード\n",
      "113   ヤード（シュレッダー）  C50       11520.0  ヤード\n",
      "114           総合計  O50      101050.0  NaN\n",
      "115        合計_ヤード  未設定       13360.0  ヤード\n",
      "116         合計_処分  未設定       66340.0   処分\n"
     ]
    },
    {
     "data": {
      "application/vnd.microsoft.datawrangler.viewer.v0+json": {
       "columns": [
        {
         "name": "index",
         "rawType": "int64",
         "type": "integer"
        },
        {
         "name": "大項目",
         "rawType": "object",
         "type": "string"
        },
        {
         "name": "セル",
         "rawType": "object",
         "type": "string"
        },
        {
         "name": "値",
         "rawType": "object",
         "type": "unknown"
        },
        {
         "name": "カテゴリ",
         "rawType": "object",
         "type": "unknown"
        }
       ],
       "conversionMethod": "pd.DataFrame",
       "ref": "e9c5123c-f65f-4915-a8cb-56917d5555ec",
       "rows": [
        [
         "0",
         "月日",
         "O1",
         "3月31日",
         null
        ],
        [
         "1",
         "和暦",
         "M1",
         "令和7年",
         null
        ],
        [
         "2",
         "",
         "F19",
         "紙、ダンボール",
         "有価"
        ],
        [
         "3",
         "",
         "I19",
         "ペットボトル",
         "有価"
        ],
        [
         "4",
         "",
         "C19",
         "スクラップ",
         "有価"
        ],
        [
         "5",
         "",
         "L19",
         "アルミ類",
         "有価"
        ],
        [
         "6",
         "アルミ類",
         "L20",
         "450.0",
         "有価"
        ],
        [
         "7",
         "紙、ダンボール",
         "F20",
         "250.0",
         "有価"
        ],
        [
         "8",
         "ペットボトル",
         "I20",
         "190.0",
         "有価"
        ],
        [
         "9",
         "スクラップ",
         "C20",
         "670.0",
         "有価"
        ],
        [
         "10",
         "",
         "I21",
         "モーター",
         "有価"
        ],
        [
         "11",
         "",
         "F21",
         "トランス",
         "有価"
        ],
        [
         "12",
         "",
         "L21",
         "ラジエター",
         "有価"
        ],
        [
         "13",
         "合計_有価",
         "O21",
         "21350.0",
         "有価"
        ],
        [
         "14",
         "",
         "C21",
         "ステンレス",
         "有価"
        ],
        [
         "15",
         "ステンレス",
         "C22",
         "0.0",
         "有価"
        ],
        [
         "16",
         "トランス",
         "F22",
         "0.0",
         "有価"
        ],
        [
         "17",
         "モーター",
         "I22",
         "0.0",
         "有価"
        ],
        [
         "18",
         "ラジエター",
         "L22",
         "0.0",
         "有価"
        ],
        [
         "19",
         "",
         "F23",
         "アルミ缶",
         "有価"
        ],
        [
         "20",
         "",
         "C23",
         "雑線",
         "有価"
        ],
        [
         "21",
         "",
         "L23",
         "室外機",
         "有価"
        ],
        [
         "22",
         "",
         "I23",
         "千地",
         "有価"
        ],
        [
         "23",
         "千地",
         "I24",
         "1460.0",
         "有価"
        ],
        [
         "24",
         "室外機",
         "L24",
         "0.0",
         "有価"
        ],
        [
         "25",
         "アルミ缶",
         "F24",
         "60.0",
         "有価"
        ],
        [
         "26",
         "雑線",
         "C24",
         "0.0",
         "有価"
        ],
        [
         "27",
         "",
         "I25",
         "塩ﾋﾞ管(ｸﾞﾚｰ)",
         "有価"
        ],
        [
         "28",
         "",
         "F25",
         "配線",
         "有価"
        ],
        [
         "29",
         "",
         "C25",
         "銅",
         "有価"
        ],
        [
         "30",
         "",
         "L25",
         "GB(ｷﾞﾛA)",
         "有価"
        ],
        [
         "31",
         "銅",
         "C26",
         "0.0",
         "有価"
        ],
        [
         "32",
         "配線",
         "F26",
         "2270.0",
         "有価"
        ],
        [
         "33",
         "GB(ｷﾞﾛA)",
         "L26",
         "16000.0",
         "有価"
        ],
        [
         "34",
         "塩ﾋﾞ管(ｸﾞﾚｰ)",
         "I26",
         "0.0",
         "有価"
        ],
        [
         "35",
         "",
         "C27",
         "Cﾌﾟﾚｽ",
         "有価"
        ],
        [
         "36",
         "",
         "F27",
         "給湯器",
         "有価"
        ],
        [
         "37",
         "",
         "I27",
         "スチール缶",
         "有価"
        ],
        [
         "38",
         "給湯器",
         "F28",
         "0.0",
         "有価"
        ],
        [
         "39",
         "スチール缶",
         "I28",
         "0.0",
         "有価"
        ],
        [
         "40",
         "Cﾌﾟﾚｽ",
         "C28",
         "0.0",
         "有価"
        ],
        [
         "41",
         "",
         "F29",
         "東京ボード",
         "処分"
        ],
        [
         "42",
         "",
         "L29",
         "松岡環境開発",
         "処分"
        ],
        [
         "43",
         "",
         "I29",
         "木材開発",
         "処分"
        ],
        [
         "44",
         "",
         "C29",
         "共同土木",
         "処分"
        ],
        [
         "45",
         "木材開発",
         "I30",
         "2680.0",
         "処分"
        ],
        [
         "46",
         "共同土木",
         "C30",
         "2780.0",
         "処分"
        ],
        [
         "47",
         "東京ボード",
         "F30",
         "10420.0",
         "処分"
        ],
        [
         "48",
         "松岡環境開発",
         "L30",
         "0.0",
         "処分"
        ],
        [
         "49",
         "",
         "F31",
         "丸幸",
         "処分"
        ]
       ],
       "shape": {
        "columns": 4,
        "rows": 117
       }
      },
      "text/html": [
       "<div>\n",
       "<style scoped>\n",
       "    .dataframe tbody tr th:only-of-type {\n",
       "        vertical-align: middle;\n",
       "    }\n",
       "\n",
       "    .dataframe tbody tr th {\n",
       "        vertical-align: top;\n",
       "    }\n",
       "\n",
       "    .dataframe thead th {\n",
       "        text-align: right;\n",
       "    }\n",
       "</style>\n",
       "<table border=\"1\" class=\"dataframe\">\n",
       "  <thead>\n",
       "    <tr style=\"text-align: right;\">\n",
       "      <th></th>\n",
       "      <th>大項目</th>\n",
       "      <th>セル</th>\n",
       "      <th>値</th>\n",
       "      <th>カテゴリ</th>\n",
       "    </tr>\n",
       "  </thead>\n",
       "  <tbody>\n",
       "    <tr>\n",
       "      <th>0</th>\n",
       "      <td>月日</td>\n",
       "      <td>O1</td>\n",
       "      <td>3月31日</td>\n",
       "      <td>NaN</td>\n",
       "    </tr>\n",
       "    <tr>\n",
       "      <th>1</th>\n",
       "      <td>和暦</td>\n",
       "      <td>M1</td>\n",
       "      <td>令和7年</td>\n",
       "      <td>NaN</td>\n",
       "    </tr>\n",
       "    <tr>\n",
       "      <th>2</th>\n",
       "      <td></td>\n",
       "      <td>F19</td>\n",
       "      <td>紙、ダンボール</td>\n",
       "      <td>有価</td>\n",
       "    </tr>\n",
       "    <tr>\n",
       "      <th>3</th>\n",
       "      <td></td>\n",
       "      <td>I19</td>\n",
       "      <td>ペットボトル</td>\n",
       "      <td>有価</td>\n",
       "    </tr>\n",
       "    <tr>\n",
       "      <th>4</th>\n",
       "      <td></td>\n",
       "      <td>C19</td>\n",
       "      <td>スクラップ</td>\n",
       "      <td>有価</td>\n",
       "    </tr>\n",
       "    <tr>\n",
       "      <th>...</th>\n",
       "      <td>...</td>\n",
       "      <td>...</td>\n",
       "      <td>...</td>\n",
       "      <td>...</td>\n",
       "    </tr>\n",
       "    <tr>\n",
       "      <th>112</th>\n",
       "      <td>ヤード（金庫）</td>\n",
       "      <td>F50</td>\n",
       "      <td>180.0</td>\n",
       "      <td>ヤード</td>\n",
       "    </tr>\n",
       "    <tr>\n",
       "      <th>113</th>\n",
       "      <td>ヤード（シュレッダー）</td>\n",
       "      <td>C50</td>\n",
       "      <td>11520.0</td>\n",
       "      <td>ヤード</td>\n",
       "    </tr>\n",
       "    <tr>\n",
       "      <th>114</th>\n",
       "      <td>総合計</td>\n",
       "      <td>O50</td>\n",
       "      <td>101050.0</td>\n",
       "      <td>NaN</td>\n",
       "    </tr>\n",
       "    <tr>\n",
       "      <th>115</th>\n",
       "      <td>合計_ヤード</td>\n",
       "      <td>未設定</td>\n",
       "      <td>13360.0</td>\n",
       "      <td>ヤード</td>\n",
       "    </tr>\n",
       "    <tr>\n",
       "      <th>116</th>\n",
       "      <td>合計_処分</td>\n",
       "      <td>未設定</td>\n",
       "      <td>66340.0</td>\n",
       "      <td>処分</td>\n",
       "    </tr>\n",
       "  </tbody>\n",
       "</table>\n",
       "<p>117 rows × 4 columns</p>\n",
       "</div>"
      ],
      "text/plain": [
       "             大項目   セル         値 カテゴリ\n",
       "0             月日   O1     3月31日  NaN\n",
       "1             和暦   M1      令和7年  NaN\n",
       "2                 F19   紙、ダンボール   有価\n",
       "3                 I19    ペットボトル   有価\n",
       "4                 C19     スクラップ   有価\n",
       "..           ...  ...       ...  ...\n",
       "112      ヤード（金庫）  F50     180.0  ヤード\n",
       "113  ヤード（シュレッダー）  C50   11520.0  ヤード\n",
       "114          総合計  O50  101050.0  NaN\n",
       "115       合計_ヤード  未設定   13360.0  ヤード\n",
       "116        合計_処分  未設定   66340.0   処分\n",
       "\n",
       "[117 rows x 4 columns]"
      ]
     },
     "metadata": {},
     "output_type": "display_data"
    }
   ],
   "source": [
    "def process_factory_report(dfs):\n",
    "    from logic.manage.factory_report import process\n",
    "\n",
    "    # --- ① マスターCSVの読み込み ---\n",
    "    config = get_template_config()[\"balance_sheet\"]\n",
    "    master_path = config[\"master_csv_path\"][\"yard\"]\n",
    "    master_csv = load_master_and_template(master_path)\n",
    "\n",
    "    # 工場日報からdfを読込\n",
    "    df_factory = process(dfs)\n",
    "\n",
    "    # 必要な箇所を抜出\n",
    "    after_master_csv = calculate(master_csv, df_factory)\n",
    "\n",
    "    display(df_factory)\n",
    "\n",
    "\n",
    "process_factory_report(dfs)"
   ]
  },
  {
   "cell_type": "code",
   "execution_count": null,
   "id": "1d931083",
   "metadata": {},
   "outputs": [],
   "source": [
    "from utils.value_setter import set_value_fast\n",
    "def calculate(master_csv, df_factory):\n",
    "\n",
    "    df_factory[\"大項目\"]==\n",
    "\n",
    "    match_columns = [\"大項目\"]\n",
    "    match_value = [\"和暦\"]\n",
    "    set_value_fast(master_csv, match_columns, match_value, to_japanese_era(today))"
   ]
  }
 ],
 "metadata": {
  "kernelspec": {
   "display_name": "Python 3",
   "language": "python",
   "name": "python3"
  },
  "language_info": {
   "codemirror_mode": {
    "name": "ipython",
    "version": 3
   },
   "file_extension": ".py",
   "mimetype": "text/x-python",
   "name": "python",
   "nbconvert_exporter": "python",
   "pygments_lexer": "ipython3",
   "version": "3.10.17"
  }
 },
 "nbformat": 4,
 "nbformat_minor": 5
}
