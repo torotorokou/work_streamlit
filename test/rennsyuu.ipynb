{
 "cells": [
  {
   "cell_type": "code",
   "execution_count": 1,
   "id": "4fc8229a",
   "metadata": {},
   "outputs": [],
   "source": [
    "import pandas as pd\n",
    "\n",
    "df = pd.DataFrame(\n",
    "    {\n",
    "        \"業者CD\": [\"8327\", \"8327\", \"8327\", \"8085\"],\n",
    "        \"品名\": [\"混合廃棄物(S)\", \"混合廃棄物(S)\", \"混合廃棄物(A)\", \"混合廃棄物(S)\"],\n",
    "        \"正味重量\": [2000, 1500, 3000, 1200],\n",
    "    }\n",
    ")"
   ]
  },
  {
   "cell_type": "code",
   "execution_count": 2,
   "id": "68187a34",
   "metadata": {},
   "outputs": [
    {
     "data": {
      "application/vnd.microsoft.datawrangler.viewer.v0+json": {
       "columns": [
        {
         "name": "index",
         "rawType": "int64",
         "type": "integer"
        },
        {
         "name": "業者CD",
         "rawType": "object",
         "type": "string"
        },
        {
         "name": "品名",
         "rawType": "object",
         "type": "string"
        },
        {
         "name": "正味重量",
         "rawType": "int64",
         "type": "integer"
        }
       ],
       "conversionMethod": "pd.DataFrame",
       "ref": "15b9e5b0-f0e7-4ba7-b328-b43d2d3a0edc",
       "rows": [
        [
         "0",
         "8327",
         "混合廃棄物(S)",
         "2000"
        ],
        [
         "1",
         "8327",
         "混合廃棄物(S)",
         "1500"
        ],
        [
         "2",
         "8327",
         "混合廃棄物(A)",
         "3000"
        ],
        [
         "3",
         "8085",
         "混合廃棄物(S)",
         "1200"
        ]
       ],
       "shape": {
        "columns": 3,
        "rows": 4
       }
      },
      "text/html": [
       "<div>\n",
       "<style scoped>\n",
       "    .dataframe tbody tr th:only-of-type {\n",
       "        vertical-align: middle;\n",
       "    }\n",
       "\n",
       "    .dataframe tbody tr th {\n",
       "        vertical-align: top;\n",
       "    }\n",
       "\n",
       "    .dataframe thead th {\n",
       "        text-align: right;\n",
       "    }\n",
       "</style>\n",
       "<table border=\"1\" class=\"dataframe\">\n",
       "  <thead>\n",
       "    <tr style=\"text-align: right;\">\n",
       "      <th></th>\n",
       "      <th>業者CD</th>\n",
       "      <th>品名</th>\n",
       "      <th>正味重量</th>\n",
       "    </tr>\n",
       "  </thead>\n",
       "  <tbody>\n",
       "    <tr>\n",
       "      <th>0</th>\n",
       "      <td>8327</td>\n",
       "      <td>混合廃棄物(S)</td>\n",
       "      <td>2000</td>\n",
       "    </tr>\n",
       "    <tr>\n",
       "      <th>1</th>\n",
       "      <td>8327</td>\n",
       "      <td>混合廃棄物(S)</td>\n",
       "      <td>1500</td>\n",
       "    </tr>\n",
       "    <tr>\n",
       "      <th>2</th>\n",
       "      <td>8327</td>\n",
       "      <td>混合廃棄物(A)</td>\n",
       "      <td>3000</td>\n",
       "    </tr>\n",
       "    <tr>\n",
       "      <th>3</th>\n",
       "      <td>8085</td>\n",
       "      <td>混合廃棄物(S)</td>\n",
       "      <td>1200</td>\n",
       "    </tr>\n",
       "  </tbody>\n",
       "</table>\n",
       "</div>"
      ],
      "text/plain": [
       "   業者CD        品名  正味重量\n",
       "0  8327  混合廃棄物(S)  2000\n",
       "1  8327  混合廃棄物(S)  1500\n",
       "2  8327  混合廃棄物(A)  3000\n",
       "3  8085  混合廃棄物(S)  1200"
      ]
     },
     "execution_count": 2,
     "metadata": {},
     "output_type": "execute_result"
    }
   ],
   "source": [
    "df"
   ]
  },
  {
   "cell_type": "code",
   "execution_count": 4,
   "id": "3e545b93",
   "metadata": {},
   "outputs": [
    {
     "data": {
      "text/plain": [
       "業者CD\n",
       "8085    1200\n",
       "8327    6500\n",
       "Name: 正味重量, dtype: int64"
      ]
     },
     "execution_count": 4,
     "metadata": {},
     "output_type": "execute_result"
    }
   ],
   "source": [
    "df.groupby(\"業者CD\")[\"正味重量\"].sum()"
   ]
  },
  {
   "cell_type": "code",
   "execution_count": 5,
   "id": "6a046ced",
   "metadata": {},
   "outputs": [
    {
     "data": {
      "application/vnd.microsoft.datawrangler.viewer.v0+json": {
       "columns": [
        {
         "name": "index",
         "rawType": "int64",
         "type": "integer"
        },
        {
         "name": "業者CD",
         "rawType": "object",
         "type": "string"
        },
        {
         "name": "品名",
         "rawType": "object",
         "type": "string"
        },
        {
         "name": "正味重量",
         "rawType": "int64",
         "type": "integer"
        }
       ],
       "conversionMethod": "pd.DataFrame",
       "ref": "d6c2cde2-7dd0-45ee-a095-60dec1e75d9d",
       "rows": [
        [
         "0",
         "8085",
         "混合廃棄物(S)",
         "1200"
        ],
        [
         "1",
         "8327",
         "混合廃棄物(A)",
         "3000"
        ],
        [
         "2",
         "8327",
         "混合廃棄物(S)",
         "3500"
        ]
       ],
       "shape": {
        "columns": 3,
        "rows": 3
       }
      },
      "text/html": [
       "<div>\n",
       "<style scoped>\n",
       "    .dataframe tbody tr th:only-of-type {\n",
       "        vertical-align: middle;\n",
       "    }\n",
       "\n",
       "    .dataframe tbody tr th {\n",
       "        vertical-align: top;\n",
       "    }\n",
       "\n",
       "    .dataframe thead th {\n",
       "        text-align: right;\n",
       "    }\n",
       "</style>\n",
       "<table border=\"1\" class=\"dataframe\">\n",
       "  <thead>\n",
       "    <tr style=\"text-align: right;\">\n",
       "      <th></th>\n",
       "      <th>業者CD</th>\n",
       "      <th>品名</th>\n",
       "      <th>正味重量</th>\n",
       "    </tr>\n",
       "  </thead>\n",
       "  <tbody>\n",
       "    <tr>\n",
       "      <th>0</th>\n",
       "      <td>8085</td>\n",
       "      <td>混合廃棄物(S)</td>\n",
       "      <td>1200</td>\n",
       "    </tr>\n",
       "    <tr>\n",
       "      <th>1</th>\n",
       "      <td>8327</td>\n",
       "      <td>混合廃棄物(A)</td>\n",
       "      <td>3000</td>\n",
       "    </tr>\n",
       "    <tr>\n",
       "      <th>2</th>\n",
       "      <td>8327</td>\n",
       "      <td>混合廃棄物(S)</td>\n",
       "      <td>3500</td>\n",
       "    </tr>\n",
       "  </tbody>\n",
       "</table>\n",
       "</div>"
      ],
      "text/plain": [
       "   業者CD        品名  正味重量\n",
       "0  8085  混合廃棄物(S)  1200\n",
       "1  8327  混合廃棄物(A)  3000\n",
       "2  8327  混合廃棄物(S)  3500"
      ]
     },
     "execution_count": 5,
     "metadata": {},
     "output_type": "execute_result"
    }
   ],
   "source": [
    "df.groupby([\"業者CD\", \"品名\"], as_index=False)[\"正味重量\"].sum()"
   ]
  },
  {
   "cell_type": "code",
   "execution_count": null,
   "id": "809d450d",
   "metadata": {},
   "outputs": [],
   "source": []
  }
 ],
 "metadata": {
  "kernelspec": {
   "display_name": "Python 3",
   "language": "python",
   "name": "python3"
  },
  "language_info": {
   "codemirror_mode": {
    "name": "ipython",
    "version": 3
   },
   "file_extension": ".py",
   "mimetype": "text/x-python",
   "name": "python",
   "nbconvert_exporter": "python",
   "pygments_lexer": "ipython3",
   "version": "3.10.17"
  }
 },
 "nbformat": 4,
 "nbformat_minor": 5
}
