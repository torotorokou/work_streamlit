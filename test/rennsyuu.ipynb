{
 "cells": [
  {
   "cell_type": "code",
   "execution_count": 1,
   "id": "4fc8229a",
   "metadata": {},
   "outputs": [],
   "source": [
    "import pandas as pd\n",
    "\n",
    "df = pd.DataFrame(\n",
    "    {\n",
    "        \"業者CD\": [\"8327\", \"8327\", \"8327\", \"8085\"],\n",
    "        \"品名\": [\"混合廃棄物(S)\", \"混合廃棄物(S)\", \"混合廃棄物(A)\", \"混合廃棄物(S)\"],\n",
    "        \"正味重量\": [2000, 1500, 3000, 1200],\n",
    "    }\n",
    ")"
   ]
  },
  {
   "cell_type": "code",
   "execution_count": 2,
   "id": "68187a34",
   "metadata": {},
   "outputs": [
    {
     "data": {
      "application/vnd.microsoft.datawrangler.viewer.v0+json": {
       "columns": [
        {
         "name": "index",
         "rawType": "int64",
         "type": "integer"
        },
        {
         "name": "業者CD",
         "rawType": "object",
         "type": "string"
        },
        {
         "name": "品名",
         "rawType": "object",
         "type": "string"
        },
        {
         "name": "正味重量",
         "rawType": "int64",
         "type": "integer"
        }
       ],
       "conversionMethod": "pd.DataFrame",
       "ref": "15b9e5b0-f0e7-4ba7-b328-b43d2d3a0edc",
       "rows": [
        [
         "0",
         "8327",
         "混合廃棄物(S)",
         "2000"
        ],
        [
         "1",
         "8327",
         "混合廃棄物(S)",
         "1500"
        ],
        [
         "2",
         "8327",
         "混合廃棄物(A)",
         "3000"
        ],
        [
         "3",
         "8085",
         "混合廃棄物(S)",
         "1200"
        ]
       ],
       "shape": {
        "columns": 3,
        "rows": 4
       }
      },
      "text/html": [
       "<div>\n",
       "<style scoped>\n",
       "    .dataframe tbody tr th:only-of-type {\n",
       "        vertical-align: middle;\n",
       "    }\n",
       "\n",
       "    .dataframe tbody tr th {\n",
       "        vertical-align: top;\n",
       "    }\n",
       "\n",
       "    .dataframe thead th {\n",
       "        text-align: right;\n",
       "    }\n",
       "</style>\n",
       "<table border=\"1\" class=\"dataframe\">\n",
       "  <thead>\n",
       "    <tr style=\"text-align: right;\">\n",
       "      <th></th>\n",
       "      <th>業者CD</th>\n",
       "      <th>品名</th>\n",
       "      <th>正味重量</th>\n",
       "    </tr>\n",
       "  </thead>\n",
       "  <tbody>\n",
       "    <tr>\n",
       "      <th>0</th>\n",
       "      <td>8327</td>\n",
       "      <td>混合廃棄物(S)</td>\n",
       "      <td>2000</td>\n",
       "    </tr>\n",
       "    <tr>\n",
       "      <th>1</th>\n",
       "      <td>8327</td>\n",
       "      <td>混合廃棄物(S)</td>\n",
       "      <td>1500</td>\n",
       "    </tr>\n",
       "    <tr>\n",
       "      <th>2</th>\n",
       "      <td>8327</td>\n",
       "      <td>混合廃棄物(A)</td>\n",
       "      <td>3000</td>\n",
       "    </tr>\n",
       "    <tr>\n",
       "      <th>3</th>\n",
       "      <td>8085</td>\n",
       "      <td>混合廃棄物(S)</td>\n",
       "      <td>1200</td>\n",
       "    </tr>\n",
       "  </tbody>\n",
       "</table>\n",
       "</div>"
      ],
      "text/plain": [
       "   業者CD        品名  正味重量\n",
       "0  8327  混合廃棄物(S)  2000\n",
       "1  8327  混合廃棄物(S)  1500\n",
       "2  8327  混合廃棄物(A)  3000\n",
       "3  8085  混合廃棄物(S)  1200"
      ]
     },
     "execution_count": 2,
     "metadata": {},
     "output_type": "execute_result"
    }
   ],
   "source": [
    "df"
   ]
  },
  {
   "cell_type": "code",
   "execution_count": 4,
   "id": "3e545b93",
   "metadata": {},
   "outputs": [
    {
     "data": {
      "text/plain": [
       "業者CD\n",
       "8085    1200\n",
       "8327    6500\n",
       "Name: 正味重量, dtype: int64"
      ]
     },
     "execution_count": 4,
     "metadata": {},
     "output_type": "execute_result"
    }
   ],
   "source": [
    "df.groupby(\"業者CD\")[\"正味重量\"].sum()"
   ]
  },
  {
   "cell_type": "code",
   "execution_count": 5,
   "id": "6a046ced",
   "metadata": {},
   "outputs": [
    {
     "data": {
      "application/vnd.microsoft.datawrangler.viewer.v0+json": {
       "columns": [
        {
         "name": "index",
         "rawType": "int64",
         "type": "integer"
        },
        {
         "name": "業者CD",
         "rawType": "object",
         "type": "string"
        },
        {
         "name": "品名",
         "rawType": "object",
         "type": "string"
        },
        {
         "name": "正味重量",
         "rawType": "int64",
         "type": "integer"
        }
       ],
       "conversionMethod": "pd.DataFrame",
       "ref": "d6c2cde2-7dd0-45ee-a095-60dec1e75d9d",
       "rows": [
        [
         "0",
         "8085",
         "混合廃棄物(S)",
         "1200"
        ],
        [
         "1",
         "8327",
         "混合廃棄物(A)",
         "3000"
        ],
        [
         "2",
         "8327",
         "混合廃棄物(S)",
         "3500"
        ]
       ],
       "shape": {
        "columns": 3,
        "rows": 3
       }
      },
      "text/html": [
       "<div>\n",
       "<style scoped>\n",
       "    .dataframe tbody tr th:only-of-type {\n",
       "        vertical-align: middle;\n",
       "    }\n",
       "\n",
       "    .dataframe tbody tr th {\n",
       "        vertical-align: top;\n",
       "    }\n",
       "\n",
       "    .dataframe thead th {\n",
       "        text-align: right;\n",
       "    }\n",
       "</style>\n",
       "<table border=\"1\" class=\"dataframe\">\n",
       "  <thead>\n",
       "    <tr style=\"text-align: right;\">\n",
       "      <th></th>\n",
       "      <th>業者CD</th>\n",
       "      <th>品名</th>\n",
       "      <th>正味重量</th>\n",
       "    </tr>\n",
       "  </thead>\n",
       "  <tbody>\n",
       "    <tr>\n",
       "      <th>0</th>\n",
       "      <td>8085</td>\n",
       "      <td>混合廃棄物(S)</td>\n",
       "      <td>1200</td>\n",
       "    </tr>\n",
       "    <tr>\n",
       "      <th>1</th>\n",
       "      <td>8327</td>\n",
       "      <td>混合廃棄物(A)</td>\n",
       "      <td>3000</td>\n",
       "    </tr>\n",
       "    <tr>\n",
       "      <th>2</th>\n",
       "      <td>8327</td>\n",
       "      <td>混合廃棄物(S)</td>\n",
       "      <td>3500</td>\n",
       "    </tr>\n",
       "  </tbody>\n",
       "</table>\n",
       "</div>"
      ],
      "text/plain": [
       "   業者CD        品名  正味重量\n",
       "0  8085  混合廃棄物(S)  1200\n",
       "1  8327  混合廃棄物(A)  3000\n",
       "2  8327  混合廃棄物(S)  3500"
      ]
     },
     "execution_count": 5,
     "metadata": {},
     "output_type": "execute_result"
    }
   ],
   "source": [
    "df.groupby([\"業者CD\", \"品名\"], as_index=False)[\"正味重量\"].sum()"
   ]
  },
  {
   "cell_type": "code",
   "execution_count": 1,
   "id": "809d450d",
   "metadata": {},
   "outputs": [],
   "source": [
    "person = {\n",
    "    \"名前\": \"田中\",\n",
    "    \"年齢\": 34,\n",
    "    \"性別\": \"男性\",\n",
    "    \"職業\": \"エンジニア\",\n",
    "    \"住所\": \"東京都\"\n",
    "}"
   ]
  },
  {
   "cell_type": "code",
   "execution_count": 2,
   "id": "e3fb7033",
   "metadata": {},
   "outputs": [],
   "source": [
    "match_keys = [\"名前\", \"年齢\"]\n",
    "\n",
    "result = {}\n",
    "for key in match_keys:\n",
    "    result[key] = person[key]"
   ]
  },
  {
   "cell_type": "code",
   "execution_count": 4,
   "id": "669a0c20",
   "metadata": {},
   "outputs": [
    {
     "data": {
      "text/plain": [
       "{'名前': '田中', '年齢': 34}"
      ]
     },
     "execution_count": 4,
     "metadata": {},
     "output_type": "execute_result"
    }
   ],
   "source": [
    "result"
   ]
  },
  {
   "cell_type": "code",
   "execution_count": 6,
   "id": "d395429a",
   "metadata": {},
   "outputs": [
    {
     "data": {
      "text/plain": [
       "{'名前': '宮下', '年齢': 34, '性別': '男性', '職業': 'エンジニア', '住所': '東京都'}"
      ]
     },
     "execution_count": 6,
     "metadata": {},
     "output_type": "execute_result"
    }
   ],
   "source": [
    "person[\"名前\"]=\"宮下\"\n",
    "person"
   ]
  },
  {
   "cell_type": "code",
   "execution_count": 7,
   "id": "f7a70961",
   "metadata": {},
   "outputs": [
    {
     "ename": "NameError",
     "evalue": "name 'pesron' is not defined",
     "output_type": "error",
     "traceback": [
      "\u001b[0;31m---------------------------------------------------------------------------\u001b[0m",
      "\u001b[0;31mNameError\u001b[0m                                 Traceback (most recent call last)",
      "Cell \u001b[0;32mIn[7], line 1\u001b[0m\n\u001b[0;32m----> 1\u001b[0m \u001b[43mpesron\u001b[49m\u001b[38;5;241m.\u001b[39mitems(\u001b[38;5;124m\"\u001b[39m\u001b[38;5;124m男性\u001b[39m\u001b[38;5;124m\"\u001b[39m)\n",
      "\u001b[0;31mNameError\u001b[0m: name 'pesron' is not defined"
     ]
    }
   ],
   "source": [
    "pesron.items(\"男性\")"
   ]
  },
  {
   "cell_type": "code",
   "execution_count": 9,
   "id": "f7c613f9",
   "metadata": {},
   "outputs": [],
   "source": [
    "result=[]"
   ]
  },
  {
   "cell_type": "code",
   "execution_count": 10,
   "id": "3c1ebd48",
   "metadata": {},
   "outputs": [],
   "source": [
    "for i in range(1,6):\n",
    "    result.append(i*2)"
   ]
  },
  {
   "cell_type": "code",
   "execution_count": 11,
   "id": "da3f5e78",
   "metadata": {},
   "outputs": [],
   "source": [
    "result = [i**2 for i in range(1,6)]"
   ]
  },
  {
   "cell_type": "code",
   "execution_count": 13,
   "id": "782ee5b5",
   "metadata": {},
   "outputs": [
    {
     "data": {
      "text/plain": [
       "[2, 4, 6, 8, 10]"
      ]
     },
     "execution_count": 13,
     "metadata": {},
     "output_type": "execute_result"
    }
   ],
   "source": [
    "# 1～5を2倍にしてリストを作る\n",
    "\n",
    "result = [num*2 for num in range(1,6)]\n",
    "result"
   ]
  },
  {
   "cell_type": "code",
   "execution_count": 14,
   "id": "59503e0f",
   "metadata": {},
   "outputs": [
    {
     "data": {
      "text/plain": [
       "[2, 4, 6]"
      ]
     },
     "execution_count": 14,
     "metadata": {},
     "output_type": "execute_result"
    }
   ],
   "source": [
    "# 　偶数だけ取り出す\n",
    "numbers = [1,2,3,4,5,6]\n",
    "\n",
    "result = [x for x in numbers if x % 2 ==0]\n",
    "result"
   ]
  },
  {
   "cell_type": "code",
   "execution_count": 15,
   "id": "2639b35a",
   "metadata": {},
   "outputs": [
    {
     "data": {
      "text/plain": [
       "[1, 4, 9, 16, 25, 36, 49, 64, 81]"
      ]
     },
     "execution_count": 15,
     "metadata": {},
     "output_type": "execute_result"
    }
   ],
   "source": [
    "result = [i**2 for i in range(1,10)]\n",
    "result"
   ]
  },
  {
   "cell_type": "code",
   "execution_count": 17,
   "id": "5342a670",
   "metadata": {},
   "outputs": [
    {
     "data": {
      "text/plain": [
       "[3, 6, 9, 12, 15, 18]"
      ]
     },
     "execution_count": 17,
     "metadata": {},
     "output_type": "execute_result"
    }
   ],
   "source": [
    "filterd = [x for x in range(1,20) if x % 3 == 0]\n",
    "filterd"
   ]
  },
  {
   "cell_type": "code",
   "execution_count": 19,
   "id": "e0683e0f",
   "metadata": {},
   "outputs": [
    {
     "data": {
      "text/plain": [
       "['dog', 'sun', 'cat']"
      ]
     },
     "execution_count": 19,
     "metadata": {},
     "output_type": "execute_result"
    }
   ],
   "source": [
    "words = [\"apple\", \"dog\", \"sun\", \"banana\", \"cat\"]\n",
    "\n",
    "result = [word for word in words if len(word) <4]\n",
    "result"
   ]
  },
  {
   "cell_type": "code",
   "execution_count": null,
   "id": "d0b162ad",
   "metadata": {},
   "outputs": [],
   "source": [
    "[word for num in range(1,10) if num % 2 == 0 then word=\"even\" else word=\"odd\"]"
   ]
  },
  {
   "cell_type": "code",
   "execution_count": 21,
   "id": "5486c99b",
   "metadata": {},
   "outputs": [
    {
     "data": {
      "text/plain": [
       "['odd', 'even', 'odd', 'even', 'odd', 'even', 'odd', 'even', 'odd']"
      ]
     },
     "execution_count": 21,
     "metadata": {},
     "output_type": "execute_result"
    }
   ],
   "source": [
    "[\"even\" if num % 2 == 0 else \"odd\" for num in range(1, 10)]"
   ]
  },
  {
   "cell_type": "code",
   "execution_count": 23,
   "id": "d8f43bbd",
   "metadata": {},
   "outputs": [],
   "source": [
    "a = [1, 2, 3]\n",
    "b = [10, 20, 30]"
   ]
  },
  {
   "cell_type": "code",
   "execution_count": 28,
   "id": "428d1146",
   "metadata": {},
   "outputs": [
    {
     "ename": "TypeError",
     "evalue": "'int' object is not subscriptable",
     "output_type": "error",
     "traceback": [
      "\u001b[0;31m---------------------------------------------------------------------------\u001b[0m",
      "\u001b[0;31mTypeError\u001b[0m                                 Traceback (most recent call last)",
      "Cell \u001b[0;32mIn[28], line 1\u001b[0m\n\u001b[0;32m----> 1\u001b[0m [a_num[i] \u001b[38;5;241m*\u001b[39m b_num[i] \u001b[38;5;28;01mfor\u001b[39;00m a_num \u001b[38;5;129;01min\u001b[39;00m a \u001b[38;5;28;01mfor\u001b[39;00m b_num \u001b[38;5;129;01min\u001b[39;00m b \u001b[38;5;28;01mfor\u001b[39;00m i \u001b[38;5;129;01min\u001b[39;00m \u001b[38;5;28mrange\u001b[39m(\u001b[38;5;241m0\u001b[39m,\u001b[38;5;241m3\u001b[39m)]\n",
      "Cell \u001b[0;32mIn[28], line 1\u001b[0m, in \u001b[0;36m<listcomp>\u001b[0;34m(.0)\u001b[0m\n\u001b[0;32m----> 1\u001b[0m [\u001b[43ma_num\u001b[49m\u001b[43m[\u001b[49m\u001b[43mi\u001b[49m\u001b[43m]\u001b[49m \u001b[38;5;241m*\u001b[39m b_num[i] \u001b[38;5;28;01mfor\u001b[39;00m a_num \u001b[38;5;129;01min\u001b[39;00m a \u001b[38;5;28;01mfor\u001b[39;00m b_num \u001b[38;5;129;01min\u001b[39;00m b \u001b[38;5;28;01mfor\u001b[39;00m i \u001b[38;5;129;01min\u001b[39;00m \u001b[38;5;28mrange\u001b[39m(\u001b[38;5;241m0\u001b[39m,\u001b[38;5;241m3\u001b[39m)]\n",
      "\u001b[0;31mTypeError\u001b[0m: 'int' object is not subscriptable"
     ]
    }
   ],
   "source": [
    "[a_num[i] * b_num[i] for a_num in a for b_num in b for i in range(0,3)]"
   ]
  },
  {
   "cell_type": "code",
   "execution_count": null,
   "id": "896da453",
   "metadata": {},
   "outputs": [],
   "source": []
  }
 ],
 "metadata": {
  "kernelspec": {
   "display_name": "Python 3",
   "language": "python",
   "name": "python3"
  },
  "language_info": {
   "codemirror_mode": {
    "name": "ipython",
    "version": 3
   },
   "file_extension": ".py",
   "mimetype": "text/x-python",
   "name": "python",
   "nbconvert_exporter": "python",
   "pygments_lexer": "ipython3",
   "version": "3.10.17"
  }
 },
 "nbformat": 4,
 "nbformat_minor": 5
}
