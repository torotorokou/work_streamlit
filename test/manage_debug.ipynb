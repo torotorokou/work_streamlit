{
 "cells": [
  {
   "cell_type": "markdown",
   "id": "69cb15ef",
   "metadata": {},
   "source": [
    "## 初期値"
   ]
  },
  {
   "cell_type": "code",
   "execution_count": 2,
   "id": "12b33ec6",
   "metadata": {},
   "outputs": [
    {
     "name": "stderr",
     "output_type": "stream",
     "text": [
      "2025-05-08 09:52:55,218 [INFO] (__init__.py:24) [dd3b4088c738/root] ✅ factory_report.py の process 関数を登録しました\n",
      "2025-05-08 09:52:55,232 [INFO] (__init__.py:24) [dd3b4088c738/root] ✅ balance_sheet.py の process 関数を登録しました\n",
      "2025-05-08 09:52:55,253 [INFO] (__init__.py:24) [dd3b4088c738/root] ✅ average_sheet.py の process 関数を登録しました\n",
      "2025-05-08 09:52:55,259 [INFO] (__init__.py:24) [dd3b4088c738/root] ✅ management_sheet.py の process 関数を登録しました\n",
      "2025-05-08 00:52:55.516 WARNING streamlit.runtime.caching.cache_data_api: No runtime found, using MemoryCacheStorageManager\n"
     ]
    }
   ],
   "source": [
    "import os\n",
    "\n",
    "os.chdir(\"/work/app\")\n",
    "\n",
    "# %% 準備\n",
    "import pandas as pd\n",
    "from utils.logger import app_logger\n",
    "from utils.config_loader import get_template_config\n",
    "from logic.manage.utils.csv_loader import load_all_filtered_dataframes\n",
    "from logic.controllers.csv_controller import apply_expected_dtypes\n",
    "from logic.manage.utils.load_template import load_master_and_template\n",
    "from IPython.display import display\n",
    "import re\n",
    "from logic.manage.factory_report import process\n",
    "from logic.manage.utils.excel_tools import create_label_rows_generic, sort_by_cell_row\n",
    "\n",
    "# 表示ラベルマップ（処理対象名として使う）\n",
    "csv_label_map = {\"yard\": \"ヤード一覧\", \"shipping\": \"出荷一覧\", \"receive\": \"受入一覧\"}\n",
    "\n",
    "debug_receive = \"/work/app/data/output/debug_receive.parquet\"\n",
    "debug_shipping = \"/work/app/data/output/debug_shipping.parquet\"\n",
    "debug_yard = \"/work/app/data/output/debug_yard.parquet\"\n",
    "\n",
    "dfs = {\n",
    "    \"receive\": pd.read_parquet(debug_receive),\n",
    "    \"shipping\": pd.read_parquet(debug_shipping),\n",
    "    \"yard\": pd.read_parquet(debug_yard),\n",
    "}  # テスト用CSV\n",
    "# dfs\n",
    "df_shipping = dfs[\"shipping\"]\n",
    "df_yard = dfs[\"yard\"]"
   ]
  },
  {
   "cell_type": "code",
   "execution_count": 3,
   "id": "9a9e17b5",
   "metadata": {},
   "outputs": [],
   "source": [
    "from utils.value_setter import set_value_fast,set_value_fast_safe"
   ]
  },
  {
   "cell_type": "markdown",
   "id": "e329f589",
   "metadata": {},
   "source": [
    "### Process"
   ]
  },
  {
   "cell_type": "code",
   "execution_count": 4,
   "id": "da2da8dd",
   "metadata": {},
   "outputs": [
    {
     "name": "stderr",
     "output_type": "stream",
     "text": [
      "2025-05-08 09:52:55,714 [INFO] (1895370545.py:15) [dd3b4088c738/root] [テンプレート設定読込] key=balance_sheet, files=['receive', 'yard', 'shipping']\n",
      "2025-05-08 09:52:55,769 [INFO] (csv_controller.py:42) [dd3b4088c738/root] ✅ 型を適用しました: shipping\n",
      "2025-05-08 09:52:55,783 [INFO] (csv_controller.py:42) [dd3b4088c738/root] ✅ 型を適用しました: yard\n"
     ]
    }
   ],
   "source": [
    "# 処理の統合\n",
    "def process1(dfs: dict) -> pd.DataFrame:\n",
    "    logger = app_logger()\n",
    "    \"\"\"\n",
    "    Streamlitの選択に基づき、工場日報（処分パート）を処理するエントリーポイント関数。\n",
    "    \"\"\"\n",
    "\n",
    "    logger = app_logger()\n",
    "\n",
    "    # --- テンプレート設定の取得 ---\n",
    "    template_key = \"balance_sheet\"\n",
    "    template_config = get_template_config()[template_key]\n",
    "    template_name = template_config[\"key\"]\n",
    "    csv_keys = template_config[\"required_files\"]\n",
    "    logger.info(f\"[テンプレート設定読込] key={template_key}, files={csv_keys}\")\n",
    "\n",
    "    # --- CSVの調整・読み込み ---\n",
    "    dfs = apply_expected_dtypes(dfs, template_key)\n",
    "    df_dict = load_all_filtered_dataframes(dfs, csv_keys, template_name)\n",
    "    df_receive = df_dict.get(\"receive\")\n",
    "    df_shipping = df_dict.get(\"shipping\")\n",
    "    df_yard = df_dict.get(\"yard\")\n",
    "\n",
    "    # --- ① マスターCSVの読み込み ---\n",
    "    config = get_template_config()[\"balance_sheet\"]\n",
    "    master_path = config[\"master_csv_path\"][\"factory\"]\n",
    "    master_csv = load_master_and_template(master_path)\n",
    "\n",
    "\n",
    "    return df_receive, df_yard, df_shipping, master_csv\n",
    "\n",
    "\n",
    "df_receive, df_yard, df_shipping ,master_csv= process1(dfs)"
   ]
  },
  {
   "cell_type": "code",
   "execution_count": 5,
   "id": "e5c44e04",
   "metadata": {},
   "outputs": [
    {
     "data": {
      "application/vnd.microsoft.datawrangler.viewer.v0+json": {
       "columns": [
        {
         "name": "index",
         "rawType": "int64",
         "type": "integer"
        }
       ],
       "conversionMethod": "pd.DataFrame",
       "ref": "879b7556-a009-4627-8a03-f1e0978b1e40",
       "rows": [
        [
         "0"
        ],
        [
         "1"
        ],
        [
         "2"
        ],
        [
         "3"
        ],
        [
         "4"
        ]
       ],
       "shape": {
        "columns": 0,
        "rows": 5
       }
      },
      "text/html": [
       "<div>\n",
       "<style scoped>\n",
       "    .dataframe tbody tr th:only-of-type {\n",
       "        vertical-align: middle;\n",
       "    }\n",
       "\n",
       "    .dataframe tbody tr th {\n",
       "        vertical-align: top;\n",
       "    }\n",
       "\n",
       "    .dataframe thead th {\n",
       "        text-align: right;\n",
       "    }\n",
       "</style>\n",
       "<table border=\"1\" class=\"dataframe\">\n",
       "  <thead>\n",
       "    <tr style=\"text-align: right;\">\n",
       "      <th></th>\n",
       "    </tr>\n",
       "  </thead>\n",
       "  <tbody>\n",
       "    <tr>\n",
       "      <th>0</th>\n",
       "    </tr>\n",
       "    <tr>\n",
       "      <th>1</th>\n",
       "    </tr>\n",
       "    <tr>\n",
       "      <th>2</th>\n",
       "    </tr>\n",
       "    <tr>\n",
       "      <th>3</th>\n",
       "    </tr>\n",
       "    <tr>\n",
       "      <th>4</th>\n",
       "    </tr>\n",
       "  </tbody>\n",
       "</table>\n",
       "</div>"
      ],
      "text/plain": [
       "Empty DataFrame\n",
       "Columns: []\n",
       "Index: [0, 1, 2, 3, 4]"
      ]
     },
     "metadata": {},
     "output_type": "display_data"
    },
    {
     "data": {
      "application/vnd.microsoft.datawrangler.viewer.v0+json": {
       "columns": [
        {
         "name": "index",
         "rawType": "int64",
         "type": "integer"
        },
        {
         "name": "種類名",
         "rawType": "object",
         "type": "string"
        },
        {
         "name": "品名",
         "rawType": "object",
         "type": "string"
        },
        {
         "name": "正味重量",
         "rawType": "int64",
         "type": "integer"
        }
       ],
       "conversionMethod": "pd.DataFrame",
       "ref": "8d7e87e0-51ba-4896-9b66-d58812e9a9a2",
       "rows": [
        [
         "0",
         "処分費",
         "選別",
         "80"
        ],
        [
         "1",
         "有価物",
         "GD",
         "110"
        ],
        [
         "2",
         "有価物",
         "GC 軽鉄･ｽﾁｰﾙ類",
         "810"
        ],
        [
         "3",
         "有価物",
         "GC 軽鉄･ｽﾁｰﾙ類",
         "310"
        ],
        [
         "4",
         "処分費",
         "混合廃棄物",
         "480"
        ]
       ],
       "shape": {
        "columns": 3,
        "rows": 5
       }
      },
      "text/html": [
       "<div>\n",
       "<style scoped>\n",
       "    .dataframe tbody tr th:only-of-type {\n",
       "        vertical-align: middle;\n",
       "    }\n",
       "\n",
       "    .dataframe tbody tr th {\n",
       "        vertical-align: top;\n",
       "    }\n",
       "\n",
       "    .dataframe thead th {\n",
       "        text-align: right;\n",
       "    }\n",
       "</style>\n",
       "<table border=\"1\" class=\"dataframe\">\n",
       "  <thead>\n",
       "    <tr style=\"text-align: right;\">\n",
       "      <th></th>\n",
       "      <th>種類名</th>\n",
       "      <th>品名</th>\n",
       "      <th>正味重量</th>\n",
       "    </tr>\n",
       "  </thead>\n",
       "  <tbody>\n",
       "    <tr>\n",
       "      <th>0</th>\n",
       "      <td>処分費</td>\n",
       "      <td>選別</td>\n",
       "      <td>80</td>\n",
       "    </tr>\n",
       "    <tr>\n",
       "      <th>1</th>\n",
       "      <td>有価物</td>\n",
       "      <td>GD</td>\n",
       "      <td>110</td>\n",
       "    </tr>\n",
       "    <tr>\n",
       "      <th>2</th>\n",
       "      <td>有価物</td>\n",
       "      <td>GC 軽鉄･ｽﾁｰﾙ類</td>\n",
       "      <td>810</td>\n",
       "    </tr>\n",
       "    <tr>\n",
       "      <th>3</th>\n",
       "      <td>有価物</td>\n",
       "      <td>GC 軽鉄･ｽﾁｰﾙ類</td>\n",
       "      <td>310</td>\n",
       "    </tr>\n",
       "    <tr>\n",
       "      <th>4</th>\n",
       "      <td>処分費</td>\n",
       "      <td>混合廃棄物</td>\n",
       "      <td>480</td>\n",
       "    </tr>\n",
       "  </tbody>\n",
       "</table>\n",
       "</div>"
      ],
      "text/plain": [
       "   種類名           品名  正味重量\n",
       "0  処分費           選別    80\n",
       "1  有価物           GD   110\n",
       "2  有価物  GC 軽鉄･ｽﾁｰﾙ類   810\n",
       "3  有価物  GC 軽鉄･ｽﾁｰﾙ類   310\n",
       "4  処分費        混合廃棄物   480"
      ]
     },
     "metadata": {},
     "output_type": "display_data"
    },
    {
     "data": {
      "application/vnd.microsoft.datawrangler.viewer.v0+json": {
       "columns": [
        {
         "name": "index",
         "rawType": "int64",
         "type": "integer"
        },
        {
         "name": "業者CD",
         "rawType": "int64",
         "type": "integer"
        },
        {
         "name": "業者名",
         "rawType": "object",
         "type": "string"
        },
        {
         "name": "金額",
         "rawType": "int64",
         "type": "integer"
        },
        {
         "name": "品名",
         "rawType": "object",
         "type": "string"
        },
        {
         "name": "正味重量",
         "rawType": "int64",
         "type": "integer"
        }
       ],
       "conversionMethod": "pd.DataFrame",
       "ref": "35951b2c-b098-45f1-8464-bfba8bf4d32a",
       "rows": [
        [
         "0",
         "8327",
         "丸源起業",
         "305140",
         "混合廃棄物(A)",
         "13870"
        ],
        [
         "1",
         "5238",
         "東京ﾎﾞｰﾄﾞ工業",
         "18340",
         "木くず",
         "2620"
        ],
        [
         "2",
         "1",
         "ｵﾈｽﾄ",
         "0",
         "金属くず ｼｭﾚｯﾀ",
         "730"
        ],
        [
         "3",
         "1",
         "ｵﾈｽﾄ",
         "0",
         "鉄千地",
         "1460"
        ],
        [
         "4",
         "747",
         "宮崎",
         "3500",
         "ﾀﾞﾝﾎﾞｰﾙ",
         "250"
        ]
       ],
       "shape": {
        "columns": 5,
        "rows": 5
       }
      },
      "text/html": [
       "<div>\n",
       "<style scoped>\n",
       "    .dataframe tbody tr th:only-of-type {\n",
       "        vertical-align: middle;\n",
       "    }\n",
       "\n",
       "    .dataframe tbody tr th {\n",
       "        vertical-align: top;\n",
       "    }\n",
       "\n",
       "    .dataframe thead th {\n",
       "        text-align: right;\n",
       "    }\n",
       "</style>\n",
       "<table border=\"1\" class=\"dataframe\">\n",
       "  <thead>\n",
       "    <tr style=\"text-align: right;\">\n",
       "      <th></th>\n",
       "      <th>業者CD</th>\n",
       "      <th>業者名</th>\n",
       "      <th>金額</th>\n",
       "      <th>品名</th>\n",
       "      <th>正味重量</th>\n",
       "    </tr>\n",
       "  </thead>\n",
       "  <tbody>\n",
       "    <tr>\n",
       "      <th>0</th>\n",
       "      <td>8327</td>\n",
       "      <td>丸源起業</td>\n",
       "      <td>305140</td>\n",
       "      <td>混合廃棄物(A)</td>\n",
       "      <td>13870</td>\n",
       "    </tr>\n",
       "    <tr>\n",
       "      <th>1</th>\n",
       "      <td>5238</td>\n",
       "      <td>東京ﾎﾞｰﾄﾞ工業</td>\n",
       "      <td>18340</td>\n",
       "      <td>木くず</td>\n",
       "      <td>2620</td>\n",
       "    </tr>\n",
       "    <tr>\n",
       "      <th>2</th>\n",
       "      <td>1</td>\n",
       "      <td>ｵﾈｽﾄ</td>\n",
       "      <td>0</td>\n",
       "      <td>金属くず ｼｭﾚｯﾀ</td>\n",
       "      <td>730</td>\n",
       "    </tr>\n",
       "    <tr>\n",
       "      <th>3</th>\n",
       "      <td>1</td>\n",
       "      <td>ｵﾈｽﾄ</td>\n",
       "      <td>0</td>\n",
       "      <td>鉄千地</td>\n",
       "      <td>1460</td>\n",
       "    </tr>\n",
       "    <tr>\n",
       "      <th>4</th>\n",
       "      <td>747</td>\n",
       "      <td>宮崎</td>\n",
       "      <td>3500</td>\n",
       "      <td>ﾀﾞﾝﾎﾞｰﾙ</td>\n",
       "      <td>250</td>\n",
       "    </tr>\n",
       "  </tbody>\n",
       "</table>\n",
       "</div>"
      ],
      "text/plain": [
       "   業者CD        業者名      金額          品名   正味重量\n",
       "0  8327       丸源起業  305140    混合廃棄物(A)  13870\n",
       "1  5238  東京ﾎﾞｰﾄﾞ工業   18340         木くず   2620\n",
       "2     1       ｵﾈｽﾄ       0  金属くず ｼｭﾚｯﾀ    730\n",
       "3     1       ｵﾈｽﾄ       0         鉄千地   1460\n",
       "4   747         宮崎    3500     ﾀﾞﾝﾎﾞｰﾙ    250"
      ]
     },
     "metadata": {},
     "output_type": "display_data"
    },
    {
     "data": {
      "application/vnd.microsoft.datawrangler.viewer.v0+json": {
       "columns": [
        {
         "name": "index",
         "rawType": "int64",
         "type": "integer"
        },
        {
         "name": "大項目",
         "rawType": "object",
         "type": "string"
        },
        {
         "name": "セル",
         "rawType": "object",
         "type": "string"
        },
        {
         "name": "値",
         "rawType": "object",
         "type": "unknown"
        }
       ],
       "conversionMethod": "pd.DataFrame",
       "ref": "69e0c988-b60a-43ca-8a35-4e6a5e15f071",
       "rows": [
        [
         "0",
         "搬出量",
         "E6",
         null
        ],
        [
         "1",
         "処分費",
         "E7",
         null
        ],
        [
         "2",
         "有価物",
         "E8",
         null
        ]
       ],
       "shape": {
        "columns": 3,
        "rows": 3
       }
      },
      "text/html": [
       "<div>\n",
       "<style scoped>\n",
       "    .dataframe tbody tr th:only-of-type {\n",
       "        vertical-align: middle;\n",
       "    }\n",
       "\n",
       "    .dataframe tbody tr th {\n",
       "        vertical-align: top;\n",
       "    }\n",
       "\n",
       "    .dataframe thead th {\n",
       "        text-align: right;\n",
       "    }\n",
       "</style>\n",
       "<table border=\"1\" class=\"dataframe\">\n",
       "  <thead>\n",
       "    <tr style=\"text-align: right;\">\n",
       "      <th></th>\n",
       "      <th>大項目</th>\n",
       "      <th>セル</th>\n",
       "      <th>値</th>\n",
       "    </tr>\n",
       "  </thead>\n",
       "  <tbody>\n",
       "    <tr>\n",
       "      <th>0</th>\n",
       "      <td>搬出量</td>\n",
       "      <td>E6</td>\n",
       "      <td>NaN</td>\n",
       "    </tr>\n",
       "    <tr>\n",
       "      <th>1</th>\n",
       "      <td>処分費</td>\n",
       "      <td>E7</td>\n",
       "      <td>NaN</td>\n",
       "    </tr>\n",
       "    <tr>\n",
       "      <th>2</th>\n",
       "      <td>有価物</td>\n",
       "      <td>E8</td>\n",
       "      <td>NaN</td>\n",
       "    </tr>\n",
       "  </tbody>\n",
       "</table>\n",
       "</div>"
      ],
      "text/plain": [
       "   大項目  セル    値\n",
       "0  搬出量  E6  NaN\n",
       "1  処分費  E7  NaN\n",
       "2  有価物  E8  NaN"
      ]
     },
     "metadata": {},
     "output_type": "display_data"
    }
   ],
   "source": [
    "display(df_receive.head())\n",
    "display(df_yard.head())\n",
    "display(df_shipping.head())\n",
    "display(master_csv)"
   ]
  },
  {
   "cell_type": "code",
   "execution_count": 6,
   "id": "3ec9d5b1",
   "metadata": {},
   "outputs": [],
   "source": [
    "def process2(df_receive, df_yard, df_shipping):\n",
    "    # --- 個別処理 ---\n",
    "    logger.info(\"▶️ 搬出量データ処理開始\")\n",
    "    master_csv_facotry = process_factory_report(dfs)\n",
    "\n",
    "    logger.info(\"▶️ 処分費データ処理開始\")\n",
    "    master_csv_facotry = process_syobun_cost(df_yard, df_shipping)\n",
    "    display(master_csv_facotry)\n",
    "\n",
    "    return"
   ]
  },
  {
   "cell_type": "markdown",
   "id": "94a87b3b",
   "metadata": {},
   "source": [
    "## 排出量（工場日報から）"
   ]
  },
  {
   "cell_type": "code",
   "execution_count": 6,
   "id": "1d931083",
   "metadata": {},
   "outputs": [],
   "source": [
    "\n",
    "def reflect_total_from_factory(master_csv, df_factory):\n",
    "    from utils.value_setter import set_value_fast,set_value_fast_safe\n",
    "    total_sum = df_factory.loc[df_factory[\"大項目\"] == \"総合計\", \"値\"].squeeze()\n",
    "\n",
    "    match_columns = [\"大項目\"]\n",
    "    match_value = [\"搬出量\"]\n",
    "    master_csv=set_value_fast_safe(master_csv, match_columns, match_value, total_sum)\n",
    "\n",
    "    return master_csv"
   ]
  },
  {
   "cell_type": "code",
   "execution_count": 7,
   "id": "8d2cc529",
   "metadata": {},
   "outputs": [
    {
     "name": "stderr",
     "output_type": "stream",
     "text": [
      "2025-05-02 15:42:31,079 [INFO] (factory_report.py:27) [dd3b4088c738/root] [テンプレート設定読込] key=factory_report, files=['yard', 'shipping']\n",
      "2025-05-02 15:42:31,101 [INFO] (factory_report.py:35) [dd3b4088c738/root] ▶️ 出荷処分データ処理開始\n",
      "/work/app/utils/data_cleaning.py:6: FutureWarning: Setting an item of incompatible dtype is deprecated and will raise an error in a future version of pandas. Value '['8339' '5238' '8340' '8085' '6421' '8337' '8215' '8336' '8327' '8327'\n",
      " '8327' '8327' '705' '1185' '8076' '8077' '5199' '8334' '6797' '8338'\n",
      " '8341' '8080' '349' '6786' '5227' '8329' '8360' '8363' '8398' '8679'\n",
      " '339' '8082']' has dtype incompatible with int64, please explicitly cast to a compatible dtype first.\n",
      "  df.loc[valid, col] = df.loc[valid, col].apply(lambda x: str(int(float(x))))\n",
      "2025-05-02 15:42:31,147 [INFO] (factory_report_shobun.py:40) [dd3b4088c738/root] ✅ 出荷処分の帳票生成が完了しました。\n",
      "2025-05-02 15:42:31,148 [INFO] (factory_report.py:38) [dd3b4088c738/root] ▶️ 出荷有価データ処理開始\n",
      "2025-05-02 15:42:31,176 [INFO] (summary_tools.py:132) [dd3b4088c738/root] ▶️ 処理対象シート: ヤード, キー: ['品名'], 集計列: 正味重量\n",
      "2025-05-02 15:42:31,191 [INFO] (summary_tools.py:132) [dd3b4088c738/root] ▶️ 処理対象シート: 出荷, キー: ['品名'], 集計列: 正味重量\n",
      "2025-05-02 15:42:31,208 [INFO] (summary_tools.py:132) [dd3b4088c738/root] ▶️ 処理対象シート: 出荷, キー: ['業者名', '品名'], 集計列: 正味重量\n",
      "2025-05-02 15:42:31,227 [INFO] (summary_tools.py:132) [dd3b4088c738/root] ▶️ 処理対象シート: 出荷, キー: ['現場名', '運搬業者名', '品名'], 集計列: 正味重量\n"
     ]
    },
    {
     "name": "stderr",
     "output_type": "stream",
     "text": [
      "2025-05-02 15:42:31,247 [INFO] (factory_report_yuuka.py:56) [dd3b4088c738/root] ✅ 出荷有価の帳票生成が完了しました。\n",
      "2025-05-02 15:42:31,249 [INFO] (factory_report.py:41) [dd3b4088c738/root] ▶️ 出荷ヤードデータ処理開始\n",
      "2025-05-02 15:42:31,280 [INFO] (summary_tools.py:132) [dd3b4088c738/root] ▶️ 処理対象シート: ヤード, キー: ['種類名'], 集計列: 正味重量\n",
      "2025-05-02 15:42:31,297 [INFO] (summary_tools.py:132) [dd3b4088c738/root] ▶️ 処理対象シート: ヤード, キー: ['種類名', '品名'], 集計列: 正味重量\n",
      "2025-05-02 15:42:31,317 [INFO] (summary_tools.py:132) [dd3b4088c738/root] ▶️ 処理対象シート: 出荷, キー: ['業者名', '品名'], 集計列: 正味重量\n",
      "2025-05-02 15:42:31,336 [INFO] (factory_report_yard.py:44) [dd3b4088c738/root] ✅ 出荷ヤードの帳票生成が完了しました。\n",
      "2025-05-02 15:42:31,337 [INFO] (factory_report.py:45) [dd3b4088c738/root] 🧩 各処理結果を結合中...\n",
      "2025-05-02 15:42:31,371 [DEBUG] (factory_report.py:59) [dd3b4088c738/root] \n",
      "              大項目   セル             値 カテゴリ\n",
      "0              月日   O1         3月31日  NaN\n",
      "1              和暦   M1          令和7年  NaN\n",
      "2                  F19       紙、ダンボール   有価\n",
      "3                  I19        ペットボトル   有価\n",
      "4                  C19         スクラップ   有価\n",
      "5                  L19          アルミ類   有価\n",
      "6            アルミ類  L20         450.0   有価\n",
      "7         紙、ダンボール  F20         250.0   有価\n",
      "8          ペットボトル  I20         190.0   有価\n",
      "9           スクラップ  C20         670.0   有価\n",
      "10                 I21          モーター   有価\n",
      "11                 F21          トランス   有価\n",
      "12                 L21         ラジエター   有価\n",
      "13          合計_有価  O21       21350.0   有価\n",
      "14                 C21         ステンレス   有価\n",
      "15          ステンレス  C22           0.0   有価\n",
      "16           トランス  F22           0.0   有価\n",
      "17           モーター  I22           0.0   有価\n",
      "18          ラジエター  L22           0.0   有価\n",
      "19                 F23          アルミ缶   有価\n",
      "20                 C23            雑線   有価\n",
      "21                 L23           室外機   有価\n",
      "22                 I23            千地   有価\n",
      "23             千地  I24        1460.0   有価\n",
      "24            室外機  L24           0.0   有価\n",
      "25           アルミ缶  F24          60.0   有価\n",
      "26             雑線  C24           0.0   有価\n",
      "27                 I25    塩ﾋﾞ管(ｸﾞﾚｰ)   有価\n",
      "28                 F25            配線   有価\n",
      "29                 C25             銅   有価\n",
      "30                 L25      GB(ｷﾞﾛA)   有価\n",
      "31              銅  C26           0.0   有価\n",
      "32             配線  F26        2270.0   有価\n",
      "33       GB(ｷﾞﾛA)  L26       16000.0   有価\n",
      "34     塩ﾋﾞ管(ｸﾞﾚｰ)  I26           0.0   有価\n",
      "35                 C27         Cﾌﾟﾚｽ   有価\n",
      "36                 F27           給湯器   有価\n",
      "37                 I27         スチール缶   有価\n",
      "38            給湯器  F28           0.0   有価\n",
      "39          スチール缶  I28           0.0   有価\n",
      "40          Cﾌﾟﾚｽ  C28           0.0   有価\n",
      "41                 F29         東京ボード   処分\n",
      "42                 L29        松岡環境開発   処分\n",
      "43                 I29          木材開発   処分\n",
      "44                 C29          共同土木   処分\n",
      "45           木材開発  I30        2680.0   処分\n",
      "46           共同土木  C30        2780.0   処分\n",
      "47          東京ボード  F30       10420.0   処分\n",
      "48         松岡環境開発  L30           0.0   処分\n",
      "49                 F31            丸幸   処分\n",
      "50                 L31          新潟環境   処分\n",
      "51                 I31          杉田建材   処分\n",
      "52       合計_処分ヤード  O31       79780.0  NaN\n",
      "53                 C31         アクトリー   処分\n",
      "54          アクトリー  C32           0.0   処分\n",
      "55             丸幸  F32           0.0   処分\n",
      "56           杉田建材  I32       13280.0   処分\n",
      "57           新潟環境  L32           0.0   処分\n",
      "58                 L33     丸源企業（ C ）   処分\n",
      "59                 I33     丸源企業（ B ）   処分\n",
      "60                 F33     丸源企業（ A ）   処分\n",
      "61                 C33     丸源企業（ S ）   処分\n",
      "62      丸源企業（ S ）  C34           0.0   処分\n",
      "63      丸源企業（ A ）  F34       13870.0   処分\n",
      "64      丸源企業（ C ）  L34           0.0   処分\n",
      "65      丸源企業（ B ）  I34       10600.0   処分\n",
      "66                 I35            高野   処分\n",
      "67                 L35          トクヤマ   処分\n",
      "68                 F35    築館ｸﾘｰﾝｾﾝﾀｰ   処分\n",
      "69                 C35      北陸環境サービス   処分\n",
      "70       北陸環境サービス  C36           0.0   処分\n",
      "71     築館ｸﾘｰﾝｾﾝﾀｰ  F36           0.0   処分\n",
      "72             高野  I36           0.0   処分\n",
      "73           トクヤマ  L36           0.0   処分\n",
      "74                 C37        砂町アスコン   処分\n",
      "75                 F37      ｱﾙﾌｧﾌｫﾙﾑ   処分\n",
      "76                 I37           FDS   処分\n",
      "77                 L37         ﾌｼﾞｺｰ   処分\n",
      "78          ﾌｼﾞｺｰ  L38           0.0   処分\n",
      "79            FDS  I38           0.0   処分\n",
      "80       ｱﾙﾌｧﾌｫﾙﾑ  F38       12710.0   処分\n",
      "81         砂町アスコン  C38           0.0   処分\n",
      "82                 C39  ｸﾘｰﾝﾃｯｸｼｵｶﾞｲ   処分\n",
      "83                 F39        ﾃﾞｲ・ｼｲ   処分\n",
      "84                 I39       TREｶﾞﾗｽ   処分\n",
      "85                 L39            浜屋   処分\n",
      "86             浜屋  L40           0.0   処分\n",
      "87        TREｶﾞﾗｽ  I40           0.0   処分\n",
      "88         ﾃﾞｲ・ｼｲ  F40           0.0   処分\n",
      "89   ｸﾘｰﾝﾃｯｸｼｵｶﾞｲ  C40           0.0   処分\n",
      "90                 C41         東港金属　   処分\n",
      "91                 F41    ﾂﾈｲｼｶﾑﾃｯｸｽ   処分\n",
      "92                 I41          国分商会   処分\n",
      "93                 L41     ｴｺ･ﾏｲﾆﾝｸﾞ   処分\n",
      "94      ｴｺ･ﾏｲﾆﾝｸﾞ  L42           0.0   処分\n",
      "95           国分商会  I42           0.0   処分\n",
      "96          東港金属　  C42           0.0   処分\n",
      "97     ﾂﾈｲｼｶﾑﾃｯｸｽ  F42           0.0   処分\n",
      "98                 F43    市原ﾆｭｰｴﾅｼﾞｰ   処分\n",
      "99                 C43         東瀝青建設   処分\n",
      "100                I43       西部ｻｰﾋﾞｽ   処分\n",
      "101                L43         ｸﾞﾗﾝﾏ   処分\n",
      "102    市原ﾆｭｰｴﾅｼﾞｰ  F44           0.0   処分\n",
      "103         東瀝青建設  C44           0.0   処分\n",
      "104         ｸﾞﾗﾝﾏ  L44           0.0   処分\n",
      "105       西部ｻｰﾋﾞｽ  I44           0.0   処分\n",
      "106                I49       ヤード（雑品）  ヤード\n",
      "107                L49           その他  ヤード\n",
      "108                F49       ヤード（金庫）  ヤード\n",
      "109                C49   ヤード（シュレッダー）  ヤード\n",
      "110       ヤード（雑品）  I50           0.0  ヤード\n",
      "111           その他  L50        1660.0  ヤード\n",
      "112       ヤード（金庫）  F50         260.0  ヤード\n",
      "113   ヤード（シュレッダー）  C50       11520.0  ヤード\n",
      "114           総合計  O50      101130.0  NaN\n",
      "115        合計_ヤード  未設定       13440.0  ヤード\n",
      "116         合計_処分  未設定       66340.0   処分\n"
     ]
    },
    {
     "data": {
      "application/vnd.microsoft.datawrangler.viewer.v0+json": {
       "columns": [
        {
         "name": "index",
         "rawType": "int64",
         "type": "integer"
        },
        {
         "name": "大項目",
         "rawType": "object",
         "type": "string"
        },
        {
         "name": "セル",
         "rawType": "object",
         "type": "string"
        },
        {
         "name": "値",
         "rawType": "object",
         "type": "unknown"
        }
       ],
       "conversionMethod": "pd.DataFrame",
       "ref": "b28e87cf-1bfb-4ec2-bf50-eaef022a8ea1",
       "rows": [
        [
         "0",
         "搬出量",
         "E6",
         "101130.0"
        ],
        [
         "1",
         "処分費",
         "E7",
         null
        ]
       ],
       "shape": {
        "columns": 3,
        "rows": 2
       }
      },
      "text/html": [
       "<div>\n",
       "<style scoped>\n",
       "    .dataframe tbody tr th:only-of-type {\n",
       "        vertical-align: middle;\n",
       "    }\n",
       "\n",
       "    .dataframe tbody tr th {\n",
       "        vertical-align: top;\n",
       "    }\n",
       "\n",
       "    .dataframe thead th {\n",
       "        text-align: right;\n",
       "    }\n",
       "</style>\n",
       "<table border=\"1\" class=\"dataframe\">\n",
       "  <thead>\n",
       "    <tr style=\"text-align: right;\">\n",
       "      <th></th>\n",
       "      <th>大項目</th>\n",
       "      <th>セル</th>\n",
       "      <th>値</th>\n",
       "    </tr>\n",
       "  </thead>\n",
       "  <tbody>\n",
       "    <tr>\n",
       "      <th>0</th>\n",
       "      <td>搬出量</td>\n",
       "      <td>E6</td>\n",
       "      <td>101130.0</td>\n",
       "    </tr>\n",
       "    <tr>\n",
       "      <th>1</th>\n",
       "      <td>処分費</td>\n",
       "      <td>E7</td>\n",
       "      <td>NaN</td>\n",
       "    </tr>\n",
       "  </tbody>\n",
       "</table>\n",
       "</div>"
      ],
      "text/plain": [
       "   大項目  セル         値\n",
       "0  搬出量  E6  101130.0\n",
       "1  処分費  E7       NaN"
      ]
     },
     "execution_count": 7,
     "metadata": {},
     "output_type": "execute_result"
    }
   ],
   "source": [
    "\n",
    "def process_factory_report(dfs,master_csv):\n",
    "    logger = app_logger()\n",
    "    from logic.manage.factory_report import process\n",
    "    from utils.value_setter import set_value_fast,set_value_fast_safe\n",
    "\n",
    "\n",
    "    # 工場日報からdfを読込\n",
    "    df_factory = process(dfs)\n",
    "\n",
    "    # 搬出量を抜出\n",
    "    after_master_csv = reflect_total_from_factory(master_csv, df_factory)\n",
    "\n",
    "    return after_master_csv\n",
    "\n",
    "\n",
    "master_csv1 = process_factory_report(dfs,master_csv)\n",
    "master_csv1"
   ]
  },
  {
   "cell_type": "markdown",
   "id": "534f9d4e",
   "metadata": {},
   "source": [
    "## 仕入処分費"
   ]
  },
  {
   "cell_type": "code",
   "execution_count": 8,
   "id": "7567e39d",
   "metadata": {},
   "outputs": [],
   "source": [
    "def process_syobun_cost(df_yard, df_shipping):\n",
    "\n",
    "    logger = app_logger()\n",
    "\n",
    "    # 出荷一覧処理\n",
    "    # 処分費\n",
    "    master_csv_shobun_cost = shobun_cost(df_shipping)\n",
    "\n",
    "    # 金庫\n",
    "\n",
    "    # ヤード一覧処理\n",
    "\n",
    "    # 金庫_処分費\n",
    "\n",
    "    return"
   ]
  },
  {
   "cell_type": "code",
   "execution_count": 9,
   "id": "6abe5ba9",
   "metadata": {},
   "outputs": [
    {
     "data": {
      "application/vnd.microsoft.datawrangler.viewer.v0+json": {
       "columns": [
        {
         "name": "index",
         "rawType": "int64",
         "type": "integer"
        },
        {
         "name": "大項目",
         "rawType": "object",
         "type": "string"
        },
        {
         "name": "セル",
         "rawType": "object",
         "type": "string"
        },
        {
         "name": "値",
         "rawType": "object",
         "type": "unknown"
        }
       ],
       "conversionMethod": "pd.DataFrame",
       "ref": "a486c99f-1973-40b8-a479-e56737361ee5",
       "rows": [
        [
         "0",
         "搬出量",
         "E6",
         "101130.0"
        ],
        [
         "1",
         "処分費",
         "E7",
         null
        ]
       ],
       "shape": {
        "columns": 3,
        "rows": 2
       }
      },
      "text/html": [
       "<div>\n",
       "<style scoped>\n",
       "    .dataframe tbody tr th:only-of-type {\n",
       "        vertical-align: middle;\n",
       "    }\n",
       "\n",
       "    .dataframe tbody tr th {\n",
       "        vertical-align: top;\n",
       "    }\n",
       "\n",
       "    .dataframe thead th {\n",
       "        text-align: right;\n",
       "    }\n",
       "</style>\n",
       "<table border=\"1\" class=\"dataframe\">\n",
       "  <thead>\n",
       "    <tr style=\"text-align: right;\">\n",
       "      <th></th>\n",
       "      <th>大項目</th>\n",
       "      <th>セル</th>\n",
       "      <th>値</th>\n",
       "    </tr>\n",
       "  </thead>\n",
       "  <tbody>\n",
       "    <tr>\n",
       "      <th>0</th>\n",
       "      <td>搬出量</td>\n",
       "      <td>E6</td>\n",
       "      <td>101130.0</td>\n",
       "    </tr>\n",
       "    <tr>\n",
       "      <th>1</th>\n",
       "      <td>処分費</td>\n",
       "      <td>E7</td>\n",
       "      <td>NaN</td>\n",
       "    </tr>\n",
       "  </tbody>\n",
       "</table>\n",
       "</div>"
      ],
      "text/plain": [
       "   大項目  セル         値\n",
       "0  搬出量  E6  101130.0\n",
       "1  処分費  E7       NaN"
      ]
     },
     "execution_count": 9,
     "metadata": {},
     "output_type": "execute_result"
    }
   ],
   "source": [
    "master_csv1"
   ]
  },
  {
   "cell_type": "code",
   "execution_count": 10,
   "id": "f4fe161b",
   "metadata": {},
   "outputs": [
    {
     "data": {
      "application/vnd.microsoft.datawrangler.viewer.v0+json": {
       "columns": [
        {
         "name": "index",
         "rawType": "int64",
         "type": "integer"
        },
        {
         "name": "業者CD",
         "rawType": "int64",
         "type": "integer"
        },
        {
         "name": "業者名",
         "rawType": "object",
         "type": "string"
        },
        {
         "name": "金額",
         "rawType": "int64",
         "type": "integer"
        },
        {
         "name": "品名",
         "rawType": "object",
         "type": "string"
        },
        {
         "name": "正味重量",
         "rawType": "int64",
         "type": "integer"
        }
       ],
       "conversionMethod": "pd.DataFrame",
       "ref": "2b3031ff-a7d1-44b2-b627-fb6441283ef3",
       "rows": [
        [
         "0",
         "8327",
         "丸源起業",
         "305140",
         "混合廃棄物(A)",
         "13870"
        ],
        [
         "1",
         "5238",
         "東京ﾎﾞｰﾄﾞ工業",
         "18340",
         "木くず",
         "2620"
        ],
        [
         "2",
         "1",
         "ｵﾈｽﾄ",
         "0",
         "金属くず ｼｭﾚｯﾀ",
         "730"
        ],
        [
         "3",
         "1",
         "ｵﾈｽﾄ",
         "0",
         "鉄千地",
         "1460"
        ],
        [
         "4",
         "747",
         "宮崎",
         "3500",
         "ﾀﾞﾝﾎﾞｰﾙ",
         "250"
        ],
        [
         "5",
         "5238",
         "東京ﾎﾞｰﾄﾞ工業",
         "14350",
         "木くず",
         "2050"
        ],
        [
         "6",
         "8327",
         "丸源起業",
         "13850",
         "混合廃棄物(A)",
         "0"
        ],
        [
         "7",
         "8425",
         "東京産資源",
         "16750",
         "GB(ｷﾞﾛA)",
         "500"
        ],
        [
         "8",
         "8327",
         "丸源起業",
         "10590",
         "混合廃棄物(B)",
         "0"
        ],
        [
         "9",
         "8425",
         "東京産資源",
         "120015",
         "GB(ｷﾞﾛA)",
         "3810"
        ],
        [
         "10",
         "8425",
         "東京産資源",
         "94500",
         "GB(ｷﾞﾛA)",
         "3000"
        ],
        [
         "11",
         "8425",
         "東京産資源",
         "106785",
         "GB(ｷﾞﾛA)",
         "3390"
        ],
        [
         "12",
         "8425",
         "東京産資源",
         "62685",
         "GB(ｷﾞﾛA)",
         "1990"
        ],
        [
         "13",
         "8334",
         "ｱﾙﾌｧﾌｫﾙﾑ",
         "135000",
         "運搬費（澤希運輸）",
         "0"
        ],
        [
         "14",
         "8334",
         "ｱﾙﾌｧﾌｫﾙﾑ",
         "279620",
         "混合廃棄物",
         "12710"
        ],
        [
         "15",
         "8425",
         "東京産資源",
         "104265",
         "GB(ｷﾞﾛA)",
         "3310"
        ],
        [
         "16",
         "1",
         "ｵﾈｽﾄ",
         "0",
         "GC軽鉄・ｽﾁｰﾙ類",
         "560"
        ],
        [
         "17",
         "5238",
         "東京ﾎﾞｰﾄﾞ工業",
         "19110",
         "木くず",
         "2730"
        ],
        [
         "18",
         "8339",
         "共同土木",
         "97300",
         "混合廃棄物（処理困難物）",
         "2780"
        ],
        [
         "19",
         "8327",
         "丸源起業",
         "307400",
         "混合廃棄物(B)",
         "10600"
        ],
        [
         "20",
         "8463",
         "鴻祥興業",
         "0",
         "込中",
         "310"
        ],
        [
         "21",
         "8463",
         "鴻祥興業",
         "0",
         "配線",
         "2270"
        ],
        [
         "22",
         "8463",
         "鴻祥興業",
         "12650",
         "鉄千地",
         "2530"
        ],
        [
         "23",
         "8340",
         "木材開発",
         "26800",
         "木くず",
         "2680"
        ],
        [
         "24",
         "5238",
         "東京ﾎﾞｰﾄﾞ工業",
         "21140",
         "木くず",
         "3020"
        ],
        [
         "25",
         "8215",
         "杉田建材",
         "424960",
         "廃ﾌﾟﾗｽﾁｯｸ類",
         "13280"
        ],
        [
         "26",
         "1",
         "ｵﾈｽﾄ",
         "0",
         "金属くず ｼｭﾚｯﾀ",
         "490"
        ],
        [
         "27",
         "8463",
         "鴻祥興業",
         "0",
         "ﾓｰﾀｰ",
         "530"
        ],
        [
         "28",
         "8463",
         "鴻祥興業",
         "0",
         "ﾗｼﾞｴﾀｰ",
         "100"
        ],
        [
         "29",
         "8463",
         "鴻祥興業",
         "26700",
         "雑品",
         "890"
        ],
        [
         "30",
         "8463",
         "鴻祥興業",
         "0",
         "上雑品",
         "120"
        ],
        [
         "31",
         "747",
         "宮崎",
         "570",
         "ﾍﾟｯﾄﾎﾞﾄﾙ",
         "190"
        ],
        [
         "32",
         "1",
         "ｵﾈｽﾄ",
         "0",
         "ｱﾙﾐ缶",
         "60"
        ],
        [
         "33",
         "1",
         "ｵﾈｽﾄ",
         "0",
         "ｱﾙﾐ類",
         "450"
        ],
        [
         "34",
         "1",
         "ｵﾈｽﾄ",
         "0",
         "金庫",
         "40"
        ],
        [
         "35",
         "1",
         "ｵﾈｽﾄ",
         "0",
         "金庫",
         "40"
        ]
       ],
       "shape": {
        "columns": 5,
        "rows": 36
       }
      },
      "text/html": [
       "<div>\n",
       "<style scoped>\n",
       "    .dataframe tbody tr th:only-of-type {\n",
       "        vertical-align: middle;\n",
       "    }\n",
       "\n",
       "    .dataframe tbody tr th {\n",
       "        vertical-align: top;\n",
       "    }\n",
       "\n",
       "    .dataframe thead th {\n",
       "        text-align: right;\n",
       "    }\n",
       "</style>\n",
       "<table border=\"1\" class=\"dataframe\">\n",
       "  <thead>\n",
       "    <tr style=\"text-align: right;\">\n",
       "      <th></th>\n",
       "      <th>業者CD</th>\n",
       "      <th>業者名</th>\n",
       "      <th>金額</th>\n",
       "      <th>品名</th>\n",
       "      <th>正味重量</th>\n",
       "    </tr>\n",
       "  </thead>\n",
       "  <tbody>\n",
       "    <tr>\n",
       "      <th>0</th>\n",
       "      <td>8327</td>\n",
       "      <td>丸源起業</td>\n",
       "      <td>305140</td>\n",
       "      <td>混合廃棄物(A)</td>\n",
       "      <td>13870</td>\n",
       "    </tr>\n",
       "    <tr>\n",
       "      <th>1</th>\n",
       "      <td>5238</td>\n",
       "      <td>東京ﾎﾞｰﾄﾞ工業</td>\n",
       "      <td>18340</td>\n",
       "      <td>木くず</td>\n",
       "      <td>2620</td>\n",
       "    </tr>\n",
       "    <tr>\n",
       "      <th>2</th>\n",
       "      <td>1</td>\n",
       "      <td>ｵﾈｽﾄ</td>\n",
       "      <td>0</td>\n",
       "      <td>金属くず ｼｭﾚｯﾀ</td>\n",
       "      <td>730</td>\n",
       "    </tr>\n",
       "    <tr>\n",
       "      <th>3</th>\n",
       "      <td>1</td>\n",
       "      <td>ｵﾈｽﾄ</td>\n",
       "      <td>0</td>\n",
       "      <td>鉄千地</td>\n",
       "      <td>1460</td>\n",
       "    </tr>\n",
       "    <tr>\n",
       "      <th>4</th>\n",
       "      <td>747</td>\n",
       "      <td>宮崎</td>\n",
       "      <td>3500</td>\n",
       "      <td>ﾀﾞﾝﾎﾞｰﾙ</td>\n",
       "      <td>250</td>\n",
       "    </tr>\n",
       "    <tr>\n",
       "      <th>5</th>\n",
       "      <td>5238</td>\n",
       "      <td>東京ﾎﾞｰﾄﾞ工業</td>\n",
       "      <td>14350</td>\n",
       "      <td>木くず</td>\n",
       "      <td>2050</td>\n",
       "    </tr>\n",
       "    <tr>\n",
       "      <th>6</th>\n",
       "      <td>8327</td>\n",
       "      <td>丸源起業</td>\n",
       "      <td>13850</td>\n",
       "      <td>混合廃棄物(A)</td>\n",
       "      <td>0</td>\n",
       "    </tr>\n",
       "    <tr>\n",
       "      <th>7</th>\n",
       "      <td>8425</td>\n",
       "      <td>東京産資源</td>\n",
       "      <td>16750</td>\n",
       "      <td>GB(ｷﾞﾛA)</td>\n",
       "      <td>500</td>\n",
       "    </tr>\n",
       "    <tr>\n",
       "      <th>8</th>\n",
       "      <td>8327</td>\n",
       "      <td>丸源起業</td>\n",
       "      <td>10590</td>\n",
       "      <td>混合廃棄物(B)</td>\n",
       "      <td>0</td>\n",
       "    </tr>\n",
       "    <tr>\n",
       "      <th>9</th>\n",
       "      <td>8425</td>\n",
       "      <td>東京産資源</td>\n",
       "      <td>120015</td>\n",
       "      <td>GB(ｷﾞﾛA)</td>\n",
       "      <td>3810</td>\n",
       "    </tr>\n",
       "    <tr>\n",
       "      <th>10</th>\n",
       "      <td>8425</td>\n",
       "      <td>東京産資源</td>\n",
       "      <td>94500</td>\n",
       "      <td>GB(ｷﾞﾛA)</td>\n",
       "      <td>3000</td>\n",
       "    </tr>\n",
       "    <tr>\n",
       "      <th>11</th>\n",
       "      <td>8425</td>\n",
       "      <td>東京産資源</td>\n",
       "      <td>106785</td>\n",
       "      <td>GB(ｷﾞﾛA)</td>\n",
       "      <td>3390</td>\n",
       "    </tr>\n",
       "    <tr>\n",
       "      <th>12</th>\n",
       "      <td>8425</td>\n",
       "      <td>東京産資源</td>\n",
       "      <td>62685</td>\n",
       "      <td>GB(ｷﾞﾛA)</td>\n",
       "      <td>1990</td>\n",
       "    </tr>\n",
       "    <tr>\n",
       "      <th>13</th>\n",
       "      <td>8334</td>\n",
       "      <td>ｱﾙﾌｧﾌｫﾙﾑ</td>\n",
       "      <td>135000</td>\n",
       "      <td>運搬費（澤希運輸）</td>\n",
       "      <td>0</td>\n",
       "    </tr>\n",
       "    <tr>\n",
       "      <th>14</th>\n",
       "      <td>8334</td>\n",
       "      <td>ｱﾙﾌｧﾌｫﾙﾑ</td>\n",
       "      <td>279620</td>\n",
       "      <td>混合廃棄物</td>\n",
       "      <td>12710</td>\n",
       "    </tr>\n",
       "    <tr>\n",
       "      <th>15</th>\n",
       "      <td>8425</td>\n",
       "      <td>東京産資源</td>\n",
       "      <td>104265</td>\n",
       "      <td>GB(ｷﾞﾛA)</td>\n",
       "      <td>3310</td>\n",
       "    </tr>\n",
       "    <tr>\n",
       "      <th>16</th>\n",
       "      <td>1</td>\n",
       "      <td>ｵﾈｽﾄ</td>\n",
       "      <td>0</td>\n",
       "      <td>GC軽鉄・ｽﾁｰﾙ類</td>\n",
       "      <td>560</td>\n",
       "    </tr>\n",
       "    <tr>\n",
       "      <th>17</th>\n",
       "      <td>5238</td>\n",
       "      <td>東京ﾎﾞｰﾄﾞ工業</td>\n",
       "      <td>19110</td>\n",
       "      <td>木くず</td>\n",
       "      <td>2730</td>\n",
       "    </tr>\n",
       "    <tr>\n",
       "      <th>18</th>\n",
       "      <td>8339</td>\n",
       "      <td>共同土木</td>\n",
       "      <td>97300</td>\n",
       "      <td>混合廃棄物（処理困難物）</td>\n",
       "      <td>2780</td>\n",
       "    </tr>\n",
       "    <tr>\n",
       "      <th>19</th>\n",
       "      <td>8327</td>\n",
       "      <td>丸源起業</td>\n",
       "      <td>307400</td>\n",
       "      <td>混合廃棄物(B)</td>\n",
       "      <td>10600</td>\n",
       "    </tr>\n",
       "    <tr>\n",
       "      <th>20</th>\n",
       "      <td>8463</td>\n",
       "      <td>鴻祥興業</td>\n",
       "      <td>0</td>\n",
       "      <td>込中</td>\n",
       "      <td>310</td>\n",
       "    </tr>\n",
       "    <tr>\n",
       "      <th>21</th>\n",
       "      <td>8463</td>\n",
       "      <td>鴻祥興業</td>\n",
       "      <td>0</td>\n",
       "      <td>配線</td>\n",
       "      <td>2270</td>\n",
       "    </tr>\n",
       "    <tr>\n",
       "      <th>22</th>\n",
       "      <td>8463</td>\n",
       "      <td>鴻祥興業</td>\n",
       "      <td>12650</td>\n",
       "      <td>鉄千地</td>\n",
       "      <td>2530</td>\n",
       "    </tr>\n",
       "    <tr>\n",
       "      <th>23</th>\n",
       "      <td>8340</td>\n",
       "      <td>木材開発</td>\n",
       "      <td>26800</td>\n",
       "      <td>木くず</td>\n",
       "      <td>2680</td>\n",
       "    </tr>\n",
       "    <tr>\n",
       "      <th>24</th>\n",
       "      <td>5238</td>\n",
       "      <td>東京ﾎﾞｰﾄﾞ工業</td>\n",
       "      <td>21140</td>\n",
       "      <td>木くず</td>\n",
       "      <td>3020</td>\n",
       "    </tr>\n",
       "    <tr>\n",
       "      <th>25</th>\n",
       "      <td>8215</td>\n",
       "      <td>杉田建材</td>\n",
       "      <td>424960</td>\n",
       "      <td>廃ﾌﾟﾗｽﾁｯｸ類</td>\n",
       "      <td>13280</td>\n",
       "    </tr>\n",
       "    <tr>\n",
       "      <th>26</th>\n",
       "      <td>1</td>\n",
       "      <td>ｵﾈｽﾄ</td>\n",
       "      <td>0</td>\n",
       "      <td>金属くず ｼｭﾚｯﾀ</td>\n",
       "      <td>490</td>\n",
       "    </tr>\n",
       "    <tr>\n",
       "      <th>27</th>\n",
       "      <td>8463</td>\n",
       "      <td>鴻祥興業</td>\n",
       "      <td>0</td>\n",
       "      <td>ﾓｰﾀｰ</td>\n",
       "      <td>530</td>\n",
       "    </tr>\n",
       "    <tr>\n",
       "      <th>28</th>\n",
       "      <td>8463</td>\n",
       "      <td>鴻祥興業</td>\n",
       "      <td>0</td>\n",
       "      <td>ﾗｼﾞｴﾀｰ</td>\n",
       "      <td>100</td>\n",
       "    </tr>\n",
       "    <tr>\n",
       "      <th>29</th>\n",
       "      <td>8463</td>\n",
       "      <td>鴻祥興業</td>\n",
       "      <td>26700</td>\n",
       "      <td>雑品</td>\n",
       "      <td>890</td>\n",
       "    </tr>\n",
       "    <tr>\n",
       "      <th>30</th>\n",
       "      <td>8463</td>\n",
       "      <td>鴻祥興業</td>\n",
       "      <td>0</td>\n",
       "      <td>上雑品</td>\n",
       "      <td>120</td>\n",
       "    </tr>\n",
       "    <tr>\n",
       "      <th>31</th>\n",
       "      <td>747</td>\n",
       "      <td>宮崎</td>\n",
       "      <td>570</td>\n",
       "      <td>ﾍﾟｯﾄﾎﾞﾄﾙ</td>\n",
       "      <td>190</td>\n",
       "    </tr>\n",
       "    <tr>\n",
       "      <th>32</th>\n",
       "      <td>1</td>\n",
       "      <td>ｵﾈｽﾄ</td>\n",
       "      <td>0</td>\n",
       "      <td>ｱﾙﾐ缶</td>\n",
       "      <td>60</td>\n",
       "    </tr>\n",
       "    <tr>\n",
       "      <th>33</th>\n",
       "      <td>1</td>\n",
       "      <td>ｵﾈｽﾄ</td>\n",
       "      <td>0</td>\n",
       "      <td>ｱﾙﾐ類</td>\n",
       "      <td>450</td>\n",
       "    </tr>\n",
       "    <tr>\n",
       "      <th>34</th>\n",
       "      <td>1</td>\n",
       "      <td>ｵﾈｽﾄ</td>\n",
       "      <td>0</td>\n",
       "      <td>金庫</td>\n",
       "      <td>40</td>\n",
       "    </tr>\n",
       "    <tr>\n",
       "      <th>35</th>\n",
       "      <td>1</td>\n",
       "      <td>ｵﾈｽﾄ</td>\n",
       "      <td>0</td>\n",
       "      <td>金庫</td>\n",
       "      <td>40</td>\n",
       "    </tr>\n",
       "  </tbody>\n",
       "</table>\n",
       "</div>"
      ],
      "text/plain": [
       "    業者CD        業者名      金額            品名   正味重量\n",
       "0   8327       丸源起業  305140      混合廃棄物(A)  13870\n",
       "1   5238  東京ﾎﾞｰﾄﾞ工業   18340           木くず   2620\n",
       "2      1       ｵﾈｽﾄ       0    金属くず ｼｭﾚｯﾀ    730\n",
       "3      1       ｵﾈｽﾄ       0           鉄千地   1460\n",
       "4    747         宮崎    3500       ﾀﾞﾝﾎﾞｰﾙ    250\n",
       "5   5238  東京ﾎﾞｰﾄﾞ工業   14350           木くず   2050\n",
       "6   8327       丸源起業   13850      混合廃棄物(A)      0\n",
       "7   8425      東京産資源   16750      GB(ｷﾞﾛA)    500\n",
       "8   8327       丸源起業   10590      混合廃棄物(B)      0\n",
       "9   8425      東京産資源  120015      GB(ｷﾞﾛA)   3810\n",
       "10  8425      東京産資源   94500      GB(ｷﾞﾛA)   3000\n",
       "11  8425      東京産資源  106785      GB(ｷﾞﾛA)   3390\n",
       "12  8425      東京産資源   62685      GB(ｷﾞﾛA)   1990\n",
       "13  8334   ｱﾙﾌｧﾌｫﾙﾑ  135000     運搬費（澤希運輸）      0\n",
       "14  8334   ｱﾙﾌｧﾌｫﾙﾑ  279620         混合廃棄物  12710\n",
       "15  8425      東京産資源  104265      GB(ｷﾞﾛA)   3310\n",
       "16     1       ｵﾈｽﾄ       0    GC軽鉄・ｽﾁｰﾙ類    560\n",
       "17  5238  東京ﾎﾞｰﾄﾞ工業   19110           木くず   2730\n",
       "18  8339       共同土木   97300  混合廃棄物（処理困難物）   2780\n",
       "19  8327       丸源起業  307400      混合廃棄物(B)  10600\n",
       "20  8463       鴻祥興業       0            込中    310\n",
       "21  8463       鴻祥興業       0            配線   2270\n",
       "22  8463       鴻祥興業   12650           鉄千地   2530\n",
       "23  8340       木材開発   26800           木くず   2680\n",
       "24  5238  東京ﾎﾞｰﾄﾞ工業   21140           木くず   3020\n",
       "25  8215       杉田建材  424960     廃ﾌﾟﾗｽﾁｯｸ類  13280\n",
       "26     1       ｵﾈｽﾄ       0    金属くず ｼｭﾚｯﾀ    490\n",
       "27  8463       鴻祥興業       0          ﾓｰﾀｰ    530\n",
       "28  8463       鴻祥興業       0        ﾗｼﾞｴﾀｰ    100\n",
       "29  8463       鴻祥興業   26700            雑品    890\n",
       "30  8463       鴻祥興業       0           上雑品    120\n",
       "31   747         宮崎     570      ﾍﾟｯﾄﾎﾞﾄﾙ    190\n",
       "32     1       ｵﾈｽﾄ       0          ｱﾙﾐ缶     60\n",
       "33     1       ｵﾈｽﾄ       0          ｱﾙﾐ類    450\n",
       "34     1       ｵﾈｽﾄ       0            金庫     40\n",
       "35     1       ｵﾈｽﾄ       0            金庫     40"
      ]
     },
     "execution_count": 10,
     "metadata": {},
     "output_type": "execute_result"
    }
   ],
   "source": [
    "df_shipping"
   ]
  },
  {
   "cell_type": "markdown",
   "id": "ae3a2b04",
   "metadata": {},
   "source": [
    "### 処分費"
   ]
  },
  {
   "cell_type": "code",
   "execution_count": 11,
   "id": "4067ccea",
   "metadata": {},
   "outputs": [
    {
     "name": "stderr",
     "output_type": "stream",
     "text": [
      "/tmp/ipykernel_273019/3117396381.py:12: SettingWithCopyWarning: \n",
      "A value is trying to be set on a copy of a slice from a DataFrame.\n",
      "Try using .loc[row_indexer,col_indexer] = value instead\n",
      "\n",
      "See the caveats in the documentation: https://pandas.pydata.org/pandas-docs/stable/user_guide/indexing.html#returning-a-view-versus-a-copy\n",
      "  df_shipping[\"業者CD\"] = df_shipping[\"業者CD\"].astype(str)\n",
      "2025-05-02 15:42:31,461 [INFO] (summary_tools.py:78) [dd3b4088c738/root] ▶️ マスター更新処理: キー=['業者CD'], 集計列=金額 ➡ 書き込み列=値\n"
     ]
    },
    {
     "data": {
      "application/vnd.microsoft.datawrangler.viewer.v0+json": {
       "columns": [
        {
         "name": "index",
         "rawType": "int64",
         "type": "integer"
        },
        {
         "name": "業者CD",
         "rawType": "object",
         "type": "string"
        },
        {
         "name": "業者名",
         "rawType": "object",
         "type": "string"
        },
        {
         "name": "セル",
         "rawType": "object",
         "type": "unknown"
        },
        {
         "name": "値",
         "rawType": "object",
         "type": "unknown"
        }
       ],
       "conversionMethod": "pd.DataFrame",
       "ref": "105248e5-beac-469c-847e-94a81034e8a2",
       "rows": [
        [
         "0",
         "8339",
         "共同土木",
         null,
         "97300.0"
        ],
        [
         "1",
         "5238",
         "東京ボード",
         null,
         "72940.0"
        ],
        [
         "2",
         "8340",
         "木材開発",
         null,
         "26800.0"
        ],
        [
         "3",
         "8085",
         "松岡環境開発",
         null,
         null
        ],
        [
         "4",
         "6421",
         "アクトリー",
         null,
         null
        ],
        [
         "5",
         "8337",
         "丸幸",
         null,
         null
        ],
        [
         "6",
         "8215",
         "杉田建材",
         null,
         "424960.0"
        ],
        [
         "7",
         "8336",
         "新潟環境",
         null,
         null
        ],
        [
         "8",
         "8327",
         "丸源企業（ S ）",
         null,
         "636980.0"
        ],
        [
         "9",
         "705",
         "北陸環境サービス",
         null,
         null
        ],
        [
         "10",
         "1185",
         "築館ｸﾘｰﾝｾﾝﾀｰ",
         null,
         null
        ],
        [
         "11",
         "8076",
         "高野",
         null,
         null
        ],
        [
         "12",
         "8077",
         "トクヤマ",
         null,
         null
        ],
        [
         "13",
         "5199",
         "砂町アスコン",
         null,
         null
        ],
        [
         "14",
         "8334",
         "ｱﾙﾌｧﾌｫﾙﾑ",
         null,
         "414620.0"
        ],
        [
         "15",
         "6797",
         "FDS",
         null,
         null
        ],
        [
         "16",
         "8338",
         "ﾌｼﾞｺｰ",
         null,
         null
        ],
        [
         "17",
         "8341",
         "ｸﾘｰﾝﾃｯｸｼｵｶﾞｲ",
         null,
         null
        ],
        [
         "18",
         "8080",
         "ﾃﾞｲ・ｼｲ",
         null,
         null
        ],
        [
         "19",
         "349",
         "TREｶﾞﾗｽ",
         null,
         null
        ],
        [
         "20",
         "6786",
         "浜屋",
         null,
         null
        ],
        [
         "21",
         "5227",
         "東港金属　",
         null,
         null
        ],
        [
         "22",
         "8329",
         "ﾂﾈｲｼｶﾑﾃｯｸｽ",
         null,
         null
        ],
        [
         "23",
         "8360",
         "国分商会",
         null,
         null
        ],
        [
         "24",
         "8363",
         "ｴｺ･ﾏｲﾆﾝｸﾞ",
         null,
         null
        ],
        [
         "25",
         "8398",
         "東瀝青建設",
         null,
         null
        ],
        [
         "26",
         "8679",
         "市原ﾆｭｰｴﾅｼﾞｰ",
         null,
         null
        ],
        [
         "27",
         "339",
         "西部ｻｰﾋﾞｽ",
         null,
         null
        ],
        [
         "28",
         "8082",
         "ｸﾞﾗﾝﾏ",
         null,
         null
        ]
       ],
       "shape": {
        "columns": 4,
        "rows": 29
       }
      },
      "text/html": [
       "<div>\n",
       "<style scoped>\n",
       "    .dataframe tbody tr th:only-of-type {\n",
       "        vertical-align: middle;\n",
       "    }\n",
       "\n",
       "    .dataframe tbody tr th {\n",
       "        vertical-align: top;\n",
       "    }\n",
       "\n",
       "    .dataframe thead th {\n",
       "        text-align: right;\n",
       "    }\n",
       "</style>\n",
       "<table border=\"1\" class=\"dataframe\">\n",
       "  <thead>\n",
       "    <tr style=\"text-align: right;\">\n",
       "      <th></th>\n",
       "      <th>業者CD</th>\n",
       "      <th>業者名</th>\n",
       "      <th>セル</th>\n",
       "      <th>値</th>\n",
       "    </tr>\n",
       "  </thead>\n",
       "  <tbody>\n",
       "    <tr>\n",
       "      <th>0</th>\n",
       "      <td>8339</td>\n",
       "      <td>共同土木</td>\n",
       "      <td>NaN</td>\n",
       "      <td>97300.0</td>\n",
       "    </tr>\n",
       "    <tr>\n",
       "      <th>1</th>\n",
       "      <td>5238</td>\n",
       "      <td>東京ボード</td>\n",
       "      <td>NaN</td>\n",
       "      <td>72940.0</td>\n",
       "    </tr>\n",
       "    <tr>\n",
       "      <th>2</th>\n",
       "      <td>8340</td>\n",
       "      <td>木材開発</td>\n",
       "      <td>NaN</td>\n",
       "      <td>26800.0</td>\n",
       "    </tr>\n",
       "    <tr>\n",
       "      <th>3</th>\n",
       "      <td>8085</td>\n",
       "      <td>松岡環境開発</td>\n",
       "      <td>NaN</td>\n",
       "      <td>NaN</td>\n",
       "    </tr>\n",
       "    <tr>\n",
       "      <th>4</th>\n",
       "      <td>6421</td>\n",
       "      <td>アクトリー</td>\n",
       "      <td>NaN</td>\n",
       "      <td>NaN</td>\n",
       "    </tr>\n",
       "    <tr>\n",
       "      <th>5</th>\n",
       "      <td>8337</td>\n",
       "      <td>丸幸</td>\n",
       "      <td>NaN</td>\n",
       "      <td>NaN</td>\n",
       "    </tr>\n",
       "    <tr>\n",
       "      <th>6</th>\n",
       "      <td>8215</td>\n",
       "      <td>杉田建材</td>\n",
       "      <td>NaN</td>\n",
       "      <td>424960.0</td>\n",
       "    </tr>\n",
       "    <tr>\n",
       "      <th>7</th>\n",
       "      <td>8336</td>\n",
       "      <td>新潟環境</td>\n",
       "      <td>NaN</td>\n",
       "      <td>NaN</td>\n",
       "    </tr>\n",
       "    <tr>\n",
       "      <th>8</th>\n",
       "      <td>8327</td>\n",
       "      <td>丸源企業（ S ）</td>\n",
       "      <td>NaN</td>\n",
       "      <td>636980.0</td>\n",
       "    </tr>\n",
       "    <tr>\n",
       "      <th>9</th>\n",
       "      <td>705</td>\n",
       "      <td>北陸環境サービス</td>\n",
       "      <td>NaN</td>\n",
       "      <td>NaN</td>\n",
       "    </tr>\n",
       "    <tr>\n",
       "      <th>10</th>\n",
       "      <td>1185</td>\n",
       "      <td>築館ｸﾘｰﾝｾﾝﾀｰ</td>\n",
       "      <td>NaN</td>\n",
       "      <td>NaN</td>\n",
       "    </tr>\n",
       "    <tr>\n",
       "      <th>11</th>\n",
       "      <td>8076</td>\n",
       "      <td>高野</td>\n",
       "      <td>NaN</td>\n",
       "      <td>NaN</td>\n",
       "    </tr>\n",
       "    <tr>\n",
       "      <th>12</th>\n",
       "      <td>8077</td>\n",
       "      <td>トクヤマ</td>\n",
       "      <td>NaN</td>\n",
       "      <td>NaN</td>\n",
       "    </tr>\n",
       "    <tr>\n",
       "      <th>13</th>\n",
       "      <td>5199</td>\n",
       "      <td>砂町アスコン</td>\n",
       "      <td>NaN</td>\n",
       "      <td>NaN</td>\n",
       "    </tr>\n",
       "    <tr>\n",
       "      <th>14</th>\n",
       "      <td>8334</td>\n",
       "      <td>ｱﾙﾌｧﾌｫﾙﾑ</td>\n",
       "      <td>NaN</td>\n",
       "      <td>414620.0</td>\n",
       "    </tr>\n",
       "    <tr>\n",
       "      <th>15</th>\n",
       "      <td>6797</td>\n",
       "      <td>FDS</td>\n",
       "      <td>NaN</td>\n",
       "      <td>NaN</td>\n",
       "    </tr>\n",
       "    <tr>\n",
       "      <th>16</th>\n",
       "      <td>8338</td>\n",
       "      <td>ﾌｼﾞｺｰ</td>\n",
       "      <td>NaN</td>\n",
       "      <td>NaN</td>\n",
       "    </tr>\n",
       "    <tr>\n",
       "      <th>17</th>\n",
       "      <td>8341</td>\n",
       "      <td>ｸﾘｰﾝﾃｯｸｼｵｶﾞｲ</td>\n",
       "      <td>NaN</td>\n",
       "      <td>NaN</td>\n",
       "    </tr>\n",
       "    <tr>\n",
       "      <th>18</th>\n",
       "      <td>8080</td>\n",
       "      <td>ﾃﾞｲ・ｼｲ</td>\n",
       "      <td>NaN</td>\n",
       "      <td>NaN</td>\n",
       "    </tr>\n",
       "    <tr>\n",
       "      <th>19</th>\n",
       "      <td>349</td>\n",
       "      <td>TREｶﾞﾗｽ</td>\n",
       "      <td>NaN</td>\n",
       "      <td>NaN</td>\n",
       "    </tr>\n",
       "    <tr>\n",
       "      <th>20</th>\n",
       "      <td>6786</td>\n",
       "      <td>浜屋</td>\n",
       "      <td>NaN</td>\n",
       "      <td>NaN</td>\n",
       "    </tr>\n",
       "    <tr>\n",
       "      <th>21</th>\n",
       "      <td>5227</td>\n",
       "      <td>東港金属</td>\n",
       "      <td>NaN</td>\n",
       "      <td>NaN</td>\n",
       "    </tr>\n",
       "    <tr>\n",
       "      <th>22</th>\n",
       "      <td>8329</td>\n",
       "      <td>ﾂﾈｲｼｶﾑﾃｯｸｽ</td>\n",
       "      <td>NaN</td>\n",
       "      <td>NaN</td>\n",
       "    </tr>\n",
       "    <tr>\n",
       "      <th>23</th>\n",
       "      <td>8360</td>\n",
       "      <td>国分商会</td>\n",
       "      <td>NaN</td>\n",
       "      <td>NaN</td>\n",
       "    </tr>\n",
       "    <tr>\n",
       "      <th>24</th>\n",
       "      <td>8363</td>\n",
       "      <td>ｴｺ･ﾏｲﾆﾝｸﾞ</td>\n",
       "      <td>NaN</td>\n",
       "      <td>NaN</td>\n",
       "    </tr>\n",
       "    <tr>\n",
       "      <th>25</th>\n",
       "      <td>8398</td>\n",
       "      <td>東瀝青建設</td>\n",
       "      <td>NaN</td>\n",
       "      <td>NaN</td>\n",
       "    </tr>\n",
       "    <tr>\n",
       "      <th>26</th>\n",
       "      <td>8679</td>\n",
       "      <td>市原ﾆｭｰｴﾅｼﾞｰ</td>\n",
       "      <td>NaN</td>\n",
       "      <td>NaN</td>\n",
       "    </tr>\n",
       "    <tr>\n",
       "      <th>27</th>\n",
       "      <td>339</td>\n",
       "      <td>西部ｻｰﾋﾞｽ</td>\n",
       "      <td>NaN</td>\n",
       "      <td>NaN</td>\n",
       "    </tr>\n",
       "    <tr>\n",
       "      <th>28</th>\n",
       "      <td>8082</td>\n",
       "      <td>ｸﾞﾗﾝﾏ</td>\n",
       "      <td>NaN</td>\n",
       "      <td>NaN</td>\n",
       "    </tr>\n",
       "  </tbody>\n",
       "</table>\n",
       "</div>"
      ],
      "text/plain": [
       "    業者CD           業者名   セル         値\n",
       "0   8339          共同土木  NaN   97300.0\n",
       "1   5238         東京ボード  NaN   72940.0\n",
       "2   8340          木材開発  NaN   26800.0\n",
       "3   8085        松岡環境開発  NaN       NaN\n",
       "4   6421         アクトリー  NaN       NaN\n",
       "5   8337            丸幸  NaN       NaN\n",
       "6   8215          杉田建材  NaN  424960.0\n",
       "7   8336          新潟環境  NaN       NaN\n",
       "8   8327     丸源企業（ S ）  NaN  636980.0\n",
       "9    705      北陸環境サービス  NaN       NaN\n",
       "10  1185    築館ｸﾘｰﾝｾﾝﾀｰ  NaN       NaN\n",
       "11  8076            高野  NaN       NaN\n",
       "12  8077          トクヤマ  NaN       NaN\n",
       "13  5199        砂町アスコン  NaN       NaN\n",
       "14  8334      ｱﾙﾌｧﾌｫﾙﾑ  NaN  414620.0\n",
       "15  6797           FDS  NaN       NaN\n",
       "16  8338         ﾌｼﾞｺｰ  NaN       NaN\n",
       "17  8341  ｸﾘｰﾝﾃｯｸｼｵｶﾞｲ  NaN       NaN\n",
       "18  8080        ﾃﾞｲ・ｼｲ  NaN       NaN\n",
       "19   349       TREｶﾞﾗｽ  NaN       NaN\n",
       "20  6786            浜屋  NaN       NaN\n",
       "21  5227         東港金属　  NaN       NaN\n",
       "22  8329    ﾂﾈｲｼｶﾑﾃｯｸｽ  NaN       NaN\n",
       "23  8360          国分商会  NaN       NaN\n",
       "24  8363     ｴｺ･ﾏｲﾆﾝｸﾞ  NaN       NaN\n",
       "25  8398         東瀝青建設  NaN       NaN\n",
       "26  8679    市原ﾆｭｰｴﾅｼﾞｰ  NaN       NaN\n",
       "27   339       西部ｻｰﾋﾞｽ  NaN       NaN\n",
       "28  8082         ｸﾞﾗﾝﾏ  NaN       NaN"
      ]
     },
     "metadata": {},
     "output_type": "display_data"
    }
   ],
   "source": [
    "from logic.manage.utils.summary_tools import summary_apply\n",
    "\n",
    "\n",
    "def shobun_cost(df_shipping):\n",
    "\n",
    "    # --- ① マスターCSVの読み込み ---\n",
    "    config = get_template_config()[\"balance_sheet\"]\n",
    "    master_path = config[\"master_csv_path\"][\"shobun_cost\"]\n",
    "    master_csv = load_master_and_template(master_path)\n",
    "\n",
    "    # # 👇 業者CDを文字列に揃える\n",
    "    df_shipping[\"業者CD\"] = df_shipping[\"業者CD\"].astype(str)\n",
    "    master_csv[\"業者CD\"] = master_csv[\"業者CD\"].astype(str)\n",
    "\n",
    "    # 処分費の総計\n",
    "    key_cols = [\"業者CD\"]\n",
    "    source_col = \"金額\"\n",
    "    master_csv = summary_apply(\n",
    "        master_csv,\n",
    "        df_shipping,\n",
    "        key_cols,\n",
    "        source_col,\n",
    "    )\n",
    "    return master_csv\n",
    "\n",
    "\n",
    "master_csv_shobun_cost = shobun_cost(df_shipping)\n",
    "display(master_csv_shobun_cost)"
   ]
  },
  {
   "cell_type": "markdown",
   "id": "4602eb4b",
   "metadata": {},
   "source": [
    "### 処分費_金庫"
   ]
  },
  {
   "cell_type": "code",
   "execution_count": 12,
   "id": "1614d1e7",
   "metadata": {},
   "outputs": [
    {
     "name": "stderr",
     "output_type": "stream",
     "text": [
      "2025-05-02 15:42:31,515 [INFO] (summary_tools.py:78) [dd3b4088c738/root] ▶️ マスター更新処理: キー=['業者名', '品名'], 集計列=正味重量 ➡ 書き込み列=正味重量\n",
      "2025-05-02 15:42:31,538 [INFO] (summary_tools.py:78) [dd3b4088c738/root] ▶️ マスター更新処理: キー=['業者名', '品名'], 集計列=設定単価 ➡ 書き込み列=設定単価\n"
     ]
    },
    {
     "data": {
      "application/vnd.microsoft.datawrangler.viewer.v0+json": {
       "columns": [
        {
         "name": "index",
         "rawType": "int64",
         "type": "integer"
        },
        {
         "name": "大項目",
         "rawType": "object",
         "type": "string"
        },
        {
         "name": "業者名",
         "rawType": "object",
         "type": "string"
        },
        {
         "name": "品名",
         "rawType": "object",
         "type": "string"
        },
        {
         "name": "セル",
         "rawType": "object",
         "type": "unknown"
        },
        {
         "name": "値",
         "rawType": "float64",
         "type": "float"
        },
        {
         "name": "正味重量",
         "rawType": "float64",
         "type": "float"
        },
        {
         "name": "設定単価",
         "rawType": "float64",
         "type": "float"
        }
       ],
       "conversionMethod": "pd.DataFrame",
       "ref": "38f9a316-95d4-487b-8508-9431b6936ef7",
       "rows": [
        [
         "0",
         "金庫",
         "ｵﾈｽﾄ",
         "金庫",
         null,
         "4800.0",
         "80.0",
         "60.0"
        ]
       ],
       "shape": {
        "columns": 7,
        "rows": 1
       }
      },
      "text/html": [
       "<div>\n",
       "<style scoped>\n",
       "    .dataframe tbody tr th:only-of-type {\n",
       "        vertical-align: middle;\n",
       "    }\n",
       "\n",
       "    .dataframe tbody tr th {\n",
       "        vertical-align: top;\n",
       "    }\n",
       "\n",
       "    .dataframe thead th {\n",
       "        text-align: right;\n",
       "    }\n",
       "</style>\n",
       "<table border=\"1\" class=\"dataframe\">\n",
       "  <thead>\n",
       "    <tr style=\"text-align: right;\">\n",
       "      <th></th>\n",
       "      <th>大項目</th>\n",
       "      <th>業者名</th>\n",
       "      <th>品名</th>\n",
       "      <th>セル</th>\n",
       "      <th>値</th>\n",
       "      <th>正味重量</th>\n",
       "      <th>設定単価</th>\n",
       "    </tr>\n",
       "  </thead>\n",
       "  <tbody>\n",
       "    <tr>\n",
       "      <th>0</th>\n",
       "      <td>金庫</td>\n",
       "      <td>ｵﾈｽﾄ</td>\n",
       "      <td>金庫</td>\n",
       "      <td>NaN</td>\n",
       "      <td>4800.0</td>\n",
       "      <td>80.0</td>\n",
       "      <td>60.0</td>\n",
       "    </tr>\n",
       "  </tbody>\n",
       "</table>\n",
       "</div>"
      ],
      "text/plain": [
       "  大項目   業者名  品名   セル       値  正味重量  設定単価\n",
       "0  金庫  ｵﾈｽﾄ  金庫  NaN  4800.0  80.0  60.0"
      ]
     },
     "metadata": {},
     "output_type": "display_data"
    }
   ],
   "source": [
    "from utils.config_loader import get_unit_price_table_csv\n",
    "from logic.manage.utils.multiply_tools import multiply_columns\n",
    "\n",
    "\n",
    "def shobun_cost_kinko(df_shipping: pd.DataFrame) -> pd.DataFrame:\n",
    "    \"\"\"\n",
    "    出荷データから処分コストを計算する関数\n",
    "\n",
    "    Parameters\n",
    "    ----------\n",
    "    df_shipping : pd.DataFrame\n",
    "        出荷データのDataFrame\n",
    "\n",
    "    Returns\n",
    "    -------\n",
    "    pd.DataFrame\n",
    "        単価×正味重量の「値」を含むマスターDataFrame\n",
    "    \"\"\"\n",
    "\n",
    "    # --- ① マスターCSVの読み込み ---\n",
    "    config = get_template_config()[\"balance_sheet\"]\n",
    "    master_path = config[\"master_csv_path\"][\"syobun_cost_kinko\"]\n",
    "    master_csv = load_master_and_template(master_path)\n",
    "\n",
    "    # --- ② 正味重量の更新 ---\n",
    "    key_cols = [\"業者名\", \"品名\"]\n",
    "    source_col = \"正味重量\"\n",
    "    master_with_weight = summary_apply(\n",
    "        master_csv,\n",
    "        df_shipping,\n",
    "        key_cols,\n",
    "        source_col,\n",
    "        source_col,  # target_colとsource_colが同じ\n",
    "    )\n",
    "\n",
    "    # --- ③ 単価の設定 ---\n",
    "    unit_price_csv = get_unit_price_table_csv()\n",
    "    master_with_price = summary_apply(\n",
    "        master_with_weight,\n",
    "        unit_price_csv,\n",
    "        key_cols,\n",
    "        source_col=\"設定単価\",\n",
    "        target_col=\"設定単価\",\n",
    "    )\n",
    "\n",
    "    # --- ④ 単価×正味重量の計算 ---\n",
    "    result_df = multiply_columns(\n",
    "        master_with_price, col1=\"設定単価\", col2=\"正味重量\", result_col=\"値\"\n",
    "    )\n",
    "\n",
    "    return result_df\n",
    "\n",
    "\n",
    "# --- 呼び出し例 ---\n",
    "master_csv_shobun_cost = shobun_cost_kinko(df_shipping)\n",
    "display(master_csv_shobun_cost)"
   ]
  },
  {
   "cell_type": "markdown",
   "id": "31d2cfbc",
   "metadata": {},
   "source": [
    "### 処分費_金庫_ヤード"
   ]
  },
  {
   "cell_type": "code",
   "execution_count": 13,
   "id": "2023df90",
   "metadata": {},
   "outputs": [
    {
     "name": "stderr",
     "output_type": "stream",
     "text": [
      "2025-05-02 15:42:31,581 [INFO] (summary_tools.py:78) [dd3b4088c738/root] ▶️ マスター更新処理: キー=['種類名', '品名'], 集計列=正味重量 ➡ 書き込み列=正味重量\n",
      "2025-05-02 15:42:31,603 [INFO] (summary_tools.py:78) [dd3b4088c738/root] ▶️ マスター更新処理: キー=['種類名', '品名'], 集計列=設定単価 ➡ 書き込み列=設定単価\n"
     ]
    },
    {
     "data": {
      "application/vnd.microsoft.datawrangler.viewer.v0+json": {
       "columns": [
        {
         "name": "index",
         "rawType": "int64",
         "type": "integer"
        },
        {
         "name": "大項目",
         "rawType": "object",
         "type": "string"
        },
        {
         "name": "種類名",
         "rawType": "object",
         "type": "string"
        },
        {
         "name": "品名",
         "rawType": "object",
         "type": "string"
        },
        {
         "name": "セル",
         "rawType": "object",
         "type": "unknown"
        },
        {
         "name": "値",
         "rawType": "float64",
         "type": "float"
        },
        {
         "name": "正味重量",
         "rawType": "float64",
         "type": "float"
        },
        {
         "name": "設定単価",
         "rawType": "float64",
         "type": "float"
        }
       ],
       "conversionMethod": "pd.DataFrame",
       "ref": "f35e7cb6-1b1f-497a-b853-1eb7a6260ac1",
       "rows": [
        [
         "0",
         "金庫",
         "処分費",
         "金庫",
         null,
         "10800.0",
         "180.0",
         "60.0"
        ]
       ],
       "shape": {
        "columns": 7,
        "rows": 1
       }
      },
      "text/html": [
       "<div>\n",
       "<style scoped>\n",
       "    .dataframe tbody tr th:only-of-type {\n",
       "        vertical-align: middle;\n",
       "    }\n",
       "\n",
       "    .dataframe tbody tr th {\n",
       "        vertical-align: top;\n",
       "    }\n",
       "\n",
       "    .dataframe thead th {\n",
       "        text-align: right;\n",
       "    }\n",
       "</style>\n",
       "<table border=\"1\" class=\"dataframe\">\n",
       "  <thead>\n",
       "    <tr style=\"text-align: right;\">\n",
       "      <th></th>\n",
       "      <th>大項目</th>\n",
       "      <th>種類名</th>\n",
       "      <th>品名</th>\n",
       "      <th>セル</th>\n",
       "      <th>値</th>\n",
       "      <th>正味重量</th>\n",
       "      <th>設定単価</th>\n",
       "    </tr>\n",
       "  </thead>\n",
       "  <tbody>\n",
       "    <tr>\n",
       "      <th>0</th>\n",
       "      <td>金庫</td>\n",
       "      <td>処分費</td>\n",
       "      <td>金庫</td>\n",
       "      <td>NaN</td>\n",
       "      <td>10800.0</td>\n",
       "      <td>180.0</td>\n",
       "      <td>60.0</td>\n",
       "    </tr>\n",
       "  </tbody>\n",
       "</table>\n",
       "</div>"
      ],
      "text/plain": [
       "  大項目  種類名  品名   セル        値   正味重量  設定単価\n",
       "0  金庫  処分費  金庫  NaN  10800.0  180.0  60.0"
      ]
     },
     "metadata": {},
     "output_type": "display_data"
    }
   ],
   "source": [
    "from utils.config_loader import get_unit_price_table_csv\n",
    "from logic.manage.utils.multiply_tools import multiply_columns\n",
    "\n",
    "\n",
    "def shobun_cost_yard(df_yard: pd.DataFrame) -> pd.DataFrame:\n",
    "    \"\"\"\n",
    "    Yardデータ（ヤード集荷）から処分コストを計算する関数。\n",
    "\n",
    "    マスターCSVとYard出荷データをマージし、\n",
    "    正味重量および単価を適用した上で、\n",
    "    最終的な「単価 × 正味重量」の金額列（値）を計算する。\n",
    "\n",
    "    Parameters\n",
    "    ----------\n",
    "    df_yard : pd.DataFrame\n",
    "        Yard出荷データのDataFrame。\n",
    "\n",
    "    Returns\n",
    "    -------\n",
    "    pd.DataFrame\n",
    "        単価・正味重量・および「単価 × 正味重量（値）」を含む更新後のマスターDataFrame。\n",
    "    \"\"\"\n",
    "\n",
    "    # --- ① マスターCSVの読み込み ---\n",
    "    config = get_template_config()[\"balance_sheet\"]\n",
    "    master_path = config[\"master_csv_path\"][\"syobun_cost_kinko_yard\"]\n",
    "    master_csv = load_master_and_template(master_path)\n",
    "\n",
    "    # --- ② 正味重量の更新 ---\n",
    "    key_cols = [\"種類名\", \"品名\"]\n",
    "    source_col = \"正味重量\"\n",
    "    master_with_weight = summary_apply(\n",
    "        master_csv,\n",
    "        df_yard,\n",
    "        key_cols,\n",
    "        source_col,\n",
    "        source_col,  # target_colとsource_colが同じ\n",
    "    )\n",
    "\n",
    "    # --- ③ 単価の設定 ---\n",
    "    unit_price_csv = get_unit_price_table_csv()\n",
    "    master_with_price = summary_apply(\n",
    "        master_with_weight,\n",
    "        unit_price_csv,\n",
    "        key_cols,\n",
    "        source_col=\"設定単価\",\n",
    "        target_col=\"設定単価\",\n",
    "    )\n",
    "\n",
    "    # --- ④ 単価×正味重量の計算 ---\n",
    "    result_df = multiply_columns(\n",
    "        master_with_price, col1=\"設定単価\", col2=\"正味重量\", result_col=\"値\"\n",
    "    )\n",
    "\n",
    "    return result_df\n",
    "\n",
    "\n",
    "# --- 呼び出し例 ---\n",
    "master_csv_shobun_cost = shobun_cost_yard(df_yard)\n",
    "display(master_csv_shobun_cost)"
   ]
  },
  {
   "cell_type": "markdown",
   "id": "3f831a2e",
   "metadata": {},
   "source": [
    "### 処分費合計"
   ]
  },
  {
   "cell_type": "code",
   "execution_count": 14,
   "id": "f0dfe484",
   "metadata": {},
   "outputs": [
    {
     "data": {
      "application/vnd.microsoft.datawrangler.viewer.v0+json": {
       "columns": [
        {
         "name": "index",
         "rawType": "int64",
         "type": "integer"
        },
        {
         "name": "大項目",
         "rawType": "object",
         "type": "string"
        },
        {
         "name": "セル",
         "rawType": "object",
         "type": "string"
        },
        {
         "name": "値",
         "rawType": "object",
         "type": "unknown"
        }
       ],
       "conversionMethod": "pd.DataFrame",
       "ref": "f0661597-9981-4034-90c8-cba551eb386c",
       "rows": [
        [
         "0",
         "搬出量",
         "E6",
         "101130.0"
        ],
        [
         "1",
         "処分費",
         "E7",
         null
        ]
       ],
       "shape": {
        "columns": 3,
        "rows": 2
       }
      },
      "text/html": [
       "<div>\n",
       "<style scoped>\n",
       "    .dataframe tbody tr th:only-of-type {\n",
       "        vertical-align: middle;\n",
       "    }\n",
       "\n",
       "    .dataframe tbody tr th {\n",
       "        vertical-align: top;\n",
       "    }\n",
       "\n",
       "    .dataframe thead th {\n",
       "        text-align: right;\n",
       "    }\n",
       "</style>\n",
       "<table border=\"1\" class=\"dataframe\">\n",
       "  <thead>\n",
       "    <tr style=\"text-align: right;\">\n",
       "      <th></th>\n",
       "      <th>大項目</th>\n",
       "      <th>セル</th>\n",
       "      <th>値</th>\n",
       "    </tr>\n",
       "  </thead>\n",
       "  <tbody>\n",
       "    <tr>\n",
       "      <th>0</th>\n",
       "      <td>搬出量</td>\n",
       "      <td>E6</td>\n",
       "      <td>101130.0</td>\n",
       "    </tr>\n",
       "    <tr>\n",
       "      <th>1</th>\n",
       "      <td>処分費</td>\n",
       "      <td>E7</td>\n",
       "      <td>NaN</td>\n",
       "    </tr>\n",
       "  </tbody>\n",
       "</table>\n",
       "</div>"
      ],
      "text/plain": [
       "   大項目  セル         値\n",
       "0  搬出量  E6  101130.0\n",
       "1  処分費  E7       NaN"
      ]
     },
     "execution_count": 14,
     "metadata": {},
     "output_type": "execute_result"
    }
   ],
   "source": [
    "master_csv1"
   ]
  },
  {
   "cell_type": "code",
   "execution_count": null,
   "id": "fde1bdcb",
   "metadata": {},
   "outputs": [
    {
     "name": "stderr",
     "output_type": "stream",
     "text": [
      "/tmp/ipykernel_273019/3117396381.py:12: SettingWithCopyWarning: \n",
      "A value is trying to be set on a copy of a slice from a DataFrame.\n",
      "Try using .loc[row_indexer,col_indexer] = value instead\n",
      "\n",
      "See the caveats in the documentation: https://pandas.pydata.org/pandas-docs/stable/user_guide/indexing.html#returning-a-view-versus-a-copy\n",
      "  df_shipping[\"業者CD\"] = df_shipping[\"業者CD\"].astype(str)\n",
      "2025-05-02 15:42:31,661 [INFO] (summary_tools.py:78) [dd3b4088c738/root] ▶️ マスター更新処理: キー=['業者CD'], 集計列=金額 ➡ 書き込み列=値\n",
      "2025-05-02 15:42:31,730 [INFO] (summary_tools.py:78) [dd3b4088c738/root] ▶️ マスター更新処理: キー=['業者名', '品名'], 集計列=正味重量 ➡ 書き込み列=正味重量\n",
      "2025-05-02 15:42:31,754 [INFO] (summary_tools.py:78) [dd3b4088c738/root] ▶️ マスター更新処理: キー=['業者名', '品名'], 集計列=設定単価 ➡ 書き込み列=設定単価\n",
      "2025-05-02 15:42:31,785 [INFO] (summary_tools.py:78) [dd3b4088c738/root] ▶️ マスター更新処理: キー=['種類名', '品名'], 集計列=正味重量 ➡ 書き込み列=正味重量\n",
      "2025-05-02 15:42:31,812 [INFO] (summary_tools.py:78) [dd3b4088c738/root] ▶️ マスター更新処理: キー=['種類名', '品名'], 集計列=設定単価 ➡ 書き込み列=設定単価\n"
     ]
    },
    {
     "data": {
      "application/vnd.microsoft.datawrangler.viewer.v0+json": {
       "columns": [
        {
         "name": "index",
         "rawType": "int64",
         "type": "integer"
        },
        {
         "name": "大項目",
         "rawType": "object",
         "type": "string"
        },
        {
         "name": "セル",
         "rawType": "object",
         "type": "string"
        },
        {
         "name": "値",
         "rawType": "object",
         "type": "unknown"
        }
       ],
       "conversionMethod": "pd.DataFrame",
       "ref": "280631a7-68cc-4fa8-9f9e-407d03fdbac4",
       "rows": [
        [
         "0",
         "搬出量",
         "E6",
         "101130.0"
        ],
        [
         "1",
         "処分費",
         "E7",
         "1673600.0"
        ]
       ],
       "shape": {
        "columns": 3,
        "rows": 2
       }
      },
      "text/html": [
       "<div>\n",
       "<style scoped>\n",
       "    .dataframe tbody tr th:only-of-type {\n",
       "        vertical-align: middle;\n",
       "    }\n",
       "\n",
       "    .dataframe tbody tr th {\n",
       "        vertical-align: top;\n",
       "    }\n",
       "\n",
       "    .dataframe thead th {\n",
       "        text-align: right;\n",
       "    }\n",
       "</style>\n",
       "<table border=\"1\" class=\"dataframe\">\n",
       "  <thead>\n",
       "    <tr style=\"text-align: right;\">\n",
       "      <th></th>\n",
       "      <th>大項目</th>\n",
       "      <th>セル</th>\n",
       "      <th>値</th>\n",
       "    </tr>\n",
       "  </thead>\n",
       "  <tbody>\n",
       "    <tr>\n",
       "      <th>0</th>\n",
       "      <td>搬出量</td>\n",
       "      <td>E6</td>\n",
       "      <td>101130.0</td>\n",
       "    </tr>\n",
       "    <tr>\n",
       "      <th>1</th>\n",
       "      <td>処分費</td>\n",
       "      <td>E7</td>\n",
       "      <td>1673600.0</td>\n",
       "    </tr>\n",
       "  </tbody>\n",
       "</table>\n",
       "</div>"
      ],
      "text/plain": [
       "   大項目  セル          値\n",
       "0  搬出量  E6   101130.0\n",
       "1  処分費  E7  1673600.0"
      ]
     },
     "execution_count": 15,
     "metadata": {},
     "output_type": "execute_result"
    }
   ],
   "source": [
    "def sum_shobun(df_shobun,df_kinko, df_kinko_yard):\n",
    "\n",
    "    # 列名を変更\n",
    "    df_shobun = df_shobun.rename(columns={\"業者CD\": \"大項目\"})\n",
    "    sum_shobun_total = df_shobun[\"値\"].sum()\n",
    "\n",
    "    # 合計\n",
    "    match_columns = [\"大項目\"]\n",
    "    match_value = [\"処分費\"]\n",
    "    master_csv2 = set_value_fast_safe(master_csv1, match_columns, match_value, sum_shobun_total)\n",
    "\n",
    "    return master_csv2\n",
    "\n",
    "df_shobun = shobun_cost(df_shipping)\n",
    "df_kinko = shobun_cost_kinko(df_shipping)\n",
    "df_kinko_yard = shobun_cost_yard(df_yard)\n",
    "\n",
    "master_csv2 = sum_shobun(df_shobun, df_kinko, df_kinko_yard)\n",
    "master_csv2"
   ]
  },
  {
   "cell_type": "markdown",
   "id": "b452ef8f",
   "metadata": {},
   "source": [
    "## 有価物"
   ]
  },
  {
   "cell_type": "code",
   "execution_count": 15,
   "id": "b67fa0e4",
   "metadata": {},
   "outputs": [],
   "source": [
    "# def read_info():\n",
    "    # --- ① マスターCSVの読み込み ---\n",
    "config = get_template_config()[\"balance_sheet\"]\n",
    "master_path = config[\"master_csv_path\"][\"yuka_shipping\"]\n",
    "master_csv = load_master_and_template(master_path)"
   ]
  },
  {
   "cell_type": "code",
   "execution_count": 16,
   "id": "e73fc9b2",
   "metadata": {},
   "outputs": [
    {
     "data": {
      "application/vnd.microsoft.datawrangler.viewer.v0+json": {
       "columns": [
        {
         "name": "index",
         "rawType": "int64",
         "type": "integer"
        },
        {
         "name": "業者名",
         "rawType": "object",
         "type": "string"
        },
        {
         "name": "値",
         "rawType": "object",
         "type": "unknown"
        }
       ],
       "conversionMethod": "pd.DataFrame",
       "ref": "034047fd-f0d0-4a0a-a37f-e2119ea2f6a4",
       "rows": [
        [
         "0",
         "ｴｺﾏｯｸｽ",
         null
        ],
        [
         "1",
         "宮崎",
         null
        ],
        [
         "2",
         "Y-maxx",
         null
        ],
        [
         "3",
         "ﾐﾀﾞｯｸ",
         null
        ],
        [
         "4",
         "東京紙業城東事業所",
         null
        ],
        [
         "5",
         "新洋",
         null
        ],
        [
         "6",
         "荒井商店【二次】",
         null
        ]
       ],
       "shape": {
        "columns": 2,
        "rows": 7
       }
      },
      "text/html": [
       "<div>\n",
       "<style scoped>\n",
       "    .dataframe tbody tr th:only-of-type {\n",
       "        vertical-align: middle;\n",
       "    }\n",
       "\n",
       "    .dataframe tbody tr th {\n",
       "        vertical-align: top;\n",
       "    }\n",
       "\n",
       "    .dataframe thead th {\n",
       "        text-align: right;\n",
       "    }\n",
       "</style>\n",
       "<table border=\"1\" class=\"dataframe\">\n",
       "  <thead>\n",
       "    <tr style=\"text-align: right;\">\n",
       "      <th></th>\n",
       "      <th>業者名</th>\n",
       "      <th>値</th>\n",
       "    </tr>\n",
       "  </thead>\n",
       "  <tbody>\n",
       "    <tr>\n",
       "      <th>0</th>\n",
       "      <td>ｴｺﾏｯｸｽ</td>\n",
       "      <td>NaN</td>\n",
       "    </tr>\n",
       "    <tr>\n",
       "      <th>1</th>\n",
       "      <td>宮崎</td>\n",
       "      <td>NaN</td>\n",
       "    </tr>\n",
       "    <tr>\n",
       "      <th>2</th>\n",
       "      <td>Y-maxx</td>\n",
       "      <td>NaN</td>\n",
       "    </tr>\n",
       "    <tr>\n",
       "      <th>3</th>\n",
       "      <td>ﾐﾀﾞｯｸ</td>\n",
       "      <td>NaN</td>\n",
       "    </tr>\n",
       "    <tr>\n",
       "      <th>4</th>\n",
       "      <td>東京紙業城東事業所</td>\n",
       "      <td>NaN</td>\n",
       "    </tr>\n",
       "    <tr>\n",
       "      <th>5</th>\n",
       "      <td>新洋</td>\n",
       "      <td>NaN</td>\n",
       "    </tr>\n",
       "    <tr>\n",
       "      <th>6</th>\n",
       "      <td>荒井商店【二次】</td>\n",
       "      <td>NaN</td>\n",
       "    </tr>\n",
       "  </tbody>\n",
       "</table>\n",
       "</div>"
      ],
      "text/plain": [
       "         業者名    値\n",
       "0     ｴｺﾏｯｸｽ  NaN\n",
       "1         宮崎  NaN\n",
       "2     Y-maxx  NaN\n",
       "3      ﾐﾀﾞｯｸ  NaN\n",
       "4  東京紙業城東事業所  NaN\n",
       "5         新洋  NaN\n",
       "6   荒井商店【二次】  NaN"
      ]
     },
     "metadata": {},
     "output_type": "display_data"
    },
    {
     "data": {
      "application/vnd.microsoft.datawrangler.viewer.v0+json": {
       "columns": [
        {
         "name": "index",
         "rawType": "int64",
         "type": "integer"
        },
        {
         "name": "業者CD",
         "rawType": "int64",
         "type": "integer"
        },
        {
         "name": "業者名",
         "rawType": "object",
         "type": "string"
        },
        {
         "name": "金額",
         "rawType": "int64",
         "type": "integer"
        },
        {
         "name": "品名",
         "rawType": "object",
         "type": "string"
        },
        {
         "name": "正味重量",
         "rawType": "int64",
         "type": "integer"
        }
       ],
       "conversionMethod": "pd.DataFrame",
       "ref": "a0378f2c-c197-4e59-8468-1fe3514288a3",
       "rows": [
        [
         "0",
         "8327",
         "丸源起業",
         "305140",
         "混合廃棄物(A)",
         "13870"
        ],
        [
         "1",
         "5238",
         "東京ﾎﾞｰﾄﾞ工業",
         "18340",
         "木くず",
         "2620"
        ],
        [
         "2",
         "1",
         "ｵﾈｽﾄ",
         "0",
         "金属くず ｼｭﾚｯﾀ",
         "730"
        ],
        [
         "3",
         "1",
         "ｵﾈｽﾄ",
         "0",
         "鉄千地",
         "1460"
        ],
        [
         "4",
         "747",
         "宮崎",
         "3500",
         "ﾀﾞﾝﾎﾞｰﾙ",
         "250"
        ],
        [
         "5",
         "5238",
         "東京ﾎﾞｰﾄﾞ工業",
         "14350",
         "木くず",
         "2050"
        ],
        [
         "6",
         "8327",
         "丸源起業",
         "13850",
         "混合廃棄物(A)",
         "0"
        ],
        [
         "7",
         "8425",
         "東京産資源",
         "16750",
         "GB(ｷﾞﾛA)",
         "500"
        ],
        [
         "8",
         "8327",
         "丸源起業",
         "10590",
         "混合廃棄物(B)",
         "0"
        ],
        [
         "9",
         "8425",
         "東京産資源",
         "120015",
         "GB(ｷﾞﾛA)",
         "3810"
        ],
        [
         "10",
         "8425",
         "東京産資源",
         "94500",
         "GB(ｷﾞﾛA)",
         "3000"
        ],
        [
         "11",
         "8425",
         "東京産資源",
         "106785",
         "GB(ｷﾞﾛA)",
         "3390"
        ],
        [
         "12",
         "8425",
         "東京産資源",
         "62685",
         "GB(ｷﾞﾛA)",
         "1990"
        ],
        [
         "13",
         "8334",
         "ｱﾙﾌｧﾌｫﾙﾑ",
         "135000",
         "運搬費（澤希運輸）",
         "0"
        ],
        [
         "14",
         "8334",
         "ｱﾙﾌｧﾌｫﾙﾑ",
         "279620",
         "混合廃棄物",
         "12710"
        ],
        [
         "15",
         "8425",
         "東京産資源",
         "104265",
         "GB(ｷﾞﾛA)",
         "3310"
        ],
        [
         "16",
         "1",
         "ｵﾈｽﾄ",
         "0",
         "GC軽鉄・ｽﾁｰﾙ類",
         "560"
        ],
        [
         "17",
         "5238",
         "東京ﾎﾞｰﾄﾞ工業",
         "19110",
         "木くず",
         "2730"
        ],
        [
         "18",
         "8339",
         "共同土木",
         "97300",
         "混合廃棄物（処理困難物）",
         "2780"
        ],
        [
         "19",
         "8327",
         "丸源起業",
         "307400",
         "混合廃棄物(B)",
         "10600"
        ],
        [
         "20",
         "8463",
         "鴻祥興業",
         "0",
         "込中",
         "310"
        ],
        [
         "21",
         "8463",
         "鴻祥興業",
         "0",
         "配線",
         "2270"
        ],
        [
         "22",
         "8463",
         "鴻祥興業",
         "12650",
         "鉄千地",
         "2530"
        ],
        [
         "23",
         "8340",
         "木材開発",
         "26800",
         "木くず",
         "2680"
        ],
        [
         "24",
         "5238",
         "東京ﾎﾞｰﾄﾞ工業",
         "21140",
         "木くず",
         "3020"
        ],
        [
         "25",
         "8215",
         "杉田建材",
         "424960",
         "廃ﾌﾟﾗｽﾁｯｸ類",
         "13280"
        ],
        [
         "26",
         "1",
         "ｵﾈｽﾄ",
         "0",
         "金属くず ｼｭﾚｯﾀ",
         "490"
        ],
        [
         "27",
         "8463",
         "鴻祥興業",
         "0",
         "ﾓｰﾀｰ",
         "530"
        ],
        [
         "28",
         "8463",
         "鴻祥興業",
         "0",
         "ﾗｼﾞｴﾀｰ",
         "100"
        ],
        [
         "29",
         "8463",
         "鴻祥興業",
         "26700",
         "雑品",
         "890"
        ],
        [
         "30",
         "8463",
         "鴻祥興業",
         "0",
         "上雑品",
         "120"
        ],
        [
         "31",
         "747",
         "宮崎",
         "570",
         "ﾍﾟｯﾄﾎﾞﾄﾙ",
         "190"
        ],
        [
         "32",
         "1",
         "ｵﾈｽﾄ",
         "0",
         "ｱﾙﾐ缶",
         "60"
        ],
        [
         "33",
         "1",
         "ｵﾈｽﾄ",
         "0",
         "ｱﾙﾐ類",
         "450"
        ],
        [
         "34",
         "1",
         "ｵﾈｽﾄ",
         "0",
         "金庫",
         "40"
        ],
        [
         "35",
         "1",
         "ｵﾈｽﾄ",
         "0",
         "金庫",
         "40"
        ]
       ],
       "shape": {
        "columns": 5,
        "rows": 36
       }
      },
      "text/html": [
       "<div>\n",
       "<style scoped>\n",
       "    .dataframe tbody tr th:only-of-type {\n",
       "        vertical-align: middle;\n",
       "    }\n",
       "\n",
       "    .dataframe tbody tr th {\n",
       "        vertical-align: top;\n",
       "    }\n",
       "\n",
       "    .dataframe thead th {\n",
       "        text-align: right;\n",
       "    }\n",
       "</style>\n",
       "<table border=\"1\" class=\"dataframe\">\n",
       "  <thead>\n",
       "    <tr style=\"text-align: right;\">\n",
       "      <th></th>\n",
       "      <th>業者CD</th>\n",
       "      <th>業者名</th>\n",
       "      <th>金額</th>\n",
       "      <th>品名</th>\n",
       "      <th>正味重量</th>\n",
       "    </tr>\n",
       "  </thead>\n",
       "  <tbody>\n",
       "    <tr>\n",
       "      <th>0</th>\n",
       "      <td>8327</td>\n",
       "      <td>丸源起業</td>\n",
       "      <td>305140</td>\n",
       "      <td>混合廃棄物(A)</td>\n",
       "      <td>13870</td>\n",
       "    </tr>\n",
       "    <tr>\n",
       "      <th>1</th>\n",
       "      <td>5238</td>\n",
       "      <td>東京ﾎﾞｰﾄﾞ工業</td>\n",
       "      <td>18340</td>\n",
       "      <td>木くず</td>\n",
       "      <td>2620</td>\n",
       "    </tr>\n",
       "    <tr>\n",
       "      <th>2</th>\n",
       "      <td>1</td>\n",
       "      <td>ｵﾈｽﾄ</td>\n",
       "      <td>0</td>\n",
       "      <td>金属くず ｼｭﾚｯﾀ</td>\n",
       "      <td>730</td>\n",
       "    </tr>\n",
       "    <tr>\n",
       "      <th>3</th>\n",
       "      <td>1</td>\n",
       "      <td>ｵﾈｽﾄ</td>\n",
       "      <td>0</td>\n",
       "      <td>鉄千地</td>\n",
       "      <td>1460</td>\n",
       "    </tr>\n",
       "    <tr>\n",
       "      <th>4</th>\n",
       "      <td>747</td>\n",
       "      <td>宮崎</td>\n",
       "      <td>3500</td>\n",
       "      <td>ﾀﾞﾝﾎﾞｰﾙ</td>\n",
       "      <td>250</td>\n",
       "    </tr>\n",
       "    <tr>\n",
       "      <th>5</th>\n",
       "      <td>5238</td>\n",
       "      <td>東京ﾎﾞｰﾄﾞ工業</td>\n",
       "      <td>14350</td>\n",
       "      <td>木くず</td>\n",
       "      <td>2050</td>\n",
       "    </tr>\n",
       "    <tr>\n",
       "      <th>6</th>\n",
       "      <td>8327</td>\n",
       "      <td>丸源起業</td>\n",
       "      <td>13850</td>\n",
       "      <td>混合廃棄物(A)</td>\n",
       "      <td>0</td>\n",
       "    </tr>\n",
       "    <tr>\n",
       "      <th>7</th>\n",
       "      <td>8425</td>\n",
       "      <td>東京産資源</td>\n",
       "      <td>16750</td>\n",
       "      <td>GB(ｷﾞﾛA)</td>\n",
       "      <td>500</td>\n",
       "    </tr>\n",
       "    <tr>\n",
       "      <th>8</th>\n",
       "      <td>8327</td>\n",
       "      <td>丸源起業</td>\n",
       "      <td>10590</td>\n",
       "      <td>混合廃棄物(B)</td>\n",
       "      <td>0</td>\n",
       "    </tr>\n",
       "    <tr>\n",
       "      <th>9</th>\n",
       "      <td>8425</td>\n",
       "      <td>東京産資源</td>\n",
       "      <td>120015</td>\n",
       "      <td>GB(ｷﾞﾛA)</td>\n",
       "      <td>3810</td>\n",
       "    </tr>\n",
       "    <tr>\n",
       "      <th>10</th>\n",
       "      <td>8425</td>\n",
       "      <td>東京産資源</td>\n",
       "      <td>94500</td>\n",
       "      <td>GB(ｷﾞﾛA)</td>\n",
       "      <td>3000</td>\n",
       "    </tr>\n",
       "    <tr>\n",
       "      <th>11</th>\n",
       "      <td>8425</td>\n",
       "      <td>東京産資源</td>\n",
       "      <td>106785</td>\n",
       "      <td>GB(ｷﾞﾛA)</td>\n",
       "      <td>3390</td>\n",
       "    </tr>\n",
       "    <tr>\n",
       "      <th>12</th>\n",
       "      <td>8425</td>\n",
       "      <td>東京産資源</td>\n",
       "      <td>62685</td>\n",
       "      <td>GB(ｷﾞﾛA)</td>\n",
       "      <td>1990</td>\n",
       "    </tr>\n",
       "    <tr>\n",
       "      <th>13</th>\n",
       "      <td>8334</td>\n",
       "      <td>ｱﾙﾌｧﾌｫﾙﾑ</td>\n",
       "      <td>135000</td>\n",
       "      <td>運搬費（澤希運輸）</td>\n",
       "      <td>0</td>\n",
       "    </tr>\n",
       "    <tr>\n",
       "      <th>14</th>\n",
       "      <td>8334</td>\n",
       "      <td>ｱﾙﾌｧﾌｫﾙﾑ</td>\n",
       "      <td>279620</td>\n",
       "      <td>混合廃棄物</td>\n",
       "      <td>12710</td>\n",
       "    </tr>\n",
       "    <tr>\n",
       "      <th>15</th>\n",
       "      <td>8425</td>\n",
       "      <td>東京産資源</td>\n",
       "      <td>104265</td>\n",
       "      <td>GB(ｷﾞﾛA)</td>\n",
       "      <td>3310</td>\n",
       "    </tr>\n",
       "    <tr>\n",
       "      <th>16</th>\n",
       "      <td>1</td>\n",
       "      <td>ｵﾈｽﾄ</td>\n",
       "      <td>0</td>\n",
       "      <td>GC軽鉄・ｽﾁｰﾙ類</td>\n",
       "      <td>560</td>\n",
       "    </tr>\n",
       "    <tr>\n",
       "      <th>17</th>\n",
       "      <td>5238</td>\n",
       "      <td>東京ﾎﾞｰﾄﾞ工業</td>\n",
       "      <td>19110</td>\n",
       "      <td>木くず</td>\n",
       "      <td>2730</td>\n",
       "    </tr>\n",
       "    <tr>\n",
       "      <th>18</th>\n",
       "      <td>8339</td>\n",
       "      <td>共同土木</td>\n",
       "      <td>97300</td>\n",
       "      <td>混合廃棄物（処理困難物）</td>\n",
       "      <td>2780</td>\n",
       "    </tr>\n",
       "    <tr>\n",
       "      <th>19</th>\n",
       "      <td>8327</td>\n",
       "      <td>丸源起業</td>\n",
       "      <td>307400</td>\n",
       "      <td>混合廃棄物(B)</td>\n",
       "      <td>10600</td>\n",
       "    </tr>\n",
       "    <tr>\n",
       "      <th>20</th>\n",
       "      <td>8463</td>\n",
       "      <td>鴻祥興業</td>\n",
       "      <td>0</td>\n",
       "      <td>込中</td>\n",
       "      <td>310</td>\n",
       "    </tr>\n",
       "    <tr>\n",
       "      <th>21</th>\n",
       "      <td>8463</td>\n",
       "      <td>鴻祥興業</td>\n",
       "      <td>0</td>\n",
       "      <td>配線</td>\n",
       "      <td>2270</td>\n",
       "    </tr>\n",
       "    <tr>\n",
       "      <th>22</th>\n",
       "      <td>8463</td>\n",
       "      <td>鴻祥興業</td>\n",
       "      <td>12650</td>\n",
       "      <td>鉄千地</td>\n",
       "      <td>2530</td>\n",
       "    </tr>\n",
       "    <tr>\n",
       "      <th>23</th>\n",
       "      <td>8340</td>\n",
       "      <td>木材開発</td>\n",
       "      <td>26800</td>\n",
       "      <td>木くず</td>\n",
       "      <td>2680</td>\n",
       "    </tr>\n",
       "    <tr>\n",
       "      <th>24</th>\n",
       "      <td>5238</td>\n",
       "      <td>東京ﾎﾞｰﾄﾞ工業</td>\n",
       "      <td>21140</td>\n",
       "      <td>木くず</td>\n",
       "      <td>3020</td>\n",
       "    </tr>\n",
       "    <tr>\n",
       "      <th>25</th>\n",
       "      <td>8215</td>\n",
       "      <td>杉田建材</td>\n",
       "      <td>424960</td>\n",
       "      <td>廃ﾌﾟﾗｽﾁｯｸ類</td>\n",
       "      <td>13280</td>\n",
       "    </tr>\n",
       "    <tr>\n",
       "      <th>26</th>\n",
       "      <td>1</td>\n",
       "      <td>ｵﾈｽﾄ</td>\n",
       "      <td>0</td>\n",
       "      <td>金属くず ｼｭﾚｯﾀ</td>\n",
       "      <td>490</td>\n",
       "    </tr>\n",
       "    <tr>\n",
       "      <th>27</th>\n",
       "      <td>8463</td>\n",
       "      <td>鴻祥興業</td>\n",
       "      <td>0</td>\n",
       "      <td>ﾓｰﾀｰ</td>\n",
       "      <td>530</td>\n",
       "    </tr>\n",
       "    <tr>\n",
       "      <th>28</th>\n",
       "      <td>8463</td>\n",
       "      <td>鴻祥興業</td>\n",
       "      <td>0</td>\n",
       "      <td>ﾗｼﾞｴﾀｰ</td>\n",
       "      <td>100</td>\n",
       "    </tr>\n",
       "    <tr>\n",
       "      <th>29</th>\n",
       "      <td>8463</td>\n",
       "      <td>鴻祥興業</td>\n",
       "      <td>26700</td>\n",
       "      <td>雑品</td>\n",
       "      <td>890</td>\n",
       "    </tr>\n",
       "    <tr>\n",
       "      <th>30</th>\n",
       "      <td>8463</td>\n",
       "      <td>鴻祥興業</td>\n",
       "      <td>0</td>\n",
       "      <td>上雑品</td>\n",
       "      <td>120</td>\n",
       "    </tr>\n",
       "    <tr>\n",
       "      <th>31</th>\n",
       "      <td>747</td>\n",
       "      <td>宮崎</td>\n",
       "      <td>570</td>\n",
       "      <td>ﾍﾟｯﾄﾎﾞﾄﾙ</td>\n",
       "      <td>190</td>\n",
       "    </tr>\n",
       "    <tr>\n",
       "      <th>32</th>\n",
       "      <td>1</td>\n",
       "      <td>ｵﾈｽﾄ</td>\n",
       "      <td>0</td>\n",
       "      <td>ｱﾙﾐ缶</td>\n",
       "      <td>60</td>\n",
       "    </tr>\n",
       "    <tr>\n",
       "      <th>33</th>\n",
       "      <td>1</td>\n",
       "      <td>ｵﾈｽﾄ</td>\n",
       "      <td>0</td>\n",
       "      <td>ｱﾙﾐ類</td>\n",
       "      <td>450</td>\n",
       "    </tr>\n",
       "    <tr>\n",
       "      <th>34</th>\n",
       "      <td>1</td>\n",
       "      <td>ｵﾈｽﾄ</td>\n",
       "      <td>0</td>\n",
       "      <td>金庫</td>\n",
       "      <td>40</td>\n",
       "    </tr>\n",
       "    <tr>\n",
       "      <th>35</th>\n",
       "      <td>1</td>\n",
       "      <td>ｵﾈｽﾄ</td>\n",
       "      <td>0</td>\n",
       "      <td>金庫</td>\n",
       "      <td>40</td>\n",
       "    </tr>\n",
       "  </tbody>\n",
       "</table>\n",
       "</div>"
      ],
      "text/plain": [
       "    業者CD        業者名      金額            品名   正味重量\n",
       "0   8327       丸源起業  305140      混合廃棄物(A)  13870\n",
       "1   5238  東京ﾎﾞｰﾄﾞ工業   18340           木くず   2620\n",
       "2      1       ｵﾈｽﾄ       0    金属くず ｼｭﾚｯﾀ    730\n",
       "3      1       ｵﾈｽﾄ       0           鉄千地   1460\n",
       "4    747         宮崎    3500       ﾀﾞﾝﾎﾞｰﾙ    250\n",
       "5   5238  東京ﾎﾞｰﾄﾞ工業   14350           木くず   2050\n",
       "6   8327       丸源起業   13850      混合廃棄物(A)      0\n",
       "7   8425      東京産資源   16750      GB(ｷﾞﾛA)    500\n",
       "8   8327       丸源起業   10590      混合廃棄物(B)      0\n",
       "9   8425      東京産資源  120015      GB(ｷﾞﾛA)   3810\n",
       "10  8425      東京産資源   94500      GB(ｷﾞﾛA)   3000\n",
       "11  8425      東京産資源  106785      GB(ｷﾞﾛA)   3390\n",
       "12  8425      東京産資源   62685      GB(ｷﾞﾛA)   1990\n",
       "13  8334   ｱﾙﾌｧﾌｫﾙﾑ  135000     運搬費（澤希運輸）      0\n",
       "14  8334   ｱﾙﾌｧﾌｫﾙﾑ  279620         混合廃棄物  12710\n",
       "15  8425      東京産資源  104265      GB(ｷﾞﾛA)   3310\n",
       "16     1       ｵﾈｽﾄ       0    GC軽鉄・ｽﾁｰﾙ類    560\n",
       "17  5238  東京ﾎﾞｰﾄﾞ工業   19110           木くず   2730\n",
       "18  8339       共同土木   97300  混合廃棄物（処理困難物）   2780\n",
       "19  8327       丸源起業  307400      混合廃棄物(B)  10600\n",
       "20  8463       鴻祥興業       0            込中    310\n",
       "21  8463       鴻祥興業       0            配線   2270\n",
       "22  8463       鴻祥興業   12650           鉄千地   2530\n",
       "23  8340       木材開発   26800           木くず   2680\n",
       "24  5238  東京ﾎﾞｰﾄﾞ工業   21140           木くず   3020\n",
       "25  8215       杉田建材  424960     廃ﾌﾟﾗｽﾁｯｸ類  13280\n",
       "26     1       ｵﾈｽﾄ       0    金属くず ｼｭﾚｯﾀ    490\n",
       "27  8463       鴻祥興業       0          ﾓｰﾀｰ    530\n",
       "28  8463       鴻祥興業       0        ﾗｼﾞｴﾀｰ    100\n",
       "29  8463       鴻祥興業   26700            雑品    890\n",
       "30  8463       鴻祥興業       0           上雑品    120\n",
       "31   747         宮崎     570      ﾍﾟｯﾄﾎﾞﾄﾙ    190\n",
       "32     1       ｵﾈｽﾄ       0          ｱﾙﾐ缶     60\n",
       "33     1       ｵﾈｽﾄ       0          ｱﾙﾐ類    450\n",
       "34     1       ｵﾈｽﾄ       0            金庫     40\n",
       "35     1       ｵﾈｽﾄ       0            金庫     40"
      ]
     },
     "execution_count": 16,
     "metadata": {},
     "output_type": "execute_result"
    }
   ],
   "source": [
    "display(master_csv)\n",
    "df_shipping"
   ]
  },
  {
   "cell_type": "code",
   "execution_count": 18,
   "id": "5c0e0d39",
   "metadata": {},
   "outputs": [
    {
     "data": {
      "text/plain": [
       "業者名\n",
       "丸源起業         636980\n",
       "共同土木          97300\n",
       "宮崎             4070\n",
       "木材開発          26800\n",
       "杉田建材         424960\n",
       "東京産資源        505000\n",
       "東京ﾎﾞｰﾄﾞ工業     72940\n",
       "鴻祥興業          39350\n",
       "ｱﾙﾌｧﾌｫﾙﾑ     414620\n",
       "ｵﾈｽﾄ              0\n",
       "Name: 金額, dtype: int64"
      ]
     },
     "execution_count": 18,
     "metadata": {},
     "output_type": "execute_result"
    }
   ],
   "source": [
    "# 合計\n",
    "df = df_shipping.groupby(\"業者名\")[\"金額\"].sum()\n",
    "df\n"
   ]
  },
  {
   "cell_type": "code",
   "execution_count": null,
   "id": "c61b1ff6",
   "metadata": {},
   "outputs": [],
   "source": []
  }
 ],
 "metadata": {
  "kernelspec": {
   "display_name": "Python 3",
   "language": "python",
   "name": "python3"
  },
  "language_info": {
   "codemirror_mode": {
    "name": "ipython",
    "version": 3
   },
   "file_extension": ".py",
   "mimetype": "text/x-python",
   "name": "python",
   "nbconvert_exporter": "python",
   "pygments_lexer": "ipython3",
   "version": "3.10.17"
  }
 },
 "nbformat": 4,
 "nbformat_minor": 5
}
